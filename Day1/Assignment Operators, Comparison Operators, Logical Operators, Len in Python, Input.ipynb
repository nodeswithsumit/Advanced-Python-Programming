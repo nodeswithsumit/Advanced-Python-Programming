{
 "cells": [
  {
   "cell_type": "markdown",
   "id": "d2db75cc",
   "metadata": {},
   "source": [
    "### Assignment Operators\n",
    "These operators are used to assign values to the variables. "
   ]
  },
  {
   "cell_type": "code",
   "execution_count": 4,
   "id": "09b4ecae",
   "metadata": {},
   "outputs": [
    {
     "data": {
      "text/plain": [
       "7"
      ]
     },
     "execution_count": 4,
     "metadata": {},
     "output_type": "execute_result"
    }
   ],
   "source": [
    "x = 5 \n",
    "x = 5 + 2  , x+= 2\n",
    "x"
   ]
  },
  {
   "cell_type": "code",
   "execution_count": 5,
   "id": "248deb3f",
   "metadata": {},
   "outputs": [
    {
     "data": {
      "text/plain": [
       "9"
      ]
     },
     "execution_count": 5,
     "metadata": {},
     "output_type": "execute_result"
    }
   ],
   "source": [
    "x += 2\n",
    "x"
   ]
  },
  {
   "cell_type": "code",
   "execution_count": 6,
   "id": "0473916c",
   "metadata": {},
   "outputs": [
    {
     "data": {
      "text/plain": [
       "4"
      ]
     },
     "execution_count": 6,
     "metadata": {},
     "output_type": "execute_result"
    }
   ],
   "source": [
    "x-= 5\n",
    "x"
   ]
  },
  {
   "cell_type": "code",
   "execution_count": 7,
   "id": "8c8bd613",
   "metadata": {},
   "outputs": [
    {
     "data": {
      "text/plain": [
       "8"
      ]
     },
     "execution_count": 7,
     "metadata": {},
     "output_type": "execute_result"
    }
   ],
   "source": [
    "x*= 2\n",
    "x"
   ]
  },
  {
   "cell_type": "code",
   "execution_count": 6,
   "id": "7ebf214d",
   "metadata": {},
   "outputs": [
    {
     "data": {
      "text/plain": [
       "'icecream'"
      ]
     },
     "execution_count": 6,
     "metadata": {},
     "output_type": "execute_result"
    }
   ],
   "source": [
    "'''String Concatenation'''\n",
    "x = 'ice'\n",
    "y = 'cream'\n",
    "x + y"
   ]
  },
  {
   "cell_type": "code",
   "execution_count": 6,
   "id": "75e04938",
   "metadata": {},
   "outputs": [
    {
     "data": {
      "text/plain": [
       "'icecream'"
      ]
     },
     "execution_count": 6,
     "metadata": {},
     "output_type": "execute_result"
    }
   ],
   "source": [
    "x+=y\n",
    "x"
   ]
  },
  {
   "cell_type": "code",
   "execution_count": 7,
   "id": "a0a8bdee",
   "metadata": {},
   "outputs": [
    {
     "data": {
      "text/plain": [
       "'icecream'"
      ]
     },
     "execution_count": 7,
     "metadata": {},
     "output_type": "execute_result"
    }
   ],
   "source": [
    "x"
   ]
  },
  {
   "cell_type": "markdown",
   "id": "f98eb81b",
   "metadata": {},
   "source": [
    "### Comparison Operators\n",
    "These operators are used to compare two or more given values.\n",
    "* Greater Than  >\n",
    "* Lesser Than <\n",
    "* Greater Than >=\n",
    "* Less Than <=\n",
    "* Not Equals to !=\n",
    "* Equals to  =="
   ]
  },
  {
   "cell_type": "code",
   "execution_count": 8,
   "id": "888a62a8",
   "metadata": {},
   "outputs": [
    {
     "data": {
      "text/plain": [
       "(False, True)"
      ]
     },
     "execution_count": 8,
     "metadata": {},
     "output_type": "execute_result"
    }
   ],
   "source": [
    "3==5, 5!=6 "
   ]
  },
  {
   "cell_type": "code",
   "execution_count": 9,
   "id": "755c3ac8",
   "metadata": {},
   "outputs": [
    {
     "data": {
      "text/plain": [
       "(False, True)"
      ]
     },
     "execution_count": 9,
     "metadata": {},
     "output_type": "execute_result"
    }
   ],
   "source": [
    "4 > 6, 3< 4"
   ]
  },
  {
   "cell_type": "code",
   "execution_count": 10,
   "id": "1191c7c6",
   "metadata": {},
   "outputs": [
    {
     "data": {
      "text/plain": [
       "(False, True)"
      ]
     },
     "execution_count": 10,
     "metadata": {},
     "output_type": "execute_result"
    }
   ],
   "source": [
    "2 >= 3, 4<= 5"
   ]
  },
  {
   "cell_type": "code",
   "execution_count": 11,
   "id": "b7de804f",
   "metadata": {},
   "outputs": [
    {
     "data": {
      "text/plain": [
       "(False, True)"
      ]
     },
     "execution_count": 11,
     "metadata": {},
     "output_type": "execute_result"
    }
   ],
   "source": [
    "6 >= 10, 15<=45"
   ]
  },
  {
   "cell_type": "markdown",
   "id": "74a97d45",
   "metadata": {},
   "source": [
    "### Logical Operators\n",
    "These operators are used to perform boolean operations and check whether two or more given cases are logically correct. These are checked using and, or,  not where and stand for (*) and or stands for (+)."
   ]
  },
  {
   "cell_type": "code",
   "execution_count": 24,
   "id": "1d4d8d19",
   "metadata": {},
   "outputs": [
    {
     "data": {
      "text/plain": [
       "(True, False, False, False)"
      ]
     },
     "execution_count": 24,
     "metadata": {},
     "output_type": "execute_result"
    }
   ],
   "source": [
    "'''And Or Not'''\n",
    "\n",
    "\n",
    "# Truth Table\n",
    "'''AND(*)'''\n",
    "True and True, True and False, False and False, False and True"
   ]
  },
  {
   "cell_type": "code",
   "execution_count": 25,
   "id": "26b8ecf8",
   "metadata": {},
   "outputs": [
    {
     "data": {
      "text/plain": [
       "(True, True, False, True)"
      ]
     },
     "execution_count": 25,
     "metadata": {},
     "output_type": "execute_result"
    }
   ],
   "source": [
    "'''OR(+)'''\n",
    "True or True, True or False, False or False, False or True"
   ]
  },
  {
   "cell_type": "code",
   "execution_count": 27,
   "id": "10e92725",
   "metadata": {},
   "outputs": [
    {
     "data": {
      "text/plain": [
       "(False, True)"
      ]
     },
     "execution_count": 27,
     "metadata": {},
     "output_type": "execute_result"
    }
   ],
   "source": [
    "'''NOT'''\n",
    "not True, not False "
   ]
  },
  {
   "cell_type": "code",
   "execution_count": 28,
   "id": "57d396d3",
   "metadata": {},
   "outputs": [
    {
     "data": {
      "text/plain": [
       "False"
      ]
     },
     "execution_count": 28,
     "metadata": {},
     "output_type": "execute_result"
    }
   ],
   "source": [
    "not not not 1"
   ]
  },
  {
   "cell_type": "markdown",
   "id": "be24dbdd",
   "metadata": {},
   "source": [
    "### membership operators\n",
    "These operators are used for checking whether a given member is present in variable or not. \n",
    "\n",
    "```python\n",
    "x = 'aditya'\n",
    "print('s' not in x)\n",
    "```\n",
    "\n",
    "```python\n",
    "True\n",
    "```\n",
    "\n",
    "```python\n",
    "x = 'aditya'\n",
    "print('a' in x)\n",
    "```\n",
    "\n",
    "```python\n",
    "True\n",
    "```"
   ]
  },
  {
   "cell_type": "markdown",
   "id": "89b3a841",
   "metadata": {},
   "source": [
    "### Length of Sequences in Python"
   ]
  },
  {
   "cell_type": "code",
   "execution_count": 12,
   "id": "d0a945a8",
   "metadata": {},
   "outputs": [
    {
     "data": {
      "text/plain": [
       "5"
      ]
     },
     "execution_count": 12,
     "metadata": {},
     "output_type": "execute_result"
    }
   ],
   "source": [
    "names = ['Alex','Bran','Cookie','Limpy','Sandy']\n",
    "len(names)"
   ]
  },
  {
   "cell_type": "code",
   "execution_count": 34,
   "id": "b408fab0",
   "metadata": {},
   "outputs": [
    {
     "data": {
      "text/plain": [
       "(5, 5, 4)"
      ]
     },
     "execution_count": 34,
     "metadata": {},
     "output_type": "execute_result"
    }
   ],
   "source": [
    "len(set(names)), len(tuple(names)), len('Alex')"
   ]
  },
  {
   "cell_type": "markdown",
   "id": "1c473f63",
   "metadata": {},
   "source": [
    "### I/O in Python"
   ]
  },
  {
   "cell_type": "code",
   "execution_count": 36,
   "id": "d86cd9ca",
   "metadata": {},
   "outputs": [
    {
     "data": {
      "text/plain": [
       "'Python 3 Version'"
      ]
     },
     "execution_count": 36,
     "metadata": {},
     "output_type": "execute_result"
    }
   ],
   "source": [
    "'''Python 2'''\n",
    "'''raw_input()''' # used to take inputs in string\n",
    "'''input()''' #  numeric input\n",
    "\n",
    "'''Python 3 Version'''\n",
    "# int, str, float, eval -- complex\n",
    "# by default data type is str."
   ]
  },
  {
   "cell_type": "code",
   "execution_count": 7,
   "id": "76cb95e6",
   "metadata": {},
   "outputs": [
    {
     "name": "stdout",
     "output_type": "stream",
     "text": [
      "Enter Name: learnpython\n",
      "learnpython@google.com\n"
     ]
    }
   ],
   "source": [
    "'''take user input and add @google.com to it'''\n",
    "name = input('Enter Name: ')\n",
    "print(name + '@google.com')"
   ]
  },
  {
   "cell_type": "code",
   "execution_count": 11,
   "id": "c7311a39",
   "metadata": {},
   "outputs": [
    {
     "name": "stdout",
     "output_type": "stream",
     "text": [
      "Enter values with spaces: 3 4 5\n"
     ]
    }
   ],
   "source": [
    "a, b, c = input('Enter values with spaces: ').split() # by default space split"
   ]
  },
  {
   "cell_type": "code",
   "execution_count": 12,
   "id": "42cb4f35",
   "metadata": {},
   "outputs": [
    {
     "data": {
      "text/plain": [
       "('3', '4', '5')"
      ]
     },
     "execution_count": 12,
     "metadata": {},
     "output_type": "execute_result"
    }
   ],
   "source": [
    "a, b, c"
   ]
  },
  {
   "cell_type": "code",
   "execution_count": 14,
   "id": "e3d9663b",
   "metadata": {},
   "outputs": [],
   "source": [
    "\"FirstName\"\n",
    "\"LastName\"\n",
    "\n",
    "name = 'Vivek Kumar Gupta'\n",
    "First, Middle, Last = name.split()"
   ]
  },
  {
   "cell_type": "code",
   "execution_count": 15,
   "id": "3502a40e",
   "metadata": {},
   "outputs": [
    {
     "data": {
      "text/plain": [
       "('Vivek', 'Kumar', 'Gupta')"
      ]
     },
     "execution_count": 15,
     "metadata": {},
     "output_type": "execute_result"
    }
   ],
   "source": [
    "First, Middle, Last"
   ]
  },
  {
   "cell_type": "code",
   "execution_count": 20,
   "id": "215c323f",
   "metadata": {},
   "outputs": [
    {
     "name": "stdout",
     "output_type": "stream",
     "text": [
      "Enter marks obtained: 485.9\n"
     ]
    },
    {
     "data": {
      "text/plain": [
       "97.18"
      ]
     },
     "execution_count": 20,
     "metadata": {},
     "output_type": "execute_result"
    }
   ],
   "source": [
    "'''Numeric Inputs'''\n",
    "\n",
    "obtained = float(input('Enter marks obtained: '))\n",
    "percentage = obtained/500*100\n",
    "percentage"
   ]
  },
  {
   "cell_type": "code",
   "execution_count": 8,
   "id": "a6846e8f",
   "metadata": {},
   "outputs": [
    {
     "name": "stdout",
     "output_type": "stream",
     "text": [
      "Enter marks obtained: 480.5\n"
     ]
    },
    {
     "data": {
      "text/plain": [
       "96.1"
      ]
     },
     "execution_count": 8,
     "metadata": {},
     "output_type": "execute_result"
    }
   ],
   "source": [
    "obtained = float(input('Enter marks obtained: '))\n",
    "percentage = obtained/500*100\n",
    "percentage"
   ]
  },
  {
   "cell_type": "code",
   "execution_count": 21,
   "id": "4840baf9",
   "metadata": {},
   "outputs": [
    {
     "name": "stdout",
     "output_type": "stream",
     "text": [
      "Enter Complex No: 25j\n"
     ]
    },
    {
     "data": {
      "text/plain": [
       "(2+25j)"
      ]
     },
     "execution_count": 21,
     "metadata": {},
     "output_type": "execute_result"
    }
   ],
   "source": [
    "'''eval()'''\n",
    "\n",
    "x = 50j\n",
    "y = eval(input('Enter Complex No: '))\n",
    "x + 2-y # 50j+2-(25j)"
   ]
  },
  {
   "cell_type": "code",
   "execution_count": 26,
   "id": "a9e50d73",
   "metadata": {},
   "outputs": [
    {
     "data": {
      "text/plain": [
       "(150j, 68, 150j)"
      ]
     },
     "execution_count": 26,
     "metadata": {},
     "output_type": "execute_result"
    }
   ],
   "source": [
    "eval('x')*3, eval('34')*2, x*3"
   ]
  },
  {
   "cell_type": "code",
   "execution_count": 27,
   "id": "6b373749",
   "metadata": {},
   "outputs": [
    {
     "name": "stdout",
     "output_type": "stream",
     "text": [
      "2023-01-19 20:05:27.182285\n"
     ]
    }
   ],
   "source": [
    "import datetime\n",
    "print(datetime.datetime.now())"
   ]
  },
  {
   "cell_type": "code",
   "execution_count": 28,
   "id": "f69f5a1f",
   "metadata": {},
   "outputs": [
    {
     "name": "stdout",
     "output_type": "stream",
     "text": [
      "   February 2025\n",
      "Mo Tu We Th Fr Sa Su\n",
      "                1  2\n",
      " 3  4  5  6  7  8  9\n",
      "10 11 12 13 14 15 16\n",
      "17 18 19 20 21 22 23\n",
      "24 25 26 27 28\n",
      "\n"
     ]
    }
   ],
   "source": [
    "import calendar\n",
    "print(calendar.month(2025, 2))"
   ]
  },
  {
   "cell_type": "code",
   "execution_count": 31,
   "id": "1284a8b0",
   "metadata": {},
   "outputs": [
    {
     "name": "stdout",
     "output_type": "stream",
     "text": [
      "                                  1947\n",
      "\n",
      "      January                   February                   March\n",
      "Mo Tu We Th Fr Sa Su      Mo Tu We Th Fr Sa Su      Mo Tu We Th Fr Sa Su\n",
      "       1  2  3  4  5                      1  2                      1  2\n",
      " 6  7  8  9 10 11 12       3  4  5  6  7  8  9       3  4  5  6  7  8  9\n",
      "13 14 15 16 17 18 19      10 11 12 13 14 15 16      10 11 12 13 14 15 16\n",
      "20 21 22 23 24 25 26      17 18 19 20 21 22 23      17 18 19 20 21 22 23\n",
      "27 28 29 30 31            24 25 26 27 28            24 25 26 27 28 29 30\n",
      "                                                    31\n",
      "\n",
      "       April                      May                       June\n",
      "Mo Tu We Th Fr Sa Su      Mo Tu We Th Fr Sa Su      Mo Tu We Th Fr Sa Su\n",
      "    1  2  3  4  5  6                1  2  3  4                         1\n",
      " 7  8  9 10 11 12 13       5  6  7  8  9 10 11       2  3  4  5  6  7  8\n",
      "14 15 16 17 18 19 20      12 13 14 15 16 17 18       9 10 11 12 13 14 15\n",
      "21 22 23 24 25 26 27      19 20 21 22 23 24 25      16 17 18 19 20 21 22\n",
      "28 29 30                  26 27 28 29 30 31         23 24 25 26 27 28 29\n",
      "                                                    30\n",
      "\n",
      "        July                     August                  September\n",
      "Mo Tu We Th Fr Sa Su      Mo Tu We Th Fr Sa Su      Mo Tu We Th Fr Sa Su\n",
      "    1  2  3  4  5  6                   1  2  3       1  2  3  4  5  6  7\n",
      " 7  8  9 10 11 12 13       4  5  6  7  8  9 10       8  9 10 11 12 13 14\n",
      "14 15 16 17 18 19 20      11 12 13 14 15 16 17      15 16 17 18 19 20 21\n",
      "21 22 23 24 25 26 27      18 19 20 21 22 23 24      22 23 24 25 26 27 28\n",
      "28 29 30 31               25 26 27 28 29 30 31      29 30\n",
      "\n",
      "      October                   November                  December\n",
      "Mo Tu We Th Fr Sa Su      Mo Tu We Th Fr Sa Su      Mo Tu We Th Fr Sa Su\n",
      "       1  2  3  4  5                      1  2       1  2  3  4  5  6  7\n",
      " 6  7  8  9 10 11 12       3  4  5  6  7  8  9       8  9 10 11 12 13 14\n",
      "13 14 15 16 17 18 19      10 11 12 13 14 15 16      15 16 17 18 19 20 21\n",
      "20 21 22 23 24 25 26      17 18 19 20 21 22 23      22 23 24 25 26 27 28\n",
      "27 28 29 30 31            24 25 26 27 28 29 30      29 30 31\n",
      "\n"
     ]
    }
   ],
   "source": [
    "print(calendar.calendar(1947))"
   ]
  },
  {
   "cell_type": "code",
   "execution_count": 29,
   "id": "3b8702a3",
   "metadata": {},
   "outputs": [
    {
     "data": {
      "text/plain": [
       "True"
      ]
     },
     "execution_count": 29,
     "metadata": {},
     "output_type": "execute_result"
    }
   ],
   "source": [
    "not not 6"
   ]
  },
  {
   "cell_type": "code",
   "execution_count": 33,
   "id": "93219214",
   "metadata": {},
   "outputs": [
    {
     "data": {
      "text/plain": [
       "True"
      ]
     },
     "execution_count": 33,
     "metadata": {},
     "output_type": "execute_result"
    }
   ],
   "source": [
    "not 1 * (not not 0)"
   ]
  },
  {
   "cell_type": "code",
   "execution_count": 33,
   "id": "8b897493",
   "metadata": {},
   "outputs": [
    {
     "data": {
      "text/plain": [
       "array([[0., 0., 0., 0., 0., 0., 0., 0.],\n",
       "       [0., 0., 0., 0., 0., 0., 0., 0.],\n",
       "       [0., 0., 0., 0., 0., 0., 0., 0.],\n",
       "       [0., 0., 0., 0., 0., 0., 0., 0.],\n",
       "       [0., 0., 0., 0., 0., 0., 0., 0.],\n",
       "       [0., 0., 0., 0., 0., 0., 0., 0.],\n",
       "       [0., 0., 0., 0., 0., 0., 0., 0.],\n",
       "       [0., 0., 0., 0., 0., 0., 0., 0.]])"
      ]
     },
     "execution_count": 33,
     "metadata": {},
     "output_type": "execute_result"
    }
   ],
   "source": [
    "import numpy as np\n",
    "x = np.zeros([8, 8])\n",
    "x"
   ]
  },
  {
   "cell_type": "code",
   "execution_count": 34,
   "id": "67381e5f",
   "metadata": {},
   "outputs": [
    {
     "data": {
      "text/plain": [
       "array([['1', '0', '1', '0', '1', '0', '1', '0'],\n",
       "       ['0', '1', '0', '1', '0', '1', '0', '1'],\n",
       "       ['1', '0', '1', '0', '1', '0', '1', '0'],\n",
       "       ['0', '1', '0', '1', '0', '1', '0', '1'],\n",
       "       ['1', '0', '1', '0', '1', '0', '1', '0'],\n",
       "       ['0', '1', '0', '1', '0', '1', '0', '1'],\n",
       "       ['1', '0', '1', '0', '1', '0', '1', '0'],\n",
       "       ['0', '1', '0', '1', '0', '1', '0', '1']], dtype='<U1')"
      ]
     },
     "execution_count": 34,
     "metadata": {},
     "output_type": "execute_result"
    }
   ],
   "source": [
    "y = np.tile([['1', '0'],['0','1']], reps=[4,4])\n",
    "y"
   ]
  },
  {
   "cell_type": "code",
   "execution_count": 56,
   "id": "f6eb5196",
   "metadata": {},
   "outputs": [
    {
     "data": {
      "text/html": [
       "<div>\n",
       "<style scoped>\n",
       "    .dataframe tbody tr th:only-of-type {\n",
       "        vertical-align: middle;\n",
       "    }\n",
       "\n",
       "    .dataframe tbody tr th {\n",
       "        vertical-align: top;\n",
       "    }\n",
       "\n",
       "    .dataframe thead th {\n",
       "        text-align: right;\n",
       "    }\n",
       "</style>\n",
       "<table border=\"1\" class=\"dataframe\">\n",
       "  <thead>\n",
       "    <tr style=\"text-align: right;\">\n",
       "      <th></th>\n",
       "      <th>0</th>\n",
       "      <th>1</th>\n",
       "      <th>2</th>\n",
       "      <th>3</th>\n",
       "      <th>4</th>\n",
       "      <th>5</th>\n",
       "      <th>6</th>\n",
       "      <th>7</th>\n",
       "    </tr>\n",
       "  </thead>\n",
       "  <tbody>\n",
       "    <tr>\n",
       "      <th>0</th>\n",
       "      <td>😂</td>\n",
       "      <td>🤣</td>\n",
       "      <td>😂</td>\n",
       "      <td>🤣</td>\n",
       "      <td>😂</td>\n",
       "      <td>🤣</td>\n",
       "      <td>😂</td>\n",
       "      <td>🤣</td>\n",
       "    </tr>\n",
       "    <tr>\n",
       "      <th>1</th>\n",
       "      <td>🤣</td>\n",
       "      <td>😂</td>\n",
       "      <td>🤣</td>\n",
       "      <td>😂</td>\n",
       "      <td>🤣</td>\n",
       "      <td>😂</td>\n",
       "      <td>🤣</td>\n",
       "      <td>😂</td>\n",
       "    </tr>\n",
       "    <tr>\n",
       "      <th>2</th>\n",
       "      <td>😂</td>\n",
       "      <td>🤣</td>\n",
       "      <td>😂</td>\n",
       "      <td>🤣</td>\n",
       "      <td>😂</td>\n",
       "      <td>🤣</td>\n",
       "      <td>😂</td>\n",
       "      <td>🤣</td>\n",
       "    </tr>\n",
       "    <tr>\n",
       "      <th>3</th>\n",
       "      <td>🤣</td>\n",
       "      <td>😂</td>\n",
       "      <td>🤣</td>\n",
       "      <td>😂</td>\n",
       "      <td>🤣</td>\n",
       "      <td>😂</td>\n",
       "      <td>🤣</td>\n",
       "      <td>😂</td>\n",
       "    </tr>\n",
       "    <tr>\n",
       "      <th>4</th>\n",
       "      <td>😂</td>\n",
       "      <td>🤣</td>\n",
       "      <td>😂</td>\n",
       "      <td>🤣</td>\n",
       "      <td>😂</td>\n",
       "      <td>🤣</td>\n",
       "      <td>😂</td>\n",
       "      <td>🤣</td>\n",
       "    </tr>\n",
       "    <tr>\n",
       "      <th>5</th>\n",
       "      <td>🤣</td>\n",
       "      <td>😂</td>\n",
       "      <td>🤣</td>\n",
       "      <td>😂</td>\n",
       "      <td>🤣</td>\n",
       "      <td>😂</td>\n",
       "      <td>🤣</td>\n",
       "      <td>😂</td>\n",
       "    </tr>\n",
       "    <tr>\n",
       "      <th>6</th>\n",
       "      <td>😂</td>\n",
       "      <td>🤣</td>\n",
       "      <td>😂</td>\n",
       "      <td>🤣</td>\n",
       "      <td>😂</td>\n",
       "      <td>🤣</td>\n",
       "      <td>😂</td>\n",
       "      <td>🤣</td>\n",
       "    </tr>\n",
       "    <tr>\n",
       "      <th>7</th>\n",
       "      <td>🤣</td>\n",
       "      <td>😂</td>\n",
       "      <td>🤣</td>\n",
       "      <td>😂</td>\n",
       "      <td>🤣</td>\n",
       "      <td>😂</td>\n",
       "      <td>🤣</td>\n",
       "      <td>😂</td>\n",
       "    </tr>\n",
       "  </tbody>\n",
       "</table>\n",
       "</div>"
      ],
      "text/plain": [
       "   0  1  2  3  4  5  6  7\n",
       "0  😂  🤣  😂  🤣  😂  🤣  😂  🤣\n",
       "1  🤣  😂  🤣  😂  🤣  😂  🤣  😂\n",
       "2  😂  🤣  😂  🤣  😂  🤣  😂  🤣\n",
       "3  🤣  😂  🤣  😂  🤣  😂  🤣  😂\n",
       "4  😂  🤣  😂  🤣  😂  🤣  😂  🤣\n",
       "5  🤣  😂  🤣  😂  🤣  😂  🤣  😂\n",
       "6  😂  🤣  😂  🤣  😂  🤣  😂  🤣\n",
       "7  🤣  😂  🤣  😂  🤣  😂  🤣  😂"
      ]
     },
     "execution_count": 56,
     "metadata": {},
     "output_type": "execute_result"
    }
   ],
   "source": [
    "pd.DataFrame(y)"
   ]
  },
  {
   "cell_type": "code",
   "execution_count": null,
   "id": "80876265",
   "metadata": {},
   "outputs": [],
   "source": []
  }
 ],
 "metadata": {
  "kernelspec": {
   "display_name": "Python 3 (ipykernel)",
   "language": "python",
   "name": "python3"
  },
  "language_info": {
   "codemirror_mode": {
    "name": "ipython",
    "version": 3
   },
   "file_extension": ".py",
   "mimetype": "text/x-python",
   "name": "python",
   "nbconvert_exporter": "python",
   "pygments_lexer": "ipython3",
   "version": "3.9.18"
  }
 },
 "nbformat": 4,
 "nbformat_minor": 5
}
