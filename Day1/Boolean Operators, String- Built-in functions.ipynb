{
 "cells": [
  {
   "cell_type": "markdown",
   "id": "3aef427d",
   "metadata": {},
   "source": [
    "### Boolean Ops"
   ]
  },
  {
   "cell_type": "code",
   "execution_count": 1,
   "id": "334ebae9",
   "metadata": {},
   "outputs": [
    {
     "data": {
      "text/plain": [
       "(True, False, 1, 0)"
      ]
     },
     "execution_count": 1,
     "metadata": {},
     "output_type": "execute_result"
    }
   ],
   "source": [
    "True, False, 1, 0"
   ]
  },
  {
   "cell_type": "code",
   "execution_count": 2,
   "id": "cce1769a",
   "metadata": {},
   "outputs": [
    {
     "data": {
      "text/plain": [
       "(1, 0, -3, True)"
      ]
     },
     "execution_count": 2,
     "metadata": {},
     "output_type": "execute_result"
    }
   ],
   "source": [
    "int(True), int(False), int(-3), bool(-3)"
   ]
  },
  {
   "cell_type": "markdown",
   "id": "6cc0808e",
   "metadata": {},
   "source": [
    "### Data Types In Python\n",
    "\n",
    "1. Python Numbers - Integers, Float, Complex\n",
    "2. Strings - Characters\n",
    "3. List\n",
    "4. Tuples\n",
    "5. Sets\n",
    "6. Dictionary"
   ]
  },
  {
   "cell_type": "code",
   "execution_count": 5,
   "id": "2c743a79",
   "metadata": {},
   "outputs": [
    {
     "name": "stdout",
     "output_type": "stream",
     "text": [
      "It's is a character.  'Hello'    \n"
     ]
    }
   ],
   "source": [
    "'Single'\n",
    "\"Double\"\n",
    "\n",
    "'''Triple'''\n",
    "\"\"\"DTriple\"\"\"\n",
    "\n",
    "\n",
    "print(\"It's is a character.  'Hello'    \")"
   ]
  },
  {
   "cell_type": "code",
   "execution_count": 9,
   "id": "8d9253de",
   "metadata": {},
   "outputs": [
    {
     "name": "stdout",
     "output_type": "stream",
     "text": [
      "My Name is \"Vivek Gupta\". \n"
     ]
    }
   ],
   "source": [
    "print('My Name is \"Vivek Gupta\". ')"
   ]
  },
  {
   "cell_type": "code",
   "execution_count": 2,
   "id": "823394a8",
   "metadata": {},
   "outputs": [
    {
     "name": "stdout",
     "output_type": "stream",
     "text": [
      "My Name is \"Vivek Gupta\"\n"
     ]
    }
   ],
   "source": [
    "print('''My Name is \"Vivek Gupta\"''')"
   ]
  },
  {
   "cell_type": "code",
   "execution_count": 9,
   "id": "98aba638",
   "metadata": {},
   "outputs": [
    {
     "name": "stdout",
     "output_type": "stream",
     "text": [
      "['__add__', '__class__', '__contains__', '__delattr__', '__dir__', '__doc__', '__eq__', '__format__', '__ge__', '__getattribute__', '__getitem__', '__getnewargs__', '__gt__', '__hash__', '__init__', '__init_subclass__', '__iter__', '__le__', '__len__', '__lt__', '__mod__', '__mul__', '__ne__', '__new__', '__reduce__', '__reduce_ex__', '__repr__', '__rmod__', '__rmul__', '__setattr__', '__sizeof__', '__str__', '__subclasshook__', 'capitalize', 'casefold', 'center', 'count', 'encode', 'endswith', 'expandtabs', 'find', 'format', 'format_map', 'index', 'isalnum', 'isalpha', 'isascii', 'isdecimal', 'isdigit', 'isidentifier', 'islower', 'isnumeric', 'isprintable', 'isspace', 'istitle', 'isupper', 'join', 'ljust', 'lower', 'lstrip', 'maketrans', 'partition', 'replace', 'rfind', 'rindex', 'rjust', 'rpartition', 'rsplit', 'rstrip', 'split', 'splitlines', 'startswith', 'strip', 'swapcase', 'title', 'translate', 'upper', 'zfill']\n"
     ]
    }
   ],
   "source": [
    "print(dir(str)) # used to see the directory of a module."
   ]
  },
  {
   "cell_type": "code",
   "execution_count": 16,
   "id": "0a3c5485",
   "metadata": {},
   "outputs": [
    {
     "name": "stdout",
     "output_type": "stream",
     "text": [
      " white spaces                  30\n"
     ]
    }
   ],
   "source": [
    "y  = ' white spaces                 '\n",
    "print(y, len(y))"
   ]
  },
  {
   "cell_type": "code",
   "execution_count": 17,
   "id": "3b39000d",
   "metadata": {},
   "outputs": [
    {
     "data": {
      "text/plain": [
       "'white spaces'"
      ]
     },
     "execution_count": 17,
     "metadata": {},
     "output_type": "execute_result"
    }
   ],
   "source": [
    "y.strip() #remove uwanted spaces"
   ]
  },
  {
   "cell_type": "code",
   "execution_count": 14,
   "id": "d68f49a5",
   "metadata": {},
   "outputs": [
    {
     "name": "stdout",
     "output_type": "stream",
     "text": [
      "1\n",
      "2\n",
      "3\n",
      "4\n",
      "5\n"
     ]
    }
   ],
   "source": [
    "for y in range(5):\n",
    "    print(y+1)"
   ]
  },
  {
   "cell_type": "markdown",
   "id": "eea279e0",
   "metadata": {},
   "source": []
  },
  {
   "cell_type": "code",
   "execution_count": 24,
   "id": "57ea4a10",
   "metadata": {},
   "outputs": [
    {
     "data": {
      "text/html": [
       "<div>\n",
       "<style scoped>\n",
       "    .dataframe tbody tr th:only-of-type {\n",
       "        vertical-align: middle;\n",
       "    }\n",
       "\n",
       "    .dataframe tbody tr th {\n",
       "        vertical-align: top;\n",
       "    }\n",
       "\n",
       "    .dataframe thead th {\n",
       "        text-align: right;\n",
       "    }\n",
       "</style>\n",
       "<table border=\"1\" class=\"dataframe\">\n",
       "  <thead>\n",
       "    <tr style=\"text-align: right;\">\n",
       "      <th></th>\n",
       "      <th>0</th>\n",
       "      <th>1</th>\n",
       "      <th>2</th>\n",
       "      <th>3</th>\n",
       "      <th>4</th>\n",
       "      <th>5</th>\n",
       "    </tr>\n",
       "  </thead>\n",
       "  <tbody>\n",
       "    <tr>\n",
       "      <th>L-&gt;R</th>\n",
       "      <td>0</td>\n",
       "      <td>1</td>\n",
       "      <td>2</td>\n",
       "      <td>3</td>\n",
       "      <td>4</td>\n",
       "      <td>5</td>\n",
       "    </tr>\n",
       "    <tr>\n",
       "      <th>Data</th>\n",
       "      <td>p</td>\n",
       "      <td>y</td>\n",
       "      <td>t</td>\n",
       "      <td>h</td>\n",
       "      <td>o</td>\n",
       "      <td>n</td>\n",
       "    </tr>\n",
       "    <tr>\n",
       "      <th>L&lt;-R</th>\n",
       "      <td>-6</td>\n",
       "      <td>-5</td>\n",
       "      <td>-4</td>\n",
       "      <td>-3</td>\n",
       "      <td>-2</td>\n",
       "      <td>-1</td>\n",
       "    </tr>\n",
       "  </tbody>\n",
       "</table>\n",
       "</div>"
      ],
      "text/plain": [
       "       0   1   2   3   4   5\n",
       "L->R   0   1   2   3   4   5\n",
       "Data   p   y   t   h   o   n\n",
       "L<-R  -6  -5  -4  -3  -2  -1"
      ]
     },
     "execution_count": 24,
     "metadata": {},
     "output_type": "execute_result"
    }
   ],
   "source": [
    "import pandas as pd\n",
    "y = 'p y t h o n'.split()\n",
    "lr = [0, 1, 2, 3, 4, 5]\n",
    "rl = [-6, -5, -4, -3, -2, -1]\n",
    "pd.DataFrame({'L->R': lr,\n",
    "              'Data': y,\n",
    "              'L<-R': rl}).T"
   ]
  },
  {
   "cell_type": "code",
   "execution_count": 27,
   "id": "0ed3fda6",
   "metadata": {},
   "outputs": [
    {
     "name": "stdout",
     "output_type": "stream",
     "text": [
      "p y p ['t', 'h', 'o']\n"
     ]
    },
    {
     "data": {
      "text/plain": [
       "' range(x, y)------ (x.....y-1)'"
      ]
     },
     "execution_count": 27,
     "metadata": {},
     "output_type": "execute_result"
    }
   ],
   "source": [
    "print(y[0], y[1], y[-6], y[2:5])\n",
    "\n",
    "''' range(x, y)------ (x.....y-1)'''"
   ]
  },
  {
   "cell_type": "markdown",
   "id": "8f65b18a",
   "metadata": {},
   "source": [
    "### Slicing : Ranging in Index"
   ]
  },
  {
   "cell_type": "code",
   "execution_count": 19,
   "id": "3d1ab8b2",
   "metadata": {},
   "outputs": [
    {
     "data": {
      "text/plain": [
       "range(10, 100)"
      ]
     },
     "execution_count": 19,
     "metadata": {},
     "output_type": "execute_result"
    }
   ],
   "source": [
    "'''looking for x to y in a sequence.'''\n",
    "range(10, 100)-"
   ]
  },
  {
   "cell_type": "code",
   "execution_count": 23,
   "id": "3705e6d8",
   "metadata": {},
   "outputs": [
    {
     "name": "stdout",
     "output_type": "stream",
     "text": [
      "[10, 11, 12, 13, 14, 15, 16, 17, 18, 19, 20, 21, 22, 23, 24, 25, 26, 27, 28, 29, 30, 31, 32, 33, 34, 35, 36, 37, 38, 39, 40, 41, 42, 43, 44, 45, 46, 47, 48, 49, 50, 51, 52, 53, 54, 55, 56, 57, 58, 59, 60, 61, 62, 63, 64, 65, 66, 67, 68, 69, 70, 71, 72, 73, 74, 75, 76, 77, 78, 79, 80, 81, 82, 83, 84, 85, 86, 87, 88, 89, 90, 91, 92, 93, 94, 95, 96, 97, 98, 99, 100]\n"
     ]
    }
   ],
   "source": [
    "slicing = [i for i in range(10, 100+1)]\n",
    "print(slicing)"
   ]
  },
  {
   "cell_type": "code",
   "execution_count": 13,
   "id": "a271953b",
   "metadata": {},
   "outputs": [],
   "source": [
    "y = 'python'"
   ]
  },
  {
   "cell_type": "code",
   "execution_count": 25,
   "id": "5fb7189b",
   "metadata": {},
   "outputs": [
    {
     "data": {
      "text/plain": [
       "'th'"
      ]
     },
     "execution_count": 25,
     "metadata": {},
     "output_type": "execute_result"
    }
   ],
   "source": [
    "y[2:4]"
   ]
  },
  {
   "cell_type": "code",
   "execution_count": 14,
   "id": "71d8851e",
   "metadata": {},
   "outputs": [
    {
     "data": {
      "text/plain": [
       "('', 'oht', '567')"
      ]
     },
     "execution_count": 14,
     "metadata": {},
     "output_type": "execute_result"
    }
   ],
   "source": [
    "x = '0123456789'\n",
    "x[-2:-5], y[4:1:-1], x[-5:-2]"
   ]
  },
  {
   "cell_type": "code",
   "execution_count": 34,
   "id": "eec1ade5",
   "metadata": {},
   "outputs": [
    {
     "data": {
      "text/plain": [
       "[2, 1]"
      ]
     },
     "execution_count": 34,
     "metadata": {},
     "output_type": "execute_result"
    }
   ],
   "source": [
    "d = [1, 2]\n",
    "d.reverse()\n",
    "d"
   ]
  },
  {
   "cell_type": "markdown",
   "id": "d9022273",
   "metadata": {},
   "source": [
    "### String Operations"
   ]
  },
  {
   "cell_type": "code",
   "execution_count": 16,
   "id": "d1979b0a",
   "metadata": {},
   "outputs": [
    {
     "data": {
      "text/plain": [
       "'THRILLER IS THE SIXTH STUDIO ALBUM'"
      ]
     },
     "execution_count": 16,
     "metadata": {},
     "output_type": "execute_result"
    }
   ],
   "source": [
    "# upper case\n",
    "a = 'Thriller is the sixth studio album'\n",
    "a.upper()"
   ]
  },
  {
   "cell_type": "code",
   "execution_count": 29,
   "id": "2550ec2d",
   "metadata": {},
   "outputs": [
    {
     "data": {
      "text/plain": [
       "'thriller is the sixth studio album'"
      ]
     },
     "execution_count": 29,
     "metadata": {},
     "output_type": "execute_result"
    }
   ],
   "source": [
    "# lower\n",
    "a.lower()"
   ]
  },
  {
   "cell_type": "code",
   "execution_count": 8,
   "id": "dc4a4740",
   "metadata": {},
   "outputs": [
    {
     "data": {
      "text/plain": [
       "'Thriller is the sixth studio album'"
      ]
     },
     "execution_count": 8,
     "metadata": {},
     "output_type": "execute_result"
    }
   ],
   "source": [
    "# capitalize\n",
    "a.upper().capitalize()"
   ]
  },
  {
   "cell_type": "code",
   "execution_count": 9,
   "id": "e82c809b",
   "metadata": {},
   "outputs": [
    {
     "data": {
      "text/plain": [
       "'Thriller Is The Sixth Studio Album'"
      ]
     },
     "execution_count": 9,
     "metadata": {},
     "output_type": "execute_result"
    }
   ],
   "source": [
    "# title\n",
    "a.title()"
   ]
  },
  {
   "cell_type": "code",
   "execution_count": 43,
   "id": "02ebffc1",
   "metadata": {},
   "outputs": [
    {
     "data": {
      "text/plain": [
       "('tHRILLER IS THE SIXTH STUDIO ALBUM', 'sWApcaSe')"
      ]
     },
     "execution_count": 43,
     "metadata": {},
     "output_type": "execute_result"
    }
   ],
   "source": [
    "#swapcase\n",
    "a.swapcase(), 'SwaPCAsE'.swapcase()"
   ]
  },
  {
   "cell_type": "code",
   "execution_count": 17,
   "id": "c34e251b",
   "metadata": {},
   "outputs": [
    {
     "data": {
      "text/plain": [
       "'Thriller is the sixth studio album'"
      ]
     },
     "execution_count": 17,
     "metadata": {},
     "output_type": "execute_result"
    }
   ],
   "source": [
    "# formatting\n",
    "a.replace('sixth', '7th')\n",
    "a"
   ]
  },
  {
   "cell_type": "code",
   "execution_count": 4,
   "id": "3b8879f1",
   "metadata": {},
   "outputs": [
    {
     "name": "stdout",
     "output_type": "stream",
     "text": [
      "Granny: Hello Jimmy, How old are you?\n",
      "Jimmy : Hi, Granny, I am 0.7 years old.\n"
     ]
    }
   ],
   "source": [
    "age = 0.7\n",
    "print('Granny: Hello Jimmy, How old are you?')\n",
    "print(f'Jimmy : Hi, Granny, I am {age} years old.')"
   ]
  },
  {
   "cell_type": "code",
   "execution_count": 23,
   "id": "f7333900",
   "metadata": {},
   "outputs": [
    {
     "name": "stdout",
     "output_type": "stream",
     "text": [
      "Granny: Hello Jimmy, How old are you?\n",
      "Jimmy : Hi, Granny, I am 0.7 years old.\n"
     ]
    }
   ],
   "source": [
    "print('Granny: Hello Jimmy, How old are you?')\n",
    "print('Jimmy : Hi, Granny, I am {} years old.'.format(age))"
   ]
  },
  {
   "cell_type": "code",
   "execution_count": 6,
   "id": "c3c621e2",
   "metadata": {},
   "outputs": [
    {
     "name": "stdout",
     "output_type": "stream",
     "text": [
      "Granny: Hello Jimmy, How old are you?\n",
      "Jimmy : Hi, Granny, I am 0 years old.\n"
     ]
    }
   ],
   "source": [
    "print('Granny: Hello Jimmy, How old are you?')\n",
    "print(f'Jimmy : Hi, Granny, I am %d years old.'%age)"
   ]
  },
  {
   "cell_type": "code",
   "execution_count": 15,
   "id": "f9f234b9",
   "metadata": {},
   "outputs": [
    {
     "name": "stdout",
     "output_type": "stream",
     "text": [
      "Granny: Hello Jimmy, How old are you?\n"
     ]
    }
   ],
   "source": [
    "con = 'Granny: Hello Jimmy, How old are you?'\n",
    "con2 = 'Jimmy: I am 23 yrs old.'\n",
    "print(con)"
   ]
  },
  {
   "cell_type": "code",
   "execution_count": 45,
   "id": "aa537d25",
   "metadata": {},
   "outputs": [
    {
     "name": "stdout",
     "output_type": "stream",
     "text": [
      "['Granny', 'Hello Jimmy, How old are you?']\n"
     ]
    }
   ],
   "source": [
    "pattern = ': '\n",
    "print(con.split(pattern))"
   ]
  },
  {
   "cell_type": "code",
   "execution_count": 16,
   "id": "de71a9f3",
   "metadata": {},
   "outputs": [
    {
     "data": {
      "text/plain": [
       "'Granny'"
      ]
     },
     "execution_count": 16,
     "metadata": {},
     "output_type": "execute_result"
    }
   ],
   "source": [
    "speaker = con.split(':')[0]\n",
    "speaker"
   ]
  },
  {
   "cell_type": "code",
   "execution_count": 57,
   "id": "26d904e8",
   "metadata": {},
   "outputs": [],
   "source": [
    "file = '''http://localhost:8888/notebooks/theax/september/september%202022/Boolean%20Operators%2C%20String-%20Built-in%20functions%20-%20Day%204.ipynb#String-Operations'''"
   ]
  },
  {
   "cell_type": "code",
   "execution_count": 58,
   "id": "df0295f1",
   "metadata": {},
   "outputs": [
    {
     "data": {
      "text/plain": [
       "['http:',\n",
       " '',\n",
       " 'localhost:8888',\n",
       " 'notebooks',\n",
       " 'theax',\n",
       " 'september',\n",
       " 'september%202022',\n",
       " 'Boolean%20Operators%2C%20String-%20Built-in%20functions%20-%20Day%204.ipynb#String-Operations']"
      ]
     },
     "execution_count": 58,
     "metadata": {},
     "output_type": "execute_result"
    }
   ],
   "source": [
    "file.split('/')"
   ]
  },
  {
   "cell_type": "code",
   "execution_count": 59,
   "id": "ddf8bae9",
   "metadata": {},
   "outputs": [
    {
     "data": {
      "text/plain": [
       "'Granny: Hello Jimmy, How old are you?'"
      ]
     },
     "execution_count": 59,
     "metadata": {},
     "output_type": "execute_result"
    }
   ],
   "source": [
    "con"
   ]
  },
  {
   "cell_type": "code",
   "execution_count": 31,
   "id": "120c657e",
   "metadata": {},
   "outputs": [
    {
     "name": "stdout",
     "output_type": "stream",
     "text": [
      "Thriller is the sixth studio album\n"
     ]
    }
   ],
   "source": [
    "print(a)"
   ]
  },
  {
   "cell_type": "code",
   "execution_count": 18,
   "id": "93034748",
   "metadata": {},
   "outputs": [
    {
     "data": {
      "text/plain": [
       "True"
      ]
     },
     "execution_count": 18,
     "metadata": {},
     "output_type": "execute_result"
    }
   ],
   "source": [
    "\"sixth\" in a"
   ]
  },
  {
   "cell_type": "code",
   "execution_count": 20,
   "id": "c81be698",
   "metadata": {},
   "outputs": [
    {
     "data": {
      "text/plain": [
       "True"
      ]
     },
     "execution_count": 20,
     "metadata": {},
     "output_type": "execute_result"
    }
   ],
   "source": [
    "'Sixth' not in a"
   ]
  },
  {
   "cell_type": "code",
   "execution_count": 23,
   "id": "91e16fc2",
   "metadata": {},
   "outputs": [
    {
     "data": {
      "text/plain": [
       "True"
      ]
     },
     "execution_count": 23,
     "metadata": {},
     "output_type": "execute_result"
    }
   ],
   "source": [
    "'123456'.isnumeric()"
   ]
  },
  {
   "cell_type": "code",
   "execution_count": 25,
   "id": "ed5d0e27",
   "metadata": {},
   "outputs": [
    {
     "data": {
      "text/plain": [
       "True"
      ]
     },
     "execution_count": 25,
     "metadata": {},
     "output_type": "execute_result"
    }
   ],
   "source": [
    "'alph132434'.isalnum()"
   ]
  },
  {
   "cell_type": "code",
   "execution_count": 33,
   "id": "68d47a0b",
   "metadata": {},
   "outputs": [
    {
     "data": {
      "text/plain": [
       "'Granny: Hello Jimmy, How old are you?'"
      ]
     },
     "execution_count": 33,
     "metadata": {},
     "output_type": "execute_result"
    }
   ],
   "source": [
    "con = 'Granny: Hello Jimmy, How old are you?'\n",
    "con"
   ]
  },
  {
   "cell_type": "code",
   "execution_count": 35,
   "id": "b6e0ef34",
   "metadata": {},
   "outputs": [
    {
     "data": {
      "text/plain": [
       "(22, 12)"
      ]
     },
     "execution_count": 35,
     "metadata": {},
     "output_type": "execute_result"
    }
   ],
   "source": [
    "con.find('o', 15 ,25), con.find('o')"
   ]
  },
  {
   "cell_type": "code",
   "execution_count": 67,
   "id": "8ef903c8",
   "metadata": {},
   "outputs": [
    {
     "data": {
      "text/plain": [
       "'o'"
      ]
     },
     "execution_count": 67,
     "metadata": {},
     "output_type": "execute_result"
    }
   ],
   "source": [
    "con[25]"
   ]
  },
  {
   "cell_type": "code",
   "execution_count": 27,
   "id": "b4094d2f",
   "metadata": {},
   "outputs": [
    {
     "name": "stdout",
     "output_type": "stream",
     "text": [
      "G 1\n",
      "r 2\n",
      "a 2\n",
      "n 2\n",
      "n 2\n",
      "y 3\n",
      ": 1\n",
      "  6\n",
      "H 2\n",
      "e 2\n",
      "l 3\n",
      "l 3\n",
      "o 4\n",
      "  6\n",
      "J 1\n",
      "i 1\n",
      "m 2\n",
      "m 2\n",
      "y 3\n",
      ", 1\n",
      "  6\n",
      "H 2\n",
      "o 4\n",
      "w 1\n",
      "  6\n",
      "o 4\n",
      "l 3\n",
      "d 1\n",
      "  6\n",
      "a 2\n",
      "r 2\n",
      "e 2\n",
      "  6\n",
      "y 3\n",
      "o 4\n",
      "u 1\n",
      "? 1\n"
     ]
    }
   ],
   "source": [
    "for i in con:\n",
    "    print(i, con.count(i))"
   ]
  },
  {
   "cell_type": "code",
   "execution_count": 78,
   "id": "812425df",
   "metadata": {},
   "outputs": [
    {
     "data": {
      "text/plain": [
       "Counter({'G': 1,\n",
       "         'r': 2,\n",
       "         'a': 2,\n",
       "         'n': 2,\n",
       "         'y': 3,\n",
       "         ':': 1,\n",
       "         ' ': 6,\n",
       "         'H': 2,\n",
       "         'e': 2,\n",
       "         'l': 3,\n",
       "         'o': 4,\n",
       "         'J': 1,\n",
       "         'i': 1,\n",
       "         'm': 2,\n",
       "         ',': 1,\n",
       "         'w': 1,\n",
       "         'd': 1,\n",
       "         'u': 1,\n",
       "         '?': 1})"
      ]
     },
     "execution_count": 78,
     "metadata": {},
     "output_type": "execute_result"
    }
   ],
   "source": [
    "from collections import Counter\n",
    "Counter(con)"
   ]
  },
  {
   "cell_type": "code",
   "execution_count": 24,
   "id": "8e033d5b",
   "metadata": {},
   "outputs": [
    {
     "name": "stdout",
     "output_type": "stream",
     "text": [
      "Jimmy and Bravo, the age of both are 16 year\n"
     ]
    }
   ],
   "source": [
    "name = \"Bravo\"\n",
    "age = 16\n",
    "print(f'Jimmy and {name}, the age of both are {age} year')"
   ]
  },
  {
   "cell_type": "code",
   "execution_count": 25,
   "id": "8ac8e9ef",
   "metadata": {},
   "outputs": [
    {
     "name": "stdout",
     "output_type": "stream",
     "text": [
      "Jimmy and Bravo, the age of both are 16 year\n"
     ]
    }
   ],
   "source": [
    "print('Jimmy and {}, the age of both are {} year'.format(name, age))"
   ]
  },
  {
   "cell_type": "code",
   "execution_count": 1,
   "id": "37e55169",
   "metadata": {},
   "outputs": [
    {
     "data": {
      "text/plain": [
       "0.3730519368994323"
      ]
     },
     "execution_count": 1,
     "metadata": {},
     "output_type": "execute_result"
    }
   ],
   "source": [
    "import random\n",
    "random.random()"
   ]
  },
  {
   "cell_type": "code",
   "execution_count": 2,
   "id": "6f3769a0",
   "metadata": {},
   "outputs": [
    {
     "ename": "TypeError",
     "evalue": "unbound method str.join() needs an argument",
     "output_type": "error",
     "traceback": [
      "\u001b[0;31m---------------------------------------------------------------------------\u001b[0m",
      "\u001b[0;31mTypeError\u001b[0m                                 Traceback (most recent call last)",
      "Cell \u001b[0;32mIn [2], line 1\u001b[0m\n\u001b[0;32m----> 1\u001b[0m \u001b[38;5;28;43mstr\u001b[39;49m\u001b[38;5;241;43m.\u001b[39;49m\u001b[43mjoin\u001b[49m\u001b[43m(\u001b[49m\u001b[43m)\u001b[49m\n",
      "\u001b[0;31mTypeError\u001b[0m: unbound method str.join() needs an argument"
     ]
    }
   ],
   "source": [
    "str.join()"
   ]
  },
  {
   "cell_type": "code",
   "execution_count": 3,
   "id": "a414fb38",
   "metadata": {},
   "outputs": [],
   "source": [
    "mlist = [2, 2, 100, 100, 34, 5,6,7]"
   ]
  },
  {
   "cell_type": "code",
   "execution_count": 4,
   "id": "4d5cf8b1",
   "metadata": {},
   "outputs": [
    {
     "data": {
      "text/plain": [
       "[2, 2, 100, 100, 34, 5, 6, 7]"
      ]
     },
     "execution_count": 4,
     "metadata": {},
     "output_type": "execute_result"
    }
   ],
   "source": [
    "mlist"
   ]
  },
  {
   "cell_type": "code",
   "execution_count": 5,
   "id": "314f2743",
   "metadata": {},
   "outputs": [
    {
     "data": {
      "text/plain": [
       "'ABC'"
      ]
     },
     "execution_count": 5,
     "metadata": {},
     "output_type": "execute_result"
    }
   ],
   "source": [
    "\"ABC\".upper()"
   ]
  },
  {
   "cell_type": "code",
   "execution_count": 6,
   "id": "a4bbd773",
   "metadata": {},
   "outputs": [
    {
     "data": {
      "text/plain": [
       "'abc'"
      ]
     },
     "execution_count": 6,
     "metadata": {},
     "output_type": "execute_result"
    }
   ],
   "source": [
    "\"ABC\".lower()"
   ]
  },
  {
   "cell_type": "code",
   "execution_count": 9,
   "id": "5759bcd3",
   "metadata": {},
   "outputs": [
    {
     "data": {
      "text/plain": [
       "'Abc Def'"
      ]
     },
     "execution_count": 9,
     "metadata": {},
     "output_type": "execute_result"
    }
   ],
   "source": [
    "\"ABC DEF\".title()"
   ]
  },
  {
   "cell_type": "code",
   "execution_count": 10,
   "id": "9f369a21",
   "metadata": {},
   "outputs": [
    {
     "data": {
      "text/plain": [
       "'Abc def'"
      ]
     },
     "execution_count": 10,
     "metadata": {},
     "output_type": "execute_result"
    }
   ],
   "source": [
    "\"ABC DEF\".capitalize()"
   ]
  },
  {
   "cell_type": "code",
   "execution_count": 11,
   "id": "b9488176",
   "metadata": {},
   "outputs": [
    {
     "data": {
      "text/plain": [
       "False"
      ]
     },
     "execution_count": 11,
     "metadata": {},
     "output_type": "execute_result"
    }
   ],
   "source": [
    "\"ABC DEF\".islower()"
   ]
  },
  {
   "cell_type": "code",
   "execution_count": 12,
   "id": "c2cdb6f3",
   "metadata": {},
   "outputs": [
    {
     "data": {
      "text/plain": [
       "False"
      ]
     },
     "execution_count": 12,
     "metadata": {},
     "output_type": "execute_result"
    }
   ],
   "source": [
    "\"abc\".isupper()"
   ]
  },
  {
   "cell_type": "code",
   "execution_count": 13,
   "id": "05d48a64",
   "metadata": {},
   "outputs": [
    {
     "data": {
      "text/plain": [
       "['ABC', 'DEF']"
      ]
     },
     "execution_count": 13,
     "metadata": {},
     "output_type": "execute_result"
    }
   ],
   "source": [
    "\"ABC DEF\".split()"
   ]
  },
  {
   "cell_type": "code",
   "execution_count": 22,
   "id": "e19f094b",
   "metadata": {},
   "outputs": [
    {
     "name": "stdout",
     "output_type": "stream",
     "text": [
      "Enter username: abc def ghi\\\\\\\n"
     ]
    }
   ],
   "source": [
    "u1, u2, u3 = input('Enter username: ').split(' ')"
   ]
  },
  {
   "cell_type": "code",
   "execution_count": 23,
   "id": "88400b1b",
   "metadata": {},
   "outputs": [
    {
     "name": "stdout",
     "output_type": "stream",
     "text": [
      "abc def ghi\\\\\\\n"
     ]
    }
   ],
   "source": [
    "print(u1, u2, u3)"
   ]
  },
  {
   "cell_type": "code",
   "execution_count": 24,
   "id": "d56f5f9f",
   "metadata": {},
   "outputs": [
    {
     "data": {
      "text/plain": [
       "('abc', 'def', 'ghi\\\\\\\\\\\\')"
      ]
     },
     "execution_count": 24,
     "metadata": {},
     "output_type": "execute_result"
    }
   ],
   "source": [
    "u1, u2, u3"
   ]
  },
  {
   "cell_type": "code",
   "execution_count": 18,
   "id": "5447a28f",
   "metadata": {},
   "outputs": [
    {
     "data": {
      "text/plain": [
       "'ghi\\\\'"
      ]
     },
     "execution_count": 18,
     "metadata": {},
     "output_type": "execute_result"
    }
   ],
   "source": [
    "u3"
   ]
  },
  {
   "cell_type": "code",
   "execution_count": 25,
   "id": "eaebd1da",
   "metadata": {},
   "outputs": [
    {
     "data": {
      "text/plain": [
       "[2, 2, 100, 100, 34, 5, 6, 7]"
      ]
     },
     "execution_count": 25,
     "metadata": {},
     "output_type": "execute_result"
    }
   ],
   "source": [
    "mlist"
   ]
  },
  {
   "cell_type": "code",
   "execution_count": 26,
   "id": "fd33ac5a",
   "metadata": {},
   "outputs": [
    {
     "data": {
      "text/plain": [
       "[2, 2, 5, 6, 7, 34, 100, 100]"
      ]
     },
     "execution_count": 26,
     "metadata": {},
     "output_type": "execute_result"
    }
   ],
   "source": [
    "mlist.sort()\n",
    "mlist"
   ]
  },
  {
   "cell_type": "code",
   "execution_count": 27,
   "id": "2d34fdfa",
   "metadata": {},
   "outputs": [],
   "source": [
    "mlist.sort(reverse=True)"
   ]
  },
  {
   "cell_type": "code",
   "execution_count": 28,
   "id": "fb6aaaac",
   "metadata": {},
   "outputs": [
    {
     "data": {
      "text/plain": [
       "[100, 100, 34, 7, 6, 5, 2, 2]"
      ]
     },
     "execution_count": 28,
     "metadata": {},
     "output_type": "execute_result"
    }
   ],
   "source": [
    "mlist"
   ]
  },
  {
   "cell_type": "code",
   "execution_count": 32,
   "id": "7352ea7d",
   "metadata": {},
   "outputs": [],
   "source": [
    "def desc(x):\n",
    "    x.sort()\n",
    "    return x[::-1]"
   ]
  },
  {
   "cell_type": "code",
   "execution_count": 33,
   "id": "fe8238f4",
   "metadata": {},
   "outputs": [
    {
     "data": {
      "text/plain": [
       "[3, 2, -2]"
      ]
     },
     "execution_count": 33,
     "metadata": {},
     "output_type": "execute_result"
    }
   ],
   "source": [
    "desc([2, 3, -2])"
   ]
  },
  {
   "cell_type": "code",
   "execution_count": 35,
   "id": "2a27728c",
   "metadata": {},
   "outputs": [
    {
     "name": "stdout",
     "output_type": "stream",
     "text": [
      "7 10 (7, 10)\n"
     ]
    }
   ],
   "source": [
    "a = 10\n",
    "b = 7 \n",
    "c = a,b = b,a\n",
    "print(a,b, c)"
   ]
  },
  {
   "cell_type": "code",
   "execution_count": 36,
   "id": "009e9df2",
   "metadata": {},
   "outputs": [
    {
     "data": {
      "text/plain": [
       "9.625"
      ]
     },
     "execution_count": 36,
     "metadata": {},
     "output_type": "execute_result"
    }
   ],
   "source": [
    "22/7*7/4*7/4"
   ]
  },
  {
   "cell_type": "code",
   "execution_count": 37,
   "id": "367545eb",
   "metadata": {},
   "outputs": [
    {
     "data": {
      "text/plain": [
       "9.0"
      ]
     },
     "execution_count": 37,
     "metadata": {},
     "output_type": "execute_result"
    }
   ],
   "source": [
    "144/8/2"
   ]
  },
  {
   "cell_type": "code",
   "execution_count": 39,
   "id": "e73f018b",
   "metadata": {},
   "outputs": [
    {
     "data": {
      "text/plain": [
       "1.8"
      ]
     },
     "execution_count": 39,
     "metadata": {},
     "output_type": "execute_result"
    }
   ],
   "source": [
    "144/8/2/5\n",
    "\n"
   ]
  },
  {
   "cell_type": "code",
   "execution_count": null,
   "id": "0d1281ee",
   "metadata": {},
   "outputs": [],
   "source": []
  },
  {
   "cell_type": "code",
   "execution_count": null,
   "id": "6eac2c8c",
   "metadata": {},
   "outputs": [],
   "source": []
  },
  {
   "cell_type": "code",
   "execution_count": null,
   "id": "ef1ca84d",
   "metadata": {},
   "outputs": [],
   "source": []
  },
  {
   "cell_type": "code",
   "execution_count": 40,
   "id": "40e930ea",
   "metadata": {},
   "outputs": [
    {
     "data": {
      "text/plain": [
       "1.25"
      ]
     },
     "execution_count": 40,
     "metadata": {},
     "output_type": "execute_result"
    }
   ],
   "source": [
    "5/4\n",
    "\n"
   ]
  },
  {
   "cell_type": "code",
   "execution_count": null,
   "id": "1edf5074",
   "metadata": {},
   "outputs": [],
   "source": []
  },
  {
   "cell_type": "code",
   "execution_count": null,
   "id": "ef9768fc",
   "metadata": {},
   "outputs": [],
   "source": []
  },
  {
   "cell_type": "code",
   "execution_count": 41,
   "id": "5b13c149",
   "metadata": {},
   "outputs": [
    {
     "data": {
      "text/plain": [
       "24"
      ]
     },
     "execution_count": 41,
     "metadata": {},
     "output_type": "execute_result"
    }
   ],
   "source": [
    "20+4%5\n"
   ]
  },
  {
   "cell_type": "code",
   "execution_count": null,
   "id": "03953561",
   "metadata": {},
   "outputs": [],
   "source": []
  }
 ],
 "metadata": {
  "kernelspec": {
   "display_name": "Python 3 (ipykernel)",
   "language": "python",
   "name": "python3"
  },
  "language_info": {
   "codemirror_mode": {
    "name": "ipython",
    "version": 3
   },
   "file_extension": ".py",
   "mimetype": "text/x-python",
   "name": "python",
   "nbconvert_exporter": "python",
   "pygments_lexer": "ipython3",
   "version": "3.9.18"
  }
 },
 "nbformat": 4,
 "nbformat_minor": 5
}
