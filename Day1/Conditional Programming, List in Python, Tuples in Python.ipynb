{
 "cells": [
  {
   "cell_type": "markdown",
   "id": "e2daa4d0",
   "metadata": {},
   "source": [
    "### Conditional Programming"
   ]
  },
  {
   "cell_type": "markdown",
   "id": "10a8a2d8",
   "metadata": {},
   "source": [
    "### IF STATEMENT"
   ]
  },
  {
   "cell_type": "code",
   "execution_count": 2,
   "id": "b5bc477c",
   "metadata": {},
   "outputs": [
    {
     "name": "stdout",
     "output_type": "stream",
     "text": [
      "Enter Number : -98\n",
      "Neg\n"
     ]
    }
   ],
   "source": [
    "'''check a no is pos/neg'''\n",
    "number = float(input('Enter Number : '))\n",
    "if number > 0:\n",
    "    print('Pos')\n",
    "else:\n",
    "    print('Neg')"
   ]
  },
  {
   "cell_type": "code",
   "execution_count": 3,
   "id": "ce037644",
   "metadata": {},
   "outputs": [
    {
     "name": "stdout",
     "output_type": "stream",
     "text": [
      "Neg\n"
     ]
    }
   ],
   "source": [
    "if number == 0:\n",
    "    print('Neutral')\n",
    "elif number >0:\n",
    "    print('Pos')\n",
    "else:\n",
    "    print('Neg')"
   ]
  },
  {
   "cell_type": "code",
   "execution_count": 4,
   "id": "45d9aebb",
   "metadata": {},
   "outputs": [],
   "source": [
    "# program to check for even and odd\n",
    "\n",
    "def Myoddev(val):\n",
    "    if val == 0:\n",
    "        print('Even')\n",
    "    elif val %2 == 0:\n",
    "        print('Even')\n",
    "    else:\n",
    "        print(\"odd\")"
   ]
  },
  {
   "cell_type": "code",
   "execution_count": 5,
   "id": "1e029a95",
   "metadata": {},
   "outputs": [
    {
     "name": "stdout",
     "output_type": "stream",
     "text": [
      "Even\n",
      "odd\n",
      "Even\n"
     ]
    }
   ],
   "source": [
    "Myoddev(0)\n",
    "Myoddev(43)\n",
    "Myoddev(24/2)"
   ]
  },
  {
   "cell_type": "markdown",
   "id": "9cdae036",
   "metadata": {},
   "source": [
    "### Lists\n",
    "\n",
    "heterogenous dtypes or elements..."
   ]
  },
  {
   "cell_type": "code",
   "execution_count": 19,
   "id": "b89d3cde",
   "metadata": {},
   "outputs": [
    {
     "name": "stdout",
     "output_type": "stream",
     "text": [
      "['__add__', '__class__', '__contains__', '__delattr__', '__delitem__', '__dir__', '__doc__', '__eq__', '__format__', '__ge__', '__getattribute__', '__getitem__', '__gt__', '__hash__', '__iadd__', '__imul__', '__init__', '__init_subclass__', '__iter__', '__le__', '__len__', '__lt__', '__mul__', '__ne__', '__new__', '__reduce__', '__reduce_ex__', '__repr__', '__reversed__', '__rmul__', '__setattr__', '__setitem__', '__sizeof__', '__str__', '__subclasshook__', 'append', 'clear', 'copy', 'count', 'extend', 'index', 'insert', 'pop', 'remove', 'reverse', 'sort']\n"
     ]
    }
   ],
   "source": [
    "print(dir(list))"
   ]
  },
  {
   "cell_type": "code",
   "execution_count": 7,
   "id": "3a61d0d4",
   "metadata": {},
   "outputs": [],
   "source": [
    "myls  = ['Granny','Mickey','Donald','Goofy','Daisy','Mini']"
   ]
  },
  {
   "cell_type": "code",
   "execution_count": 21,
   "id": "900810e0",
   "metadata": {},
   "outputs": [
    {
     "data": {
      "text/plain": [
       "(6, list)"
      ]
     },
     "execution_count": 21,
     "metadata": {},
     "output_type": "execute_result"
    }
   ],
   "source": [
    "len(myls), type(myls)"
   ]
  },
  {
   "cell_type": "code",
   "execution_count": 22,
   "id": "073dbe3b",
   "metadata": {},
   "outputs": [
    {
     "data": {
      "text/plain": [
       "['Granny', 'Mickey', 'Donald', 'Goofy', 'Daisy', 'Mini', 'Pete']"
      ]
     },
     "execution_count": 22,
     "metadata": {},
     "output_type": "execute_result"
    }
   ],
   "source": [
    "'''adding elements'''\n",
    "# append\n",
    "myls.append('Pete')\n",
    "myls"
   ]
  },
  {
   "cell_type": "code",
   "execution_count": 23,
   "id": "70a6a102",
   "metadata": {},
   "outputs": [
    {
     "data": {
      "text/plain": [
       "['Granny',\n",
       " 'Mickey',\n",
       " 'Donald',\n",
       " 'Goofy',\n",
       " 'Daisy',\n",
       " 'Mini',\n",
       " 'Pete',\n",
       " 'Scrooge',\n",
       " 'Ludwig']"
      ]
     },
     "execution_count": 23,
     "metadata": {},
     "output_type": "execute_result"
    }
   ],
   "source": [
    "# extend\n",
    "myls.extend(['Scrooge','Ludwig'])\n",
    "myls"
   ]
  },
  {
   "cell_type": "code",
   "execution_count": 24,
   "id": "b9d19dde",
   "metadata": {},
   "outputs": [
    {
     "data": {
      "text/plain": [
       "['Granny',\n",
       " 'Mickey',\n",
       " 'Mortimer',\n",
       " 'Donald',\n",
       " 'Goofy',\n",
       " 'Daisy',\n",
       " 'Mini',\n",
       " 'Pete',\n",
       " 'Scrooge',\n",
       " 'Ludwig']"
      ]
     },
     "execution_count": 24,
     "metadata": {},
     "output_type": "execute_result"
    }
   ],
   "source": [
    "# insert\n",
    "myls.insert(2,'Mortimer')\n",
    "myls"
   ]
  },
  {
   "cell_type": "code",
   "execution_count": 25,
   "id": "9524bea7",
   "metadata": {},
   "outputs": [
    {
     "data": {
      "text/plain": [
       "['Mickey',\n",
       " 'Mortimer',\n",
       " 'Donald',\n",
       " 'Goofy',\n",
       " 'Daisy',\n",
       " 'Mini',\n",
       " 'Pete',\n",
       " 'Scrooge',\n",
       " 'Ludwig']"
      ]
     },
     "execution_count": 25,
     "metadata": {},
     "output_type": "execute_result"
    }
   ],
   "source": [
    "# remove values\n",
    "myls.remove('Granny')\n",
    "myls"
   ]
  },
  {
   "cell_type": "code",
   "execution_count": 26,
   "id": "008eefe9",
   "metadata": {},
   "outputs": [
    {
     "data": {
      "text/plain": [
       "'Ludwig'"
      ]
     },
     "execution_count": 26,
     "metadata": {},
     "output_type": "execute_result"
    }
   ],
   "source": [
    "# pop\n",
    "myls.pop()"
   ]
  },
  {
   "cell_type": "code",
   "execution_count": 27,
   "id": "c5dfbbac",
   "metadata": {},
   "outputs": [
    {
     "data": {
      "text/plain": [
       "['Mickey', 'Mortimer', 'Donald', 'Goofy', 'Daisy', 'Mini', 'Pete', 'Scrooge']"
      ]
     },
     "execution_count": 27,
     "metadata": {},
     "output_type": "execute_result"
    }
   ],
   "source": [
    "myls"
   ]
  },
  {
   "cell_type": "code",
   "execution_count": 28,
   "id": "d5d384ed",
   "metadata": {},
   "outputs": [
    {
     "data": {
      "text/plain": [
       "['Mickey', 'Mortimer', 'Donald', 'Goofy', 'Daisy', 'Mini', 'Pete', 'Scrooge']"
      ]
     },
     "execution_count": 28,
     "metadata": {},
     "output_type": "execute_result"
    }
   ],
   "source": [
    "# copy\n",
    "cp = myls.copy()\n",
    "cp"
   ]
  },
  {
   "cell_type": "code",
   "execution_count": 29,
   "id": "00795c81",
   "metadata": {},
   "outputs": [],
   "source": [
    "cp.clear()"
   ]
  },
  {
   "cell_type": "code",
   "execution_count": 30,
   "id": "769d57fc",
   "metadata": {},
   "outputs": [
    {
     "data": {
      "text/plain": [
       "[]"
      ]
     },
     "execution_count": 30,
     "metadata": {},
     "output_type": "execute_result"
    }
   ],
   "source": [
    "cp"
   ]
  },
  {
   "cell_type": "code",
   "execution_count": 31,
   "id": "ec855c7b",
   "metadata": {},
   "outputs": [
    {
     "data": {
      "text/plain": [
       "['Scrooge', 'Pete', 'Mini', 'Daisy', 'Goofy', 'Donald', 'Mortimer', 'Mickey']"
      ]
     },
     "execution_count": 31,
     "metadata": {},
     "output_type": "execute_result"
    }
   ],
   "source": [
    "myls.reverse()\n",
    "myls"
   ]
  },
  {
   "cell_type": "code",
   "execution_count": 9,
   "id": "c632ed12",
   "metadata": {},
   "outputs": [
    {
     "data": {
      "text/plain": [
       "['Daisy', 'Donald', 'Goofy', 'Granny', 'Mickey', 'Mini']"
      ]
     },
     "execution_count": 9,
     "metadata": {},
     "output_type": "execute_result"
    }
   ],
   "source": [
    "myls.sort()\n",
    "myls"
   ]
  },
  {
   "cell_type": "code",
   "execution_count": 11,
   "id": "05f29846",
   "metadata": {},
   "outputs": [
    {
     "data": {
      "text/plain": [
       "('Mini', 5, 'Daisy')"
      ]
     },
     "execution_count": 11,
     "metadata": {},
     "output_type": "execute_result"
    }
   ],
   "source": [
    "myls[myls.index('Mini')], myls.index('Mini'), myls[myls.index('Daisy')]"
   ]
  },
  {
   "cell_type": "code",
   "execution_count": 41,
   "id": "faae2417",
   "metadata": {},
   "outputs": [
    {
     "data": {
      "text/plain": [
       "('Daisy', 0)"
      ]
     },
     "execution_count": 41,
     "metadata": {},
     "output_type": "execute_result"
    }
   ],
   "source": [
    "myls[0], myls.index('Daisy')"
   ]
  },
  {
   "cell_type": "code",
   "execution_count": 42,
   "id": "fa186954",
   "metadata": {},
   "outputs": [
    {
     "name": "stdout",
     "output_type": "stream",
     "text": [
      "Daisy 0\n",
      "Donald 1\n",
      "Goofy 2\n",
      "Mickey 3\n",
      "Mini 4\n",
      "Mortimer 5\n",
      "Pete 6\n",
      "Scrooge 7\n"
     ]
    }
   ],
   "source": [
    "for i in myls:\n",
    "    print(i,myls.index(i))"
   ]
  },
  {
   "cell_type": "code",
   "execution_count": 13,
   "id": "dfde2e67",
   "metadata": {},
   "outputs": [
    {
     "data": {
      "text/plain": [
       "[('Prashant', 'Kumar'), ('Gupta', 'Ji')]"
      ]
     },
     "execution_count": 13,
     "metadata": {},
     "output_type": "execute_result"
    }
   ],
   "source": [
    "# try to do using zip function\n",
    "f = [\"Prashant\",'Gupta']\n",
    "l = [\"Kumar\", \"Ji\"]\n",
    "list(zip(f,l))"
   ]
  },
  {
   "cell_type": "code",
   "execution_count": 45,
   "id": "85999f17",
   "metadata": {},
   "outputs": [
    {
     "data": {
      "text/plain": [
       "[(1, 3), ('A', 'B')]"
      ]
     },
     "execution_count": 45,
     "metadata": {},
     "output_type": "execute_result"
    }
   ],
   "source": [
    "list(zip([1, \"A\"], [3, \"B\"]))"
   ]
  },
  {
   "cell_type": "code",
   "execution_count": 46,
   "id": "3e2b8e4a",
   "metadata": {},
   "outputs": [
    {
     "data": {
      "text/plain": [
       "0"
      ]
     },
     "execution_count": 46,
     "metadata": {},
     "output_type": "execute_result"
    }
   ],
   "source": [
    "myls.count('Hello')"
   ]
  },
  {
   "cell_type": "markdown",
   "id": "a2801b08",
   "metadata": {},
   "source": [
    "### Tuples\n",
    "\n",
    "hetero , immutable"
   ]
  },
  {
   "cell_type": "code",
   "execution_count": 17,
   "id": "629fe130",
   "metadata": {},
   "outputs": [
    {
     "data": {
      "text/plain": [
       "1"
      ]
     },
     "execution_count": 17,
     "metadata": {},
     "output_type": "execute_result"
    }
   ],
   "source": [
    "mytup = tuple(myls)\n",
    "mytup.count(\"Mini\")"
   ]
  },
  {
   "cell_type": "markdown",
   "id": "f7dd1824",
   "metadata": {},
   "source": [
    "first_name\n",
    "last_name\n",
    "date_of_birth\n",
    "aadhar_Number\n",
    "Pan_Number\n",
    "Address\n",
    "Gender\n",
    "Mobile Number"
   ]
  },
  {
   "cell_type": "markdown",
   "id": "4a1b17f3",
   "metadata": {},
   "source": [
    "### List Comprehension"
   ]
  },
  {
   "cell_type": "code",
   "execution_count": 49,
   "id": "de4c810d",
   "metadata": {},
   "outputs": [
    {
     "name": "stdout",
     "output_type": "stream",
     "text": [
      "2\n",
      "4\n",
      "6\n",
      "8\n"
     ]
    }
   ],
   "source": [
    "for i in range(1, 10):\n",
    "    if i%2 == 0:\n",
    "        print(i)"
   ]
  },
  {
   "cell_type": "code",
   "execution_count": 53,
   "id": "df6b0ec6",
   "metadata": {},
   "outputs": [
    {
     "data": {
      "text/plain": [
       "[2, 4, 6, 8]"
      ]
     },
     "execution_count": 53,
     "metadata": {},
     "output_type": "execute_result"
    }
   ],
   "source": [
    "[i for i in range(1, 10) if i%2==0]"
   ]
  },
  {
   "cell_type": "code",
   "execution_count": 80,
   "id": "7d49e6e9",
   "metadata": {},
   "outputs": [],
   "source": [
    "import numpy\n",
    "rlist = []\n",
    "\n",
    "for i in range(50):\n",
    "    x = numpy.random.randn()\n",
    "    # add values to rlist\n",
    "    rlist.append(x)"
   ]
  },
  {
   "cell_type": "code",
   "execution_count": 84,
   "id": "22ff5f01",
   "metadata": {},
   "outputs": [
    {
     "data": {
      "text/plain": [
       "[-6.5,\n",
       " -36.5,\n",
       " 21.5,\n",
       " -42.0,\n",
       " 9.2,\n",
       " -17.3,\n",
       " -40.8,\n",
       " 110.7,\n",
       " -123.1,\n",
       " 188.8,\n",
       " 40.7,\n",
       " -20.3,\n",
       " 1.4,\n",
       " 129.4,\n",
       " -11.8,\n",
       " 140.4,\n",
       " -190.8,\n",
       " -254.0,\n",
       " -44.9,\n",
       " 94.0,\n",
       " -73.4,\n",
       " 160.0,\n",
       " -58.5,\n",
       " -11.4,\n",
       " -218.8,\n",
       " 158.6,\n",
       " -34.3,\n",
       " 113.8,\n",
       " 57.9,\n",
       " 109.6,\n",
       " 23.9,\n",
       " -14.7,\n",
       " 115.8,\n",
       " -19.7,\n",
       " 227.3,\n",
       " 178.9,\n",
       " -37.3,\n",
       " 95.1,\n",
       " 180.6,\n",
       " 93.1,\n",
       " 117.4,\n",
       " 179.0,\n",
       " 34.8,\n",
       " 80.2,\n",
       " -55.0,\n",
       " 151.1,\n",
       " 107.7,\n",
       " 142.7,\n",
       " -4.9,\n",
       " 10.1]"
      ]
     },
     "execution_count": 84,
     "metadata": {},
     "output_type": "execute_result"
    }
   ],
   "source": [
    "rlist = [round(i*10+3,2) for i in rlist]\n",
    "rlist"
   ]
  },
  {
   "cell_type": "code",
   "execution_count": 85,
   "id": "1c6155d6",
   "metadata": {},
   "outputs": [],
   "source": [
    "post  = [i for i in rlist if i>0]\n",
    "negt  = [i for i in rlist if i<0]"
   ]
  },
  {
   "cell_type": "code",
   "execution_count": 86,
   "id": "4ae88d08",
   "metadata": {},
   "outputs": [
    {
     "data": {
      "text/plain": [
       "(29, 21)"
      ]
     },
     "execution_count": 86,
     "metadata": {},
     "output_type": "execute_result"
    }
   ],
   "source": [
    "len(post), len(negt)"
   ]
  },
  {
   "cell_type": "code",
   "execution_count": 87,
   "id": "f8b87b7f",
   "metadata": {},
   "outputs": [
    {
     "name": "stdout",
     "output_type": "stream",
     "text": [
      "[21.5, 9.2, 110.7, 188.8, 40.7, 1.4, 129.4, 140.4, 94.0, 160.0, 158.6, 113.8, 57.9, 109.6, 23.9, 115.8, 227.3, 178.9, 95.1, 180.6, 93.1, 117.4, 179.0, 34.8, 80.2, 151.1, 107.7, 142.7, 10.1]\n"
     ]
    }
   ],
   "source": [
    "print(post)"
   ]
  },
  {
   "cell_type": "code",
   "execution_count": 88,
   "id": "e1bf84f0",
   "metadata": {},
   "outputs": [
    {
     "name": "stdout",
     "output_type": "stream",
     "text": [
      "[-6.5, -36.5, -42.0, -17.3, -40.8, -123.1, -20.3, -11.8, -190.8, -254.0, -44.9, -73.4, -58.5, -11.4, -218.8, -34.3, -14.7, -19.7, -37.3, -55.0, -4.9]\n"
     ]
    }
   ],
   "source": [
    "print(negt)"
   ]
  },
  {
   "cell_type": "code",
   "execution_count": null,
   "id": "e44c96cc",
   "metadata": {},
   "outputs": [],
   "source": []
  }
 ],
 "metadata": {
  "kernelspec": {
   "display_name": "Python 3 (ipykernel)",
   "language": "python",
   "name": "python3"
  },
  "language_info": {
   "codemirror_mode": {
    "name": "ipython",
    "version": 3
   },
   "file_extension": ".py",
   "mimetype": "text/x-python",
   "name": "python",
   "nbconvert_exporter": "python",
   "pygments_lexer": "ipython3",
   "version": "3.9.18"
  }
 },
 "nbformat": 4,
 "nbformat_minor": 5
}
