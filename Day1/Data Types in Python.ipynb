{
 "cells": [
  {
   "cell_type": "markdown",
   "id": "b06013a8",
   "metadata": {},
   "source": [
    "\n",
    "# Lecture : Data Types in Python\n",
    "\n",
    "\n",
    "Estimated time needed: **15** minutes\n",
    "\n",
    "___\n",
    "\n",
    "## Objectives\n",
    "\n",
    "After completing this lab you will be able to:\n",
    "\n",
    "* Different data types in Ptyhon\n",
    "* usage of dtypes\n",
    "\n",
    "\n",
    "Data types represent the type of value that a variable can hold. Here are some of the common data types in Python:\n",
    "\n",
    "__Numeric Types:__\n",
    "\n",
    "* int: Integer type, e.g., x = 5\n",
    "* float: Floating-point type, e.g., y = 3.14\n",
    "* complex: Complex number type, e.g., z = 2 + 3j\n",
    "\n",
    "\n",
    "__Sequence Types:__\n",
    "\n",
    "* str: String type, e.g., s = \"Hello\"\n",
    "* list: List type, e.g., my_list = [1, 2, 3]\n",
    "* tuple: Tuple type, e.g., my_tuple = (1, 2, 3)\n",
    "\n",
    "\n",
    "__Set Types:__\n",
    "\n",
    "* set: Set type, e.g., my_set = {1, 2, 3}\n",
    "\n",
    "__Mapping Type:__\n",
    "\n",
    "* dict: Dictionary type, e.g., my_dict = {'key': 'value'}\n",
    "\n",
    "__Boolean Type:__\n",
    "\n",
    "* bool: Boolean type, e.g., flag = True\n"
   ]
  },
  {
   "cell_type": "markdown",
   "id": "ce94bd5d",
   "metadata": {},
   "source": [
    "### Numeric Data Type\n",
    "numeric data types are used to represent numeric values. The primary numeric types in Python include:"
   ]
  },
  {
   "cell_type": "code",
   "execution_count": 18,
   "id": "4de3f420",
   "metadata": {},
   "outputs": [
    {
     "name": "stdout",
     "output_type": "stream",
     "text": [
      "<class 'int'>\n",
      "<class 'float'>\n",
      "<class 'complex'>\n"
     ]
    }
   ],
   "source": [
    "# int (Integer): Represents whole numbers without any decimal point.\n",
    "\n",
    "x = 5\n",
    "print(type(x)) \n",
    "\n",
    "\n",
    "# float (Floating-Point): Represents real numbers with a decimal point.\n",
    "\n",
    "y = -3.14\n",
    "print(type(y))  \n",
    "\n",
    "\n",
    "# complex: Represents complex numbers in the form of a + bj, where a and b are real numbers and j is the imaginary unit.\n",
    "z = 2 + 3j\n",
    "print(type(z))  "
   ]
  },
  {
   "cell_type": "markdown",
   "id": "40e8fa22",
   "metadata": {},
   "source": [
    "### String Data Type\n",
    "the string data type (str) is used to represent sequences of characters. Strings can contain letters, numbers, and symbols. Here are some examples:"
   ]
  },
  {
   "cell_type": "code",
   "execution_count": 17,
   "id": "3f3d8638",
   "metadata": {},
   "outputs": [
    {
     "name": "stdout",
     "output_type": "stream",
     "text": [
      "Hello, World!\n",
      "------Now let see MLS-----\n",
      "This is a\n",
      "multiline\n",
      "string.\n"
     ]
    }
   ],
   "source": [
    "# Single-line string\n",
    "my_string = \"Hello, World!\"\n",
    "print(my_string)  \n",
    "\n",
    "\n",
    "print('------Now let see MLS-----')\n",
    "# Multiline string using triple-quotes\n",
    "multiline_string = \"\"\"This is a\n",
    "multiline\n",
    "string.\"\"\"\n",
    "print(multiline_string)"
   ]
  },
  {
   "cell_type": "markdown",
   "id": "234be150",
   "metadata": {},
   "source": [
    "<div class=\"alert alert-block alert-info\">\n",
    "<b>Note:</b> Strings in Python are immutable, meaning you cannot change the individual characters of a string directly. However, you can create new strings by combining or manipulating existing ones..\n",
    "</div>"
   ]
  },
  {
   "cell_type": "markdown",
   "id": "e0619f67",
   "metadata": {},
   "source": [
    "### List Data Type\n",
    "a list is a versatile and widely used data type that represents an ordered collection of elements. Lists are defined using square brackets [] and can contain elements of different data types. Here's an example of a list:"
   ]
  },
  {
   "cell_type": "code",
   "execution_count": 26,
   "id": "aca2af8d",
   "metadata": {},
   "outputs": [
    {
     "name": "stdout",
     "output_type": "stream",
     "text": [
      "[1, 2, 3, 'four', 5.0, [1, 2, 3], ('A', 'B'), {12, 'C'}]\n"
     ]
    }
   ],
   "source": [
    "# Creating a list\n",
    "my_list = [1, 2, 3, \"four\", 5.0, [1, 2, 3], (\"A\",\"B\"), {\"C\", 12}]\n",
    "print(my_list)  "
   ]
  },
  {
   "cell_type": "markdown",
   "id": "5e2719fd",
   "metadata": {},
   "source": [
    "### Tuple Data Type\n",
    "a tuple is a data type that represents an ordered, immutable collection of elements. Tuples are similar to lists, but once a tuple is created, you cannot modify its contents (add, remove, or modify elements). Tuples are defined using parentheses () and may contain elements of different data types. Here's an example:"
   ]
  },
  {
   "cell_type": "code",
   "execution_count": 25,
   "id": "bf5d1fa3",
   "metadata": {},
   "outputs": [
    {
     "name": "stdout",
     "output_type": "stream",
     "text": [
      "(1, 2, 3, 'four', 5.0, [1, 2, 3], ('A', 'B'), {12, 'C'})\n"
     ]
    }
   ],
   "source": [
    "# Creating a tuple\n",
    "my_tuple = (1, 2, 3, \"four\", 5.0, [1, 2, 3], (\"A\",\"B\"), {\"C\", 12})\n",
    "print(my_tuple)  "
   ]
  },
  {
   "cell_type": "markdown",
   "id": "ae0f82c8",
   "metadata": {},
   "source": [
    "### Set Data Type\n",
    "a set is a collection of unique elements, and it is defined by enclosing its elements in curly braces {} or by using the set() constructor. Sets do not allow duplicate elements, and they are unordered, meaning the elements do not have a specific order. Here's an example:"
   ]
  },
  {
   "cell_type": "code",
   "execution_count": 24,
   "id": "a2342aca",
   "metadata": {},
   "outputs": [
    {
     "name": "stdout",
     "output_type": "stream",
     "text": [
      "{35, 22, 10, 93, 94}\n"
     ]
    }
   ],
   "source": [
    "# Creating a set\n",
    "my_set = {10, 22, 93, 94, 35}\n",
    "print(my_set) "
   ]
  },
  {
   "cell_type": "markdown",
   "id": "6b82392a",
   "metadata": {},
   "source": [
    "### Dict Data Type\n",
    "a dictionary (dict) is a collection of key-value pairs. Each key in a dictionary must be unique, and it is associated with a corresponding value. Dictionaries are defined using curly braces {} and colons : to separate keys and values, or by using the dict() constructor. Here's an example:"
   ]
  },
  {
   "cell_type": "code",
   "execution_count": 23,
   "id": "0f45fec1",
   "metadata": {},
   "outputs": [
    {
     "name": "stdout",
     "output_type": "stream",
     "text": [
      "{'name': 'Ajay', 'age': 25, 'Country': 'India'}\n"
     ]
    }
   ],
   "source": [
    "# Creating a dictionary\n",
    "my_dict = {\"name\": \"Ajay\", \"age\": 25, \"Country\": \"India\"}\n",
    "print(my_dict)"
   ]
  }
 ],
 "metadata": {
  "kernelspec": {
   "display_name": "Python 3 (ipykernel)",
   "language": "python",
   "name": "python3"
  },
  "language_info": {
   "codemirror_mode": {
    "name": "ipython",
    "version": 3
   },
   "file_extension": ".py",
   "mimetype": "text/x-python",
   "name": "python",
   "nbconvert_exporter": "python",
   "pygments_lexer": "ipython3",
   "version": "3.9.18"
  }
 },
 "nbformat": 4,
 "nbformat_minor": 5
}
