{
 "cells": [
  {
   "cell_type": "markdown",
   "id": "a5306e8c",
   "metadata": {},
   "source": [
    "# Dictionary"
   ]
  },
  {
   "cell_type": "code",
   "execution_count": 1,
   "id": "026aaedd",
   "metadata": {},
   "outputs": [
    {
     "data": {
      "text/plain": [
       "{'E_ID': [10, 20, 30], 'SAL': [20, 40, 60], 'NAME': ['A', 'B', 'C']}"
      ]
     },
     "execution_count": 1,
     "metadata": {},
     "output_type": "execute_result"
    }
   ],
   "source": [
    "# dtype - dict\n",
    "\n",
    "d = {'E_ID': [10, 20, 30], \n",
    "     'SAL': [20, 40 ,60],\n",
    "     'NAME': ['A','B','C']}\n",
    "d"
   ]
  },
  {
   "cell_type": "code",
   "execution_count": 3,
   "id": "6c420b55",
   "metadata": {},
   "outputs": [
    {
     "data": {
      "text/html": [
       "<div>\n",
       "<style scoped>\n",
       "    .dataframe tbody tr th:only-of-type {\n",
       "        vertical-align: middle;\n",
       "    }\n",
       "\n",
       "    .dataframe tbody tr th {\n",
       "        vertical-align: top;\n",
       "    }\n",
       "\n",
       "    .dataframe thead th {\n",
       "        text-align: right;\n",
       "    }\n",
       "</style>\n",
       "<table border=\"1\" class=\"dataframe\">\n",
       "  <thead>\n",
       "    <tr style=\"text-align: right;\">\n",
       "      <th></th>\n",
       "      <th>E_ID</th>\n",
       "      <th>SAL</th>\n",
       "      <th>NAME</th>\n",
       "    </tr>\n",
       "  </thead>\n",
       "  <tbody>\n",
       "    <tr>\n",
       "      <th>0</th>\n",
       "      <td>10</td>\n",
       "      <td>20</td>\n",
       "      <td>A</td>\n",
       "    </tr>\n",
       "    <tr>\n",
       "      <th>1</th>\n",
       "      <td>20</td>\n",
       "      <td>40</td>\n",
       "      <td>B</td>\n",
       "    </tr>\n",
       "    <tr>\n",
       "      <th>2</th>\n",
       "      <td>30</td>\n",
       "      <td>60</td>\n",
       "      <td>C</td>\n",
       "    </tr>\n",
       "  </tbody>\n",
       "</table>\n",
       "</div>"
      ],
      "text/plain": [
       "   E_ID  SAL NAME\n",
       "0    10   20    A\n",
       "1    20   40    B\n",
       "2    30   60    C"
      ]
     },
     "execution_count": 3,
     "metadata": {},
     "output_type": "execute_result"
    }
   ],
   "source": [
    "import pandas as pd\n",
    "pd.DataFrame(data = d)"
   ]
  },
  {
   "cell_type": "code",
   "execution_count": 5,
   "id": "14f025e5",
   "metadata": {},
   "outputs": [
    {
     "data": {
      "text/plain": [
       "dict_keys(['E_ID', 'SAL', 'NAME'])"
      ]
     },
     "execution_count": 5,
     "metadata": {},
     "output_type": "execute_result"
    }
   ],
   "source": [
    "d.keys()"
   ]
  },
  {
   "cell_type": "code",
   "execution_count": 6,
   "id": "e6936e54",
   "metadata": {},
   "outputs": [
    {
     "data": {
      "text/plain": [
       "dict_values([[10, 20, 30], [20, 40, 60], ['A', 'B', 'C']])"
      ]
     },
     "execution_count": 6,
     "metadata": {},
     "output_type": "execute_result"
    }
   ],
   "source": [
    "d.values()"
   ]
  },
  {
   "cell_type": "code",
   "execution_count": 7,
   "id": "51abca61",
   "metadata": {},
   "outputs": [
    {
     "data": {
      "text/plain": [
       "dict_items([('E_ID', [10, 20, 30]), ('SAL', [20, 40, 60]), ('NAME', ['A', 'B', 'C'])])"
      ]
     },
     "execution_count": 7,
     "metadata": {},
     "output_type": "execute_result"
    }
   ],
   "source": [
    "d.items()"
   ]
  },
  {
   "cell_type": "code",
   "execution_count": 3,
   "id": "e37de1f0",
   "metadata": {},
   "outputs": [
    {
     "data": {
      "text/plain": [
       "{'E_ID': [10, 20, 30],\n",
       " 'SAL': [20, 40, 60],\n",
       " 'NAME': ['A', 'B', 'C'],\n",
       " 'NewKey': [30, 50, 60, 90]}"
      ]
     },
     "execution_count": 3,
     "metadata": {},
     "output_type": "execute_result"
    }
   ],
   "source": [
    "# add \n",
    "d['NewKey'] = [30, 50, 60 ,90]\n",
    "d"
   ]
  },
  {
   "cell_type": "code",
   "execution_count": 4,
   "id": "5b7e3787",
   "metadata": {},
   "outputs": [
    {
     "data": {
      "text/plain": [
       "('NewKey', [30, 50, 60, 90])"
      ]
     },
     "execution_count": 4,
     "metadata": {},
     "output_type": "execute_result"
    }
   ],
   "source": [
    "d.popitem()"
   ]
  },
  {
   "cell_type": "code",
   "execution_count": 5,
   "id": "789b9244",
   "metadata": {},
   "outputs": [
    {
     "data": {
      "text/plain": [
       "['A', 'B', 'C']"
      ]
     },
     "execution_count": 5,
     "metadata": {},
     "output_type": "execute_result"
    }
   ],
   "source": [
    "d.pop('NAME')"
   ]
  },
  {
   "cell_type": "code",
   "execution_count": 6,
   "id": "6fcdd353",
   "metadata": {},
   "outputs": [
    {
     "data": {
      "text/plain": [
       "([20, 40, 60], [20, 40, 60])"
      ]
     },
     "execution_count": 6,
     "metadata": {},
     "output_type": "execute_result"
    }
   ],
   "source": [
    "#dict_name['key_name']\n",
    "d['SAL'], d.get('SAL')"
   ]
  },
  {
   "cell_type": "code",
   "execution_count": 8,
   "id": "4a5532a7",
   "metadata": {},
   "outputs": [],
   "source": [
    "import seaborn as sns\n",
    "iris = sns.load_dataset('iris').to_dict()"
   ]
  },
  {
   "cell_type": "code",
   "execution_count": 15,
   "id": "9416e852",
   "metadata": {},
   "outputs": [
    {
     "name": "stdout",
     "output_type": "stream",
     "text": [
      "sepal_length 150\n",
      "sepal_width 150\n",
      "petal_length 150\n",
      "petal_width 150\n",
      "species 150\n"
     ]
    }
   ],
   "source": [
    "iris.keys()\n",
    "\n",
    "for i in iris:\n",
    "    print(i, len(iris[i]))"
   ]
  },
  {
   "cell_type": "markdown",
   "id": "7f027b4f",
   "metadata": {},
   "source": [
    "# Functions\n",
    "\n",
    "Two types of Functions: \n",
    "\n",
    "1. Built - IN \n",
    "2. User Defined"
   ]
  },
  {
   "cell_type": "code",
   "execution_count": 18,
   "id": "7244e966",
   "metadata": {},
   "outputs": [
    {
     "data": {
      "text/plain": [
       "4"
      ]
     },
     "execution_count": 18,
     "metadata": {},
     "output_type": "execute_result"
    }
   ],
   "source": [
    "# abs - returna absolute value of any number\n",
    "abs(-4)"
   ]
  },
  {
   "cell_type": "code",
   "execution_count": 19,
   "id": "d6be712c",
   "metadata": {},
   "outputs": [
    {
     "data": {
      "text/plain": [
       "(True, False, True)"
      ]
     },
     "execution_count": 19,
     "metadata": {},
     "output_type": "execute_result"
    }
   ],
   "source": [
    "# bool() - convert a val to bool\n",
    "bool(2), bool(0), bool(1)"
   ]
  },
  {
   "cell_type": "code",
   "execution_count": 62,
   "id": "5dfa279c",
   "metadata": {},
   "outputs": [],
   "source": [
    "divmod(10,4)\n",
    "def ABC(a,b):\n",
    "    return (a//b, a%b)"
   ]
  },
  {
   "cell_type": "code",
   "execution_count": null,
   "id": "5f5c1ca4",
   "metadata": {},
   "outputs": [],
   "source": [
    "ABC(10, 4), "
   ]
  },
  {
   "cell_type": "code",
   "execution_count": 13,
   "id": "bbf8e91f",
   "metadata": {},
   "outputs": [
    {
     "data": {
      "text/plain": [
       "120"
      ]
     },
     "execution_count": 13,
     "metadata": {},
     "output_type": "execute_result"
    }
   ],
   "source": [
    "sum(d['SAL'])"
   ]
  },
  {
   "cell_type": "code",
   "execution_count": 23,
   "id": "462617a9",
   "metadata": {},
   "outputs": [
    {
     "data": {
      "text/plain": [
       "50"
      ]
     },
     "execution_count": 23,
     "metadata": {},
     "output_type": "execute_result"
    }
   ],
   "source": [
    "sum(d['A']) - d['A'][0]"
   ]
  },
  {
   "cell_type": "code",
   "execution_count": 24,
   "id": "37a68270",
   "metadata": {},
   "outputs": [
    {
     "data": {
      "text/plain": [
       "'A'"
      ]
     },
     "execution_count": 24,
     "metadata": {},
     "output_type": "execute_result"
    }
   ],
   "source": [
    "min(d)"
   ]
  },
  {
   "cell_type": "code",
   "execution_count": 25,
   "id": "fb63bc2f",
   "metadata": {},
   "outputs": [
    {
     "data": {
      "text/plain": [
       "'B'"
      ]
     },
     "execution_count": 25,
     "metadata": {},
     "output_type": "execute_result"
    }
   ],
   "source": [
    "max(d)"
   ]
  },
  {
   "cell_type": "markdown",
   "id": "b5e4431a",
   "metadata": {},
   "source": [
    "### User defined Function"
   ]
  },
  {
   "cell_type": "code",
   "execution_count": 4,
   "id": "41dcaa81",
   "metadata": {},
   "outputs": [
    {
     "data": {
      "text/plain": [
       "'This is a null function.'"
      ]
     },
     "execution_count": 4,
     "metadata": {},
     "output_type": "execute_result"
    }
   ],
   "source": [
    "def function_name(x):\n",
    "    '''This is a null function.'''\n",
    "function_name('Hello')\n",
    "function_name.__doc__"
   ]
  },
  {
   "cell_type": "code",
   "execution_count": 21,
   "id": "23ac9b3c",
   "metadata": {},
   "outputs": [],
   "source": [
    "def greet(name):\n",
    "    print('Hello, '+name)"
   ]
  },
  {
   "cell_type": "code",
   "execution_count": 29,
   "id": "6268c05f",
   "metadata": {},
   "outputs": [
    {
     "name": "stdout",
     "output_type": "stream",
     "text": [
      "Hello, Prashant\n",
      "Hello, Vivek\n"
     ]
    }
   ],
   "source": [
    "greet('Prashant')\n",
    "greet(name='Vivek')"
   ]
  },
  {
   "cell_type": "code",
   "execution_count": 104,
   "id": "cff75fdf",
   "metadata": {},
   "outputs": [],
   "source": [
    "# for returning absolute values of a number\n",
    "\n",
    "def Absolute(num):\n",
    "    if num > 0:\n",
    "        return num\n",
    "    elif num == 0:\n",
    "        return 0\n",
    "    else:\n",
    "        return -num"
   ]
  },
  {
   "cell_type": "code",
   "execution_count": 105,
   "id": "ec87a744",
   "metadata": {},
   "outputs": [
    {
     "data": {
      "text/plain": [
       "(32, 50, 40)"
      ]
     },
     "execution_count": 105,
     "metadata": {},
     "output_type": "execute_result"
    }
   ],
   "source": [
    "Absolute(-32), Absolute(50), abs(-40)"
   ]
  },
  {
   "cell_type": "code",
   "execution_count": 106,
   "id": "e4553005",
   "metadata": {},
   "outputs": [],
   "source": [
    "# function to reverse a string\n",
    "\n",
    "def string_reverse(x):\n",
    "    string = \"\"\n",
    "    index = len(x)\n",
    "    #word = 3\n",
    "    \n",
    "    while index >0:\n",
    "        string += x[index - 1]\n",
    "        index -= 1\n",
    "    print(string)"
   ]
  },
  {
   "cell_type": "code",
   "execution_count": 107,
   "id": "d5c7761c",
   "metadata": {},
   "outputs": [
    {
     "name": "stdout",
     "output_type": "stream",
     "text": [
      "nohtyP\n",
      "ymotanA\n",
      "nitin\n",
      "bob\n",
      "hsraktu\n"
     ]
    }
   ],
   "source": [
    "string_reverse('Python')\n",
    "string_reverse('Anatomy')\n",
    "string_reverse('nitin')\n",
    "string_reverse('bob')\n",
    "string_reverse('utkarsh')"
   ]
  },
  {
   "cell_type": "code",
   "execution_count": 37,
   "id": "7cebb645",
   "metadata": {},
   "outputs": [],
   "source": [
    "# function to check perfect number\n",
    "\n",
    "def perfect_number(x):\n",
    "    var = 0\n",
    "    for i in range(1, x):\n",
    "        if x %i == 0:\n",
    "            var += i\n",
    "    return var == x"
   ]
  },
  {
   "cell_type": "code",
   "execution_count": 53,
   "id": "ef28bc34",
   "metadata": {},
   "outputs": [
    {
     "data": {
      "text/plain": [
       "True"
      ]
     },
     "execution_count": 53,
     "metadata": {},
     "output_type": "execute_result"
    }
   ],
   "source": [
    "perfect_number(6)"
   ]
  },
  {
   "cell_type": "code",
   "execution_count": 40,
   "id": "52686d0e",
   "metadata": {},
   "outputs": [
    {
     "data": {
      "text/plain": [
       "81"
      ]
     },
     "execution_count": 40,
     "metadata": {},
     "output_type": "execute_result"
    }
   ],
   "source": [
    "sum((2,3, 4, 6, 5,1, 12, 12, 12, 12, 12))"
   ]
  },
  {
   "cell_type": "code",
   "execution_count": 106,
   "id": "da69cc80",
   "metadata": {},
   "outputs": [],
   "source": [
    "def Max(*num):\n",
    "    return max(num)"
   ]
  },
  {
   "cell_type": "code",
   "execution_count": 6,
   "id": "7bd98bae",
   "metadata": {},
   "outputs": [
    {
     "name": "stdout",
     "output_type": "stream",
     "text": [
      "I am from Nepal\n"
     ]
    }
   ],
   "source": [
    "def country(name = \"India\"):\n",
    "    print('I am from', name)\n",
    "country(\"Nepal\")"
   ]
  },
  {
   "cell_type": "code",
   "execution_count": 110,
   "id": "45498659",
   "metadata": {},
   "outputs": [],
   "source": [
    "def default(param = 'Alexa'):\n",
    "    print('I am, '+ param)"
   ]
  },
  {
   "cell_type": "code",
   "execution_count": 112,
   "id": "e9aeffed",
   "metadata": {},
   "outputs": [
    {
     "name": "stdout",
     "output_type": "stream",
     "text": [
      "I am, Siri\n"
     ]
    }
   ],
   "source": [
    "default('Siri')"
   ]
  },
  {
   "cell_type": "markdown",
   "id": "d4cb6a99",
   "metadata": {},
   "source": [
    "## Lambda Functions"
   ]
  },
  {
   "cell_type": "code",
   "execution_count": 7,
   "id": "7ba915c1",
   "metadata": {},
   "outputs": [
    {
     "name": "stdout",
     "output_type": "stream",
     "text": [
      "10 even\n",
      "34 even\n",
      "34 even\n",
      "98 even\n",
      "36 even\n",
      "94 even\n",
      "28 even\n"
     ]
    }
   ],
   "source": [
    "mylist = [10, 34, -87, 34, 98, 57, 36, 94, 28, 73, 71, 59]\n",
    "for i in mylist:\n",
    "    if i % 2== 0:\n",
    "        print(i, 'even')\n",
    "    else:\n",
    "        pass"
   ]
  },
  {
   "cell_type": "code",
   "execution_count": 9,
   "id": "56a17125",
   "metadata": {},
   "outputs": [
    {
     "data": {
      "text/plain": [
       "[10, 34, 34, 98, 36, 94, 28]"
      ]
     },
     "execution_count": 9,
     "metadata": {},
     "output_type": "execute_result"
    }
   ],
   "source": [
    "function = lambda x: (x %2 == 0)\n",
    "even_list = list(filter(function, mylist))\n",
    "even_list"
   ]
  },
  {
   "cell_type": "code",
   "execution_count": 1,
   "id": "e2ba68c4",
   "metadata": {},
   "outputs": [
    {
     "name": "stdout",
     "output_type": "stream",
     "text": [
      "[('English', 88), ('Science', 90), ('Maths', 97), ('Social Science', 20)]\n"
     ]
    }
   ],
   "source": [
    "mylist = [('English', 88), ('Science', 90), ('Maths', 97), ('Social Science', 20)]\n",
    "function = lambda x: x[1]\n",
    "print(list(filter(function, mylist)))"
   ]
  },
  {
   "cell_type": "code",
   "execution_count": 10,
   "id": "fc0da262",
   "metadata": {},
   "outputs": [
    {
     "data": {
      "text/plain": [
       "[20, 68, 68, 196, 72, 188, 56]"
      ]
     },
     "execution_count": 10,
     "metadata": {},
     "output_type": "execute_result"
    }
   ],
   "source": [
    "map_list = list(map(lambda x :(x*2), even_list))\n",
    "map_list"
   ]
  },
  {
   "cell_type": "code",
   "execution_count": 93,
   "id": "5afb67b7",
   "metadata": {},
   "outputs": [
    {
     "data": {
      "text/plain": [
       "'rediffmail.com'"
      ]
     },
     "execution_count": 93,
     "metadata": {},
     "output_type": "execute_result"
    }
   ],
   "source": [
    "s = lambda x : x.split('@')[-1]\n",
    "y = 'wikki.stark@rediffmail.com'\n",
    "s(y)"
   ]
  },
  {
   "cell_type": "code",
   "execution_count": 12,
   "id": "0d581081",
   "metadata": {},
   "outputs": [
    {
     "name": "stdout",
     "output_type": "stream",
     "text": [
      "A is bad\n",
      "B is bad\n",
      "C is bad\n"
     ]
    }
   ],
   "source": [
    "def args(*names, mood= 'happy'):\n",
    "    index = len(names)\n",
    "    if index>0:\n",
    "        for i in names:\n",
    "            print(i,'is',mood)\n",
    "    else:\n",
    "        print(*names, 'is', mood)\n",
    "        \n",
    "args('A','B', 'C', mood='bad')"
   ]
  },
  {
   "cell_type": "code",
   "execution_count": 2,
   "id": "a141b54c",
   "metadata": {},
   "outputs": [
    {
     "data": {
      "text/plain": [
       "[1000, 8000, 27000, 64000]"
      ]
     },
     "execution_count": 2,
     "metadata": {},
     "output_type": "execute_result"
    }
   ],
   "source": [
    "# Python Program to triple all the number\n",
    "sample_list = [10, 20, 30, 40]\n",
    "map_list = list(map(lambda x :(x**3), sample_list))\n",
    "map_list"
   ]
  },
  {
   "cell_type": "code",
   "execution_count": 4,
   "id": "e069323b",
   "metadata": {},
   "outputs": [
    {
     "name": "stdout",
     "output_type": "stream",
     "text": [
      "Negative Sum:  -32\n",
      "Positive Sum:  48\n"
     ]
    }
   ],
   "source": [
    "x = [2, 4, -6, -9, 11, -12, 14, -5, 17]\n",
    "\n",
    "negative = list(filter(lambda x:x<0, x))\n",
    "positive = list(filter(lambda x:x>0,x))\n",
    "\n",
    "print(\"Negative Sum: \",sum(negative))\n",
    "print(\"Positive Sum: \",sum(positive))"
   ]
  },
  {
   "cell_type": "code",
   "execution_count": 3,
   "id": "4a5b207c",
   "metadata": {},
   "outputs": [
    {
     "data": {
      "text/plain": [
       "'Return a copy of the string converted to lowercase.'"
      ]
     },
     "execution_count": 3,
     "metadata": {},
     "output_type": "execute_result"
    }
   ],
   "source": [
    "str.lower.__doc__"
   ]
  },
  {
   "cell_type": "code",
   "execution_count": 5,
   "id": "900d7453",
   "metadata": {},
   "outputs": [],
   "source": [
    "import builtins"
   ]
  },
  {
   "cell_type": "code",
   "execution_count": 6,
   "id": "57c317c2",
   "metadata": {},
   "outputs": [
    {
     "name": "stdout",
     "output_type": "stream",
     "text": [
      "['ArithmeticError', 'AssertionError', 'AttributeError', 'BaseException', 'BlockingIOError', 'BrokenPipeError', 'BufferError', 'BytesWarning', 'ChildProcessError', 'ConnectionAbortedError', 'ConnectionError', 'ConnectionRefusedError', 'ConnectionResetError', 'DeprecationWarning', 'EOFError', 'Ellipsis', 'EnvironmentError', 'Exception', 'False', 'FileExistsError', 'FileNotFoundError', 'FloatingPointError', 'FutureWarning', 'GeneratorExit', 'IOError', 'ImportError', 'ImportWarning', 'IndentationError', 'IndexError', 'InterruptedError', 'IsADirectoryError', 'KeyError', 'KeyboardInterrupt', 'LookupError', 'MemoryError', 'ModuleNotFoundError', 'NameError', 'None', 'NotADirectoryError', 'NotImplemented', 'NotImplementedError', 'OSError', 'OverflowError', 'PendingDeprecationWarning', 'PermissionError', 'ProcessLookupError', 'RecursionError', 'ReferenceError', 'ResourceWarning', 'RuntimeError', 'RuntimeWarning', 'StopAsyncIteration', 'StopIteration', 'SyntaxError', 'SyntaxWarning', 'SystemError', 'SystemExit', 'TabError', 'TimeoutError', 'True', 'TypeError', 'UnboundLocalError', 'UnicodeDecodeError', 'UnicodeEncodeError', 'UnicodeError', 'UnicodeTranslateError', 'UnicodeWarning', 'UserWarning', 'ValueError', 'Warning', 'ZeroDivisionError', '__IPYTHON__', '__build_class__', '__debug__', '__doc__', '__import__', '__loader__', '__name__', '__package__', '__spec__', 'abs', 'all', 'any', 'ascii', 'bin', 'bool', 'breakpoint', 'bytearray', 'bytes', 'callable', 'chr', 'classmethod', 'compile', 'complex', 'copyright', 'credits', 'delattr', 'dict', 'dir', 'display', 'divmod', 'enumerate', 'eval', 'exec', 'execfile', 'filter', 'float', 'format', 'frozenset', 'get_ipython', 'getattr', 'globals', 'hasattr', 'hash', 'help', 'hex', 'id', 'input', 'int', 'isinstance', 'issubclass', 'iter', 'len', 'license', 'list', 'locals', 'map', 'max', 'memoryview', 'min', 'next', 'object', 'oct', 'open', 'ord', 'pow', 'print', 'property', 'range', 'repr', 'reversed', 'round', 'runfile', 'set', 'setattr', 'slice', 'sorted', 'staticmethod', 'str', 'sum', 'super', 'tuple', 'type', 'vars', 'zip']\n"
     ]
    }
   ],
   "source": [
    "print(dir(builtins))"
   ]
  },
  {
   "cell_type": "markdown",
   "id": "480b0ea2",
   "metadata": {},
   "source": [
    "### WAP to greet the user"
   ]
  },
  {
   "cell_type": "code",
   "execution_count": 7,
   "id": "2f6360e4",
   "metadata": {},
   "outputs": [],
   "source": [
    "def greet(): \n",
    "    return 'Hello'"
   ]
  },
  {
   "cell_type": "code",
   "execution_count": 8,
   "id": "827a3440",
   "metadata": {},
   "outputs": [
    {
     "data": {
      "text/plain": [
       "'Hello'"
      ]
     },
     "execution_count": 8,
     "metadata": {},
     "output_type": "execute_result"
    }
   ],
   "source": [
    "greet()"
   ]
  },
  {
   "cell_type": "code",
   "execution_count": 10,
   "id": "bc1c14e3",
   "metadata": {},
   "outputs": [],
   "source": [
    "def square(x):\n",
    "    return x**5"
   ]
  },
  {
   "cell_type": "code",
   "execution_count": 19,
   "id": "0cd1aef0",
   "metadata": {},
   "outputs": [
    {
     "data": {
      "text/plain": [
       "4508572.755600001"
      ]
     },
     "execution_count": 19,
     "metadata": {},
     "output_type": "execute_result"
    }
   ],
   "source": [
    "square(2123.34)"
   ]
  },
  {
   "cell_type": "code",
   "execution_count": 23,
   "id": "347530f7",
   "metadata": {},
   "outputs": [],
   "source": [
    "def powers(x,y):\n",
    "    '''\n",
    "    This function will return x to the power y, where x is the base\n",
    "    and y will the power.\n",
    "    \n",
    "    >>> def root(x = 4, y = 2): \n",
    "            return (x**y)\n",
    "            \n",
    "    >>> 16\n",
    "    '''\n",
    "    return x**y"
   ]
  },
  {
   "cell_type": "code",
   "execution_count": 29,
   "id": "d8c780e0",
   "metadata": {},
   "outputs": [
    {
     "data": {
      "text/plain": [
       "1048576"
      ]
     },
     "execution_count": 29,
     "metadata": {},
     "output_type": "execute_result"
    }
   ],
   "source": [
    "powers(4,y=10)"
   ]
  },
  {
   "cell_type": "code",
   "execution_count": 38,
   "id": "fd345cc3",
   "metadata": {},
   "outputs": [],
   "source": [
    "def syntaxfun(y, x=4, z=2): \n",
    "    return x+y"
   ]
  },
  {
   "cell_type": "code",
   "execution_count": 34,
   "id": "aaeac1ed",
   "metadata": {},
   "outputs": [
    {
     "data": {
      "text/plain": [
       "7"
      ]
     },
     "execution_count": 34,
     "metadata": {},
     "output_type": "execute_result"
    }
   ],
   "source": [
    "syntaxfun(3)"
   ]
  },
  {
   "cell_type": "markdown",
   "id": "abd81d5e",
   "metadata": {},
   "source": [
    "### WAP to print the factorial of the user"
   ]
  },
  {
   "cell_type": "code",
   "execution_count": 57,
   "id": "4811155a",
   "metadata": {},
   "outputs": [],
   "source": [
    "def factorial(num):\n",
    "    fact=1\n",
    "    if num < 0:\n",
    "        print(\"invalid input\")\n",
    "    elif num == 0:\n",
    "        print(\"factorial is 1\")\n",
    "    else:\n",
    "        for i in range(1 , num+1):\n",
    "            fact = fact * i\n",
    "        print(fact)"
   ]
  },
  {
   "cell_type": "code",
   "execution_count": 61,
   "id": "c37a3530",
   "metadata": {},
   "outputs": [
    {
     "name": "stdout",
     "output_type": "stream",
     "text": [
      "120\n",
      "3628800\n"
     ]
    }
   ],
   "source": [
    "factorial(5)\n",
    "factorial(10)\n",
    "#factorial(100003948746353)"
   ]
  },
  {
   "cell_type": "code",
   "execution_count": 128,
   "id": "29e33bf3",
   "metadata": {},
   "outputs": [
    {
     "data": {
      "text/plain": [
       "5"
      ]
     },
     "execution_count": 128,
     "metadata": {},
     "output_type": "execute_result"
    }
   ],
   "source": [
    "len('dfghj')"
   ]
  },
  {
   "cell_type": "code",
   "execution_count": 133,
   "id": "0d6e696d",
   "metadata": {},
   "outputs": [],
   "source": [
    "def length(x):\n",
    "    count = 0\n",
    "    na = [int, float, complex]\n",
    "    a = [list, str, tuple]\n",
    "    if type(x) in na: \n",
    "        print('Indexing Not Possible')\n",
    "    elif type(x) in a: \n",
    "        for i in x: \n",
    "            count+=1\n",
    "        print('---Data---')\n",
    "        print(x)\n",
    "        print('---Count---')\n",
    "        print(count)\n",
    "    else:\n",
    "        print('Indexing Not Possible') "
   ]
  },
  {
   "cell_type": "code",
   "execution_count": 132,
   "id": "2048cbf4",
   "metadata": {},
   "outputs": [
    {
     "ename": "TypeError",
     "evalue": "object of type 'int' has no len()",
     "output_type": "error",
     "traceback": [
      "\u001b[0;31m---------------------------------------------------------------------------\u001b[0m",
      "\u001b[0;31mTypeError\u001b[0m                                 Traceback (most recent call last)",
      "Cell \u001b[0;32mIn [132], line 1\u001b[0m\n\u001b[0;32m----> 1\u001b[0m \u001b[38;5;28;43mlen\u001b[39;49m\u001b[43m(\u001b[49m\u001b[38;5;241;43m23\u001b[39;49m\u001b[43m)\u001b[49m\n",
      "\u001b[0;31mTypeError\u001b[0m: object of type 'int' has no len()"
     ]
    }
   ],
   "source": [
    "len(23)"
   ]
  },
  {
   "cell_type": "code",
   "execution_count": 125,
   "id": "063aa139",
   "metadata": {},
   "outputs": [
    {
     "name": "stdout",
     "output_type": "stream",
     "text": [
      "A\n",
      "m\n",
      "i\n",
      "t\n"
     ]
    }
   ],
   "source": [
    "for i in 'Amit':\n",
    "    print(i)"
   ]
  },
  {
   "cell_type": "code",
   "execution_count": 131,
   "id": "9ed8e468",
   "metadata": {},
   "outputs": [
    {
     "ename": "TypeError",
     "evalue": "Indexing Not Possible",
     "output_type": "error",
     "traceback": [
      "\u001b[0;31m---------------------------------------------------------------------------\u001b[0m",
      "\u001b[0;31mTypeError\u001b[0m                                 Traceback (most recent call last)",
      "Cell \u001b[0;32mIn [131], line 1\u001b[0m\n\u001b[0;32m----> 1\u001b[0m \u001b[43mlength\u001b[49m\u001b[43m(\u001b[49m\u001b[38;5;241;43m23\u001b[39;49m\u001b[43m)\u001b[49m\n",
      "Cell \u001b[0;32mIn [130], line 6\u001b[0m, in \u001b[0;36mlength\u001b[0;34m(x)\u001b[0m\n\u001b[1;32m      4\u001b[0m a \u001b[38;5;241m=\u001b[39m [\u001b[38;5;28mlist\u001b[39m, \u001b[38;5;28mstr\u001b[39m, \u001b[38;5;28mtuple\u001b[39m]\n\u001b[1;32m      5\u001b[0m \u001b[38;5;28;01mif\u001b[39;00m \u001b[38;5;28mtype\u001b[39m(x) \u001b[38;5;129;01min\u001b[39;00m na: \n\u001b[0;32m----> 6\u001b[0m     \u001b[38;5;28;01mraise\u001b[39;00m \u001b[38;5;167;01mTypeError\u001b[39;00m(\u001b[38;5;124m'\u001b[39m\u001b[38;5;124mIndexing Not Possible\u001b[39m\u001b[38;5;124m'\u001b[39m)\n\u001b[1;32m      7\u001b[0m \u001b[38;5;28;01melif\u001b[39;00m \u001b[38;5;28mtype\u001b[39m(x) \u001b[38;5;129;01min\u001b[39;00m a: \n\u001b[1;32m      8\u001b[0m     \u001b[38;5;28;01mfor\u001b[39;00m i \u001b[38;5;129;01min\u001b[39;00m x: \n",
      "\u001b[0;31mTypeError\u001b[0m: Indexing Not Possible"
     ]
    }
   ],
   "source": [
    "length(23)"
   ]
  },
  {
   "cell_type": "code",
   "execution_count": null,
   "id": "8e03c39a",
   "metadata": {},
   "outputs": [],
   "source": [
    "im"
   ]
  }
 ],
 "metadata": {
  "kernelspec": {
   "display_name": "Python 3 (ipykernel)",
   "language": "python",
   "name": "python3"
  },
  "language_info": {
   "codemirror_mode": {
    "name": "ipython",
    "version": 3
   },
   "file_extension": ".py",
   "mimetype": "text/x-python",
   "name": "python",
   "nbconvert_exporter": "python",
   "pygments_lexer": "ipython3",
   "version": "3.9.18"
  }
 },
 "nbformat": 4,
 "nbformat_minor": 5
}
