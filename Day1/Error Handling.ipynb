{
 "cells": [
  {
   "cell_type": "markdown",
   "id": "3c1e526e",
   "metadata": {},
   "source": [
    "\n",
    "# Lecture : Error Handling in Python\n",
    "\n",
    "\n",
    "Estimated time needed: **40** minutes\n",
    "\n",
    "\n",
    "___\n",
    "\n",
    "## Objectives\n",
    "\n",
    "After completing this lab you will be able to:\n",
    "\n",
    "* Troubleshooting and Debugging\n",
    "* Security Enhancement\n",
    "* Maintaining Data Integrity\n",
    "\n",
    "### File Handling Modes\n",
    "\n",
    "* try \n",
    "* except\n",
    "* finally"
   ]
  },
  {
   "cell_type": "markdown",
   "id": "352d14b9",
   "metadata": {},
   "source": [
    "Error handling in Python involves capturing and managing exceptions that occur during the execution of a program. Exceptions are raised when an error or an exceptional situation occurs, and they can be handled using try and except blocks. Here's a basic structure of error handling in Python:"
   ]
  },
  {
   "cell_type": "markdown",
   "id": "cdb1fcdf",
   "metadata": {},
   "source": [
    "```python\n",
    "try:\n",
    "    # Code that may raise an exception\n",
    "    # ...\n",
    "except ExceptionType1:\n",
    "    # Code to handle the specific ExceptionType1\n",
    "    # ...\n",
    "except ExceptionType2:\n",
    "    # Code to handle the specific ExceptionType2\n",
    "    # ...\n",
    "else:\n",
    "    # Code to execute if no exceptions are raised\n",
    "    # ...\n",
    "finally:\n",
    "    # Code that will always be executed, regardless of whether an exception occurred or not\n",
    "    # ...\n",
    "```"
   ]
  },
  {
   "cell_type": "markdown",
   "id": "bbe943ac",
   "metadata": {},
   "source": [
    "In the above structure:\n",
    "\n",
    "* The __try__ block contains the code that may raise an exception.\n",
    "* If an exception occurs within the __try__ block, it is captured by the corresponding __except__ block that matches the exception type.\n",
    "* Multiple except blocks can be used to handle different types of exceptions.\n",
    "* The __else__ block is executed if no exceptions occur in the try block.\n",
    "* The __finally__ block contains code that will always be executed, whether an exception occurred or not.\n",
    "<br><br>\n",
    "Here's an example that demonstrates error handling in Python:"
   ]
  },
  {
   "cell_type": "code",
   "execution_count": 1,
   "id": "3919e96d",
   "metadata": {},
   "outputs": [
    {
     "name": "stdout",
     "output_type": "stream",
     "text": [
      "Enter the dividend: 56\n",
      "Enter the divisor: 0\n",
      "Divisor cannot be zero.\n",
      "Error handling complete.\n"
     ]
    }
   ],
   "source": [
    "try:\n",
    "    dividend = int(input(\"Enter the dividend: \"))\n",
    "    divisor = int(input(\"Enter the divisor: \"))\n",
    "    result = dividend / divisor\n",
    "    print(\"Result:\", result)\n",
    "except ValueError:\n",
    "    print(\"Please enter valid integers.\")\n",
    "except ZeroDivisionError:\n",
    "    print(\"Divisor cannot be zero.\")\n",
    "else:\n",
    "    print(\"Division performed successfully.\")\n",
    "finally:\n",
    "    print(\"Error handling complete.\")"
   ]
  },
  {
   "cell_type": "code",
   "execution_count": 2,
   "id": "d5948789",
   "metadata": {},
   "outputs": [
    {
     "ename": "ZeroDivisionError",
     "evalue": "division by zero",
     "output_type": "error",
     "traceback": [
      "\u001b[0;31m---------------------------------------------------------------------------\u001b[0m",
      "\u001b[0;31mZeroDivisionError\u001b[0m                         Traceback (most recent call last)",
      "Cell \u001b[0;32mIn [2], line 1\u001b[0m\n\u001b[0;32m----> 1\u001b[0m \u001b[38;5;241;43m10\u001b[39;49m\u001b[38;5;241;43m/\u001b[39;49m\u001b[38;5;241;43m0\u001b[39;49m\n",
      "\u001b[0;31mZeroDivisionError\u001b[0m: division by zero"
     ]
    }
   ],
   "source": [
    "10/0"
   ]
  },
  {
   "cell_type": "code",
   "execution_count": 33,
   "id": "715b2448",
   "metadata": {},
   "outputs": [
    {
     "data": {
      "text/plain": [
       "7.1875"
      ]
     },
     "execution_count": 33,
     "metadata": {},
     "output_type": "execute_result"
    }
   ],
   "source": [
    "23/3.2"
   ]
  },
  {
   "cell_type": "markdown",
   "id": "0732bc8c",
   "metadata": {},
   "source": [
    "In this example, the user is prompted to enter a __dividend__ and a __divisor__. If the user enters invalid inputs (e.g., non-integer values), a __ValueError__ is raised and handled in the corresponding __except__ block. If the user enters a divisor of zero, a __ZeroDivisionError__ is raised and handled in its respective except block. If no exceptions occur, the code in the __else__ block is executed. The __finally__ block is always executed, regardless of whether an exception occurred or not.\n",
    "\n",
    "By handling exceptions, you can gracefully manage errors and prevent program termination, allowing for more robust and reliable code execution."
   ]
  },
  {
   "cell_type": "code",
   "execution_count": 38,
   "id": "83ab8b05",
   "metadata": {},
   "outputs": [
    {
     "name": "stdout",
     "output_type": "stream",
     "text": [
      "Result: unsupported operand type(s) for +: 'int' and 'str'\n"
     ]
    }
   ],
   "source": [
    "try:\n",
    "    x = 10\n",
    "    y = '5'\n",
    "    z = x + y  # Attempting to add an int and a string\n",
    "    print(\"Result:\", z)\n",
    "except TypeError as e:\n",
    "    print(\"Result:\", str(e))"
   ]
  },
  {
   "cell_type": "code",
   "execution_count": null,
   "id": "340324eb",
   "metadata": {},
   "outputs": [],
   "source": []
  },
  {
   "cell_type": "markdown",
   "id": "b948e7cb",
   "metadata": {},
   "source": [
    "__RAISING EXCEPTION__\n",
    "\n",
    "In Python, you can raise an exception explicitly using the __raise__ statement. This allows you to create and raise custom exceptions or raise built-in exceptions in specific situations. Here's the basic syntax for raising an exception\n",
    "\n",
    "```python\n",
    "raise ExceptionType(\"Error message\")\n",
    "```"
   ]
  },
  {
   "cell_type": "code",
   "execution_count": 40,
   "id": "74e148f1",
   "metadata": {},
   "outputs": [
    {
     "ename": "ValueError",
     "evalue": "x cannot be negative",
     "output_type": "error",
     "traceback": [
      "\u001b[0;31m---------------------------------------------------------------------------\u001b[0m",
      "\u001b[0;31mValueError\u001b[0m                                Traceback (most recent call last)",
      "Cell \u001b[0;32mIn [40], line 3\u001b[0m\n\u001b[1;32m      1\u001b[0m x \u001b[38;5;241m=\u001b[39m \u001b[38;5;241m-\u001b[39m\u001b[38;5;241m2\u001b[39m\n\u001b[1;32m      2\u001b[0m \u001b[38;5;28;01mif\u001b[39;00m x \u001b[38;5;241m<\u001b[39m \u001b[38;5;241m0\u001b[39m:\n\u001b[0;32m----> 3\u001b[0m     \u001b[38;5;28;01mraise\u001b[39;00m \u001b[38;5;167;01mValueError\u001b[39;00m(\u001b[38;5;124m\"\u001b[39m\u001b[38;5;124mx cannot be negative\u001b[39m\u001b[38;5;124m\"\u001b[39m)\n",
      "\u001b[0;31mValueError\u001b[0m: x cannot be negative"
     ]
    }
   ],
   "source": [
    "x = -2\n",
    "if x < 0:\n",
    "    raise ValueError(\"x cannot be negative\")"
   ]
  },
  {
   "cell_type": "code",
   "execution_count": 5,
   "id": "cc9fff37",
   "metadata": {},
   "outputs": [],
   "source": [
    "def fact(x):\n",
    "    import math\n",
    "    '''This function will return the factorial of a given number\n",
    "    \n",
    "    >>> fact(3)\n",
    "    6\n",
    "    \n",
    "    >>> fact(5)\n",
    "    120\n",
    "    '''\n",
    "    \n",
    "    if x < 0: \n",
    "        raise ValueError(\"x cannot be negative, factorial of negative numbers are not defined.\")\n",
    "    return math.prod([i for i in range(1,x+1)]) # 1, 2, 3, 4, 5"
   ]
  },
  {
   "cell_type": "code",
   "execution_count": 6,
   "id": "8430da0f",
   "metadata": {},
   "outputs": [
    {
     "name": "stdout",
     "output_type": "stream",
     "text": [
      "This function will return the factorial of a given number\n",
      "    \n",
      "    >>> fact(3)\n",
      "    6\n",
      "    \n",
      "    >>> fact(5)\n",
      "    120\n",
      "    \n"
     ]
    }
   ],
   "source": [
    "print(fact.__doc__)"
   ]
  },
  {
   "cell_type": "code",
   "execution_count": 7,
   "id": "0bac5dbc",
   "metadata": {},
   "outputs": [
    {
     "ename": "ValueError",
     "evalue": "x cannot be negative, factorial of negative numbers are not defined.",
     "output_type": "error",
     "traceback": [
      "\u001b[0;31m---------------------------------------------------------------------------\u001b[0m",
      "\u001b[0;31mValueError\u001b[0m                                Traceback (most recent call last)",
      "Cell \u001b[0;32mIn [7], line 1\u001b[0m\n\u001b[0;32m----> 1\u001b[0m \u001b[43mfact\u001b[49m\u001b[43m(\u001b[49m\u001b[38;5;241;43m-\u001b[39;49m\u001b[38;5;241;43m1\u001b[39;49m\u001b[43m)\u001b[49m\n",
      "Cell \u001b[0;32mIn [5], line 12\u001b[0m, in \u001b[0;36mfact\u001b[0;34m(x)\u001b[0m\n\u001b[1;32m      2\u001b[0m \u001b[38;5;124;03m'''This function will return the factorial of a given number\u001b[39;00m\n\u001b[1;32m      3\u001b[0m \u001b[38;5;124;03m\u001b[39;00m\n\u001b[1;32m      4\u001b[0m \u001b[38;5;124;03m>>> fact(3)\u001b[39;00m\n\u001b[0;32m   (...)\u001b[0m\n\u001b[1;32m      8\u001b[0m \u001b[38;5;124;03m120\u001b[39;00m\n\u001b[1;32m      9\u001b[0m \u001b[38;5;124;03m'''\u001b[39;00m\n\u001b[1;32m     11\u001b[0m \u001b[38;5;28;01mif\u001b[39;00m x \u001b[38;5;241m<\u001b[39m \u001b[38;5;241m0\u001b[39m: \n\u001b[0;32m---> 12\u001b[0m     \u001b[38;5;28;01mraise\u001b[39;00m \u001b[38;5;167;01mValueError\u001b[39;00m(\u001b[38;5;124m\"\u001b[39m\u001b[38;5;124mx cannot be negative, factorial of negative numbers are not defined.\u001b[39m\u001b[38;5;124m\"\u001b[39m)\n\u001b[1;32m     13\u001b[0m \u001b[38;5;28;01mreturn\u001b[39;00m math\u001b[38;5;241m.\u001b[39mprod([i \u001b[38;5;28;01mfor\u001b[39;00m i \u001b[38;5;129;01min\u001b[39;00m \u001b[38;5;28mrange\u001b[39m(\u001b[38;5;241m1\u001b[39m,x\u001b[38;5;241m+\u001b[39m\u001b[38;5;241m1\u001b[39m)])\n",
      "\u001b[0;31mValueError\u001b[0m: x cannot be negative, factorial of negative numbers are not defined."
     ]
    }
   ],
   "source": [
    " "
   ]
  },
  {
   "cell_type": "code",
   "execution_count": 26,
   "id": "80806f76",
   "metadata": {},
   "outputs": [
    {
     "name": "stdout",
     "output_type": "stream",
     "text": [
      "['ArithmeticError', 'AssertionError', 'AttributeError', 'BlockingIOError', 'BrokenPipeError', 'BufferError', 'ChildProcessError', 'ConnectionAbortedError', 'ConnectionError', 'ConnectionRefusedError', 'ConnectionResetError', 'EOFError', 'EnvironmentError', 'FileExistsError', 'FileNotFoundError', 'FloatingPointError', 'IOError', 'ImportError', 'IndentationError', 'IndexError', 'InterruptedError', 'IsADirectoryError', 'KeyError', 'LookupError', 'MemoryError', 'ModuleNotFoundError', 'NameError', 'NotADirectoryError', 'NotImplementedError', 'OSError', 'OverflowError', 'PermissionError', 'ProcessLookupError', 'RecursionError', 'ReferenceError', 'RuntimeError', 'SyntaxError', 'SystemError', 'TabError', 'TimeoutError', 'TypeError', 'UnboundLocalError', 'UnicodeDecodeError', 'UnicodeEncodeError', 'UnicodeError', 'UnicodeTranslateError', 'ValueError', 'ZeroDivisionError']\n"
     ]
    }
   ],
   "source": [
    "import builtins\n",
    "#print(dir(builtins))\n",
    "print([i for i in dir(builtins) if i[-5:] == 'Error'])"
   ]
  },
  {
   "cell_type": "code",
   "execution_count": 51,
   "id": "481b63a5",
   "metadata": {},
   "outputs": [
    {
     "data": {
      "text/plain": [
       "['ArithmeticError',\n",
       " 'AssertionError',\n",
       " 'AttributeError',\n",
       " 'BlockingIOError',\n",
       " 'BrokenPipeError',\n",
       " 'BufferError',\n",
       " 'ChildProcessError',\n",
       " 'ConnectionAbortedError',\n",
       " 'ConnectionError',\n",
       " 'ConnectionRefusedError',\n",
       " 'ConnectionResetError',\n",
       " 'EOFError',\n",
       " 'EnvironmentError',\n",
       " 'FileExistsError',\n",
       " 'FileNotFoundError',\n",
       " 'FloatingPointError',\n",
       " 'IOError',\n",
       " 'ImportError',\n",
       " 'IndentationError',\n",
       " 'IndexError',\n",
       " 'InterruptedError',\n",
       " 'IsADirectoryError',\n",
       " 'KeyError',\n",
       " 'LookupError',\n",
       " 'MemoryError',\n",
       " 'ModuleNotFoundError',\n",
       " 'NameError',\n",
       " 'NotADirectoryError',\n",
       " 'NotImplementedError',\n",
       " 'OSError',\n",
       " 'OverflowError',\n",
       " 'PermissionError',\n",
       " 'ProcessLookupError',\n",
       " 'RecursionError',\n",
       " 'ReferenceError',\n",
       " 'RuntimeError',\n",
       " 'SyntaxError',\n",
       " 'SystemError',\n",
       " 'TabError',\n",
       " 'TimeoutError',\n",
       " 'TypeError',\n",
       " 'UnboundLocalError',\n",
       " 'UnicodeDecodeError',\n",
       " 'UnicodeEncodeError',\n",
       " 'UnicodeError',\n",
       " 'UnicodeTranslateError',\n",
       " 'ValueError',\n",
       " 'ZeroDivisionError']"
      ]
     },
     "execution_count": 51,
     "metadata": {},
     "output_type": "execute_result"
    }
   ],
   "source": [
    "[i for i in dir(builtins) if i[-5:] == 'Error']"
   ]
  },
  {
   "cell_type": "code",
   "execution_count": 29,
   "id": "44f5df41",
   "metadata": {},
   "outputs": [
    {
     "data": {
      "text/plain": [
       "dict_keys([2, 5])"
      ]
     },
     "execution_count": 29,
     "metadata": {},
     "output_type": "execute_result"
    }
   ],
   "source": [
    "d = {2: 4, 5 : 15}\n",
    "d.keys()"
   ]
  },
  {
   "cell_type": "code",
   "execution_count": 30,
   "id": "53488678",
   "metadata": {},
   "outputs": [
    {
     "data": {
      "text/plain": [
       "dict_values([4, 15])"
      ]
     },
     "execution_count": 30,
     "metadata": {},
     "output_type": "execute_result"
    }
   ],
   "source": [
    "`d.values()"
   ]
  },
  {
   "cell_type": "code",
   "execution_count": 48,
   "id": "1d44cfaa",
   "metadata": {},
   "outputs": [
    {
     "name": "stdout",
     "output_type": "stream",
     "text": [
      "['ArithmeticError', 'AssertionError', 'AttributeError', 'BaseException', 'BlockingIOError', 'BrokenPipeError', 'BufferError', 'BytesWarning', 'ChildProcessError', 'ConnectionAbortedError', 'ConnectionError', 'ConnectionRefusedError', 'ConnectionResetError', 'DeprecationWarning', 'EOFError', 'Ellipsis', 'EnvironmentError', 'Exception', 'False', 'FileExistsError', 'FileNotFoundError', 'FloatingPointError', 'FutureWarning', 'GeneratorExit', 'IOError', 'ImportError', 'ImportWarning', 'IndentationError', 'IndexError', 'InterruptedError', 'IsADirectoryError', 'KeyError', 'KeyboardInterrupt', 'LookupError', 'MemoryError', 'ModuleNotFoundError', 'NameError', 'None', 'NotADirectoryError', 'NotImplemented', 'NotImplementedError', 'OSError', 'OverflowError', 'PendingDeprecationWarning', 'PermissionError', 'ProcessLookupError', 'RecursionError', 'ReferenceError', 'ResourceWarning', 'RuntimeError', 'RuntimeWarning', 'StopAsyncIteration', 'StopIteration', 'SyntaxError', 'SyntaxWarning', 'SystemError', 'SystemExit', 'TabError', 'TimeoutError', 'True', 'TypeError', 'UnboundLocalError', 'UnicodeDecodeError', 'UnicodeEncodeError', 'UnicodeError', 'UnicodeTranslateError', 'UnicodeWarning', 'UserWarning', 'ValueError', 'Warning', 'ZeroDivisionError', '__IPYTHON__', '__build_class__', '__debug__', '__doc__', '__import__', '__loader__', '__name__', '__package__', '__spec__', 'abs', 'all', 'any', 'ascii', 'bin', 'bool', 'breakpoint', 'bytearray', 'bytes', 'callable', 'chr', 'classmethod', 'compile', 'complex', 'copyright', 'credits', 'delattr', 'dict', 'dir', 'display', 'divmod', 'enumerate', 'eval', 'exec', 'execfile', 'filter', 'float', 'format', 'frozenset', 'get_ipython', 'getattr', 'globals', 'hasattr', 'hash', 'help', 'hex', 'id', 'input', 'int', 'isinstance', 'issubclass', 'iter', 'len', 'license', 'list', 'locals', 'map', 'max', 'memoryview', 'min', 'next', 'object', 'oct', 'open', 'ord', 'pow', 'print', 'property', 'range', 'repr', 'reversed', 'round', 'runfile', 'set', 'setattr', 'slice', 'sorted', 'staticmethod', 'str', 'sum', 'super', 'tuple', 'type', 'vars', 'zip']\n"
     ]
    }
   ],
   "source": [
    "import builtins\n",
    "print(dir(builtins))"
   ]
  }
 ],
 "metadata": {
  "kernelspec": {
   "display_name": "Python 3 (ipykernel)",
   "language": "python",
   "name": "python3"
  },
  "language_info": {
   "codemirror_mode": {
    "name": "ipython",
    "version": 3
   },
   "file_extension": ".py",
   "mimetype": "text/x-python",
   "name": "python",
   "nbconvert_exporter": "python",
   "pygments_lexer": "ipython3",
   "version": "3.9.18"
  }
 },
 "nbformat": 4,
 "nbformat_minor": 5
}
