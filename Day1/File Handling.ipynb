{
 "cells": [
  {
   "cell_type": "markdown",
   "id": "e5185ea2",
   "metadata": {},
   "source": [
    "\n",
    "# File Handling in Python\n",
    "\n",
    "Estimated time needed: **40** minutes\n",
    "\n",
    "\n",
    "## Objectives\n",
    "\n",
    "After completing this lab you will be able to:\n",
    "\n",
    "*   Read text files using Python libraries\n",
    "\n",
    "### File Handling Modes\n",
    "\n",
    "* Read (r)\n",
    "* Append (a)\n",
    "* Write (w) \n",
    "* Create (x)"
   ]
  },
  {
   "cell_type": "code",
   "execution_count": 2,
   "id": "b66ff3aa",
   "metadata": {},
   "outputs": [
    {
     "data": {
      "text/plain": [
       "('Return a copy of the string converted to lowercase.',\n",
       " 'Return a copy of the string converted to uppercase.')"
      ]
     },
     "execution_count": 2,
     "metadata": {},
     "output_type": "execute_result"
    }
   ],
   "source": [
    "str.lower.__doc__, str.upper.__doc__"
   ]
  },
  {
   "cell_type": "code",
   "execution_count": 3,
   "id": "7dbadf1a",
   "metadata": {},
   "outputs": [],
   "source": [
    "txt = '''Return a copy of the string converted to lowercase.\n",
    "Return a copy of the string converted to uppercase.'''"
   ]
  },
  {
   "cell_type": "code",
   "execution_count": 4,
   "id": "acefb8a9",
   "metadata": {},
   "outputs": [
    {
     "name": "stdout",
     "output_type": "stream",
     "text": [
      "Return a copy of the string converted to lowercase.\n",
      "Return a copy of the string converted to uppercase.\n"
     ]
    }
   ],
   "source": [
    "print(txt)"
   ]
  },
  {
   "cell_type": "code",
   "execution_count": 2,
   "id": "6ee5ea7a",
   "metadata": {},
   "outputs": [],
   "source": [
    "file = open('jry.txt', 'r') #open(filename, mode)"
   ]
  },
  {
   "cell_type": "code",
   "execution_count": 6,
   "id": "3308bcf9",
   "metadata": {},
   "outputs": [
    {
     "name": "stdout",
     "output_type": "stream",
     "text": [
      "['_CHUNK_SIZE', '__class__', '__del__', '__delattr__', '__dict__', '__dir__', '__doc__', '__enter__', '__eq__', '__exit__', '__format__', '__ge__', '__getattribute__', '__gt__', '__hash__', '__init__', '__init_subclass__', '__iter__', '__le__', '__lt__', '__ne__', '__new__', '__next__', '__reduce__', '__reduce_ex__', '__repr__', '__setattr__', '__sizeof__', '__str__', '__subclasshook__', '_checkClosed', '_checkReadable', '_checkSeekable', '_checkWritable', '_finalizing', 'buffer', 'close', 'closed', 'detach', 'encoding', 'errors', 'fileno', 'flush', 'isatty', 'line_buffering', 'mode', 'name', 'newlines', 'read', 'readable', 'readline', 'readlines', 'reconfigure', 'seek', 'seekable', 'tell', 'truncate', 'writable', 'write', 'write_through', 'writelines']\n"
     ]
    }
   ],
   "source": [
    "print(dir(file))"
   ]
  },
  {
   "cell_type": "code",
   "execution_count": 7,
   "id": "53049daf",
   "metadata": {},
   "outputs": [
    {
     "name": "stdout",
     "output_type": "stream",
     "text": [
      "['buffer', 'close', 'closed', 'detach', 'encoding', 'errors', 'fileno', 'flush', 'isatty', 'line_buffering', 'mode', 'name', 'newlines', 'read', 'readable', 'readline', 'readlines', 'reconfigure', 'seek', 'seekable', 'tell', 'truncate', 'writable', 'write', 'write_through', 'writelines']\n"
     ]
    }
   ],
   "source": [
    "func = ['buffer', 'close', 'closed', 'detach', 'encoding', 'errors', 'fileno', 'flush', 'isatty', 'line_buffering', 'mode', 'name', 'newlines', 'read', 'readable', 'readline', 'readlines', 'reconfigure', 'seek', 'seekable', 'tell', 'truncate', 'writable', 'write', 'write_through', 'writelines']\n",
    "print(func)"
   ]
  },
  {
   "cell_type": "code",
   "execution_count": 9,
   "id": "5cfdc329",
   "metadata": {
    "collapsed": true
   },
   "outputs": [
    {
     "name": "stdout",
     "output_type": "stream",
     "text": [
      "1 buffer : str(object='') -> str\n",
      "str(bytes_or_buffer[, encoding[, errors]]) -> str\n",
      "\n",
      "Create a new string object from the given object. If encoding or\n",
      "errors is specified, then the object must expose a data buffer\n",
      "that will be decoded using the given encoding and error handler.\n",
      "Otherwise, returns the result of object.__str__() (if defined)\n",
      "or repr(object).\n",
      "encoding defaults to sys.getdefaultencoding().\n",
      "errors defaults to 'strict'.\n",
      "\n",
      "\n",
      "2 close : str(object='') -> str\n",
      "str(bytes_or_buffer[, encoding[, errors]]) -> str\n",
      "\n",
      "Create a new string object from the given object. If encoding or\n",
      "errors is specified, then the object must expose a data buffer\n",
      "that will be decoded using the given encoding and error handler.\n",
      "Otherwise, returns the result of object.__str__() (if defined)\n",
      "or repr(object).\n",
      "encoding defaults to sys.getdefaultencoding().\n",
      "errors defaults to 'strict'.\n",
      "\n",
      "\n",
      "3 closed : str(object='') -> str\n",
      "str(bytes_or_buffer[, encoding[, errors]]) -> str\n",
      "\n",
      "Create a new string object from the given object. If encoding or\n",
      "errors is specified, then the object must expose a data buffer\n",
      "that will be decoded using the given encoding and error handler.\n",
      "Otherwise, returns the result of object.__str__() (if defined)\n",
      "or repr(object).\n",
      "encoding defaults to sys.getdefaultencoding().\n",
      "errors defaults to 'strict'.\n",
      "\n",
      "\n",
      "4 detach : str(object='') -> str\n",
      "str(bytes_or_buffer[, encoding[, errors]]) -> str\n",
      "\n",
      "Create a new string object from the given object. If encoding or\n",
      "errors is specified, then the object must expose a data buffer\n",
      "that will be decoded using the given encoding and error handler.\n",
      "Otherwise, returns the result of object.__str__() (if defined)\n",
      "or repr(object).\n",
      "encoding defaults to sys.getdefaultencoding().\n",
      "errors defaults to 'strict'.\n",
      "\n",
      "\n",
      "5 encoding : str(object='') -> str\n",
      "str(bytes_or_buffer[, encoding[, errors]]) -> str\n",
      "\n",
      "Create a new string object from the given object. If encoding or\n",
      "errors is specified, then the object must expose a data buffer\n",
      "that will be decoded using the given encoding and error handler.\n",
      "Otherwise, returns the result of object.__str__() (if defined)\n",
      "or repr(object).\n",
      "encoding defaults to sys.getdefaultencoding().\n",
      "errors defaults to 'strict'.\n",
      "\n",
      "\n",
      "6 errors : str(object='') -> str\n",
      "str(bytes_or_buffer[, encoding[, errors]]) -> str\n",
      "\n",
      "Create a new string object from the given object. If encoding or\n",
      "errors is specified, then the object must expose a data buffer\n",
      "that will be decoded using the given encoding and error handler.\n",
      "Otherwise, returns the result of object.__str__() (if defined)\n",
      "or repr(object).\n",
      "encoding defaults to sys.getdefaultencoding().\n",
      "errors defaults to 'strict'.\n",
      "\n",
      "\n",
      "7 fileno : str(object='') -> str\n",
      "str(bytes_or_buffer[, encoding[, errors]]) -> str\n",
      "\n",
      "Create a new string object from the given object. If encoding or\n",
      "errors is specified, then the object must expose a data buffer\n",
      "that will be decoded using the given encoding and error handler.\n",
      "Otherwise, returns the result of object.__str__() (if defined)\n",
      "or repr(object).\n",
      "encoding defaults to sys.getdefaultencoding().\n",
      "errors defaults to 'strict'.\n",
      "\n",
      "\n",
      "8 flush : str(object='') -> str\n",
      "str(bytes_or_buffer[, encoding[, errors]]) -> str\n",
      "\n",
      "Create a new string object from the given object. If encoding or\n",
      "errors is specified, then the object must expose a data buffer\n",
      "that will be decoded using the given encoding and error handler.\n",
      "Otherwise, returns the result of object.__str__() (if defined)\n",
      "or repr(object).\n",
      "encoding defaults to sys.getdefaultencoding().\n",
      "errors defaults to 'strict'.\n",
      "\n",
      "\n",
      "9 isatty : str(object='') -> str\n",
      "str(bytes_or_buffer[, encoding[, errors]]) -> str\n",
      "\n",
      "Create a new string object from the given object. If encoding or\n",
      "errors is specified, then the object must expose a data buffer\n",
      "that will be decoded using the given encoding and error handler.\n",
      "Otherwise, returns the result of object.__str__() (if defined)\n",
      "or repr(object).\n",
      "encoding defaults to sys.getdefaultencoding().\n",
      "errors defaults to 'strict'.\n",
      "\n",
      "\n",
      "10 line_buffering : str(object='') -> str\n",
      "str(bytes_or_buffer[, encoding[, errors]]) -> str\n",
      "\n",
      "Create a new string object from the given object. If encoding or\n",
      "errors is specified, then the object must expose a data buffer\n",
      "that will be decoded using the given encoding and error handler.\n",
      "Otherwise, returns the result of object.__str__() (if defined)\n",
      "or repr(object).\n",
      "encoding defaults to sys.getdefaultencoding().\n",
      "errors defaults to 'strict'.\n",
      "\n",
      "\n",
      "11 mode : str(object='') -> str\n",
      "str(bytes_or_buffer[, encoding[, errors]]) -> str\n",
      "\n",
      "Create a new string object from the given object. If encoding or\n",
      "errors is specified, then the object must expose a data buffer\n",
      "that will be decoded using the given encoding and error handler.\n",
      "Otherwise, returns the result of object.__str__() (if defined)\n",
      "or repr(object).\n",
      "encoding defaults to sys.getdefaultencoding().\n",
      "errors defaults to 'strict'.\n",
      "\n",
      "\n",
      "12 name : str(object='') -> str\n",
      "str(bytes_or_buffer[, encoding[, errors]]) -> str\n",
      "\n",
      "Create a new string object from the given object. If encoding or\n",
      "errors is specified, then the object must expose a data buffer\n",
      "that will be decoded using the given encoding and error handler.\n",
      "Otherwise, returns the result of object.__str__() (if defined)\n",
      "or repr(object).\n",
      "encoding defaults to sys.getdefaultencoding().\n",
      "errors defaults to 'strict'.\n",
      "\n",
      "\n",
      "13 newlines : str(object='') -> str\n",
      "str(bytes_or_buffer[, encoding[, errors]]) -> str\n",
      "\n",
      "Create a new string object from the given object. If encoding or\n",
      "errors is specified, then the object must expose a data buffer\n",
      "that will be decoded using the given encoding and error handler.\n",
      "Otherwise, returns the result of object.__str__() (if defined)\n",
      "or repr(object).\n",
      "encoding defaults to sys.getdefaultencoding().\n",
      "errors defaults to 'strict'.\n",
      "\n",
      "\n",
      "14 read : str(object='') -> str\n",
      "str(bytes_or_buffer[, encoding[, errors]]) -> str\n",
      "\n",
      "Create a new string object from the given object. If encoding or\n",
      "errors is specified, then the object must expose a data buffer\n",
      "that will be decoded using the given encoding and error handler.\n",
      "Otherwise, returns the result of object.__str__() (if defined)\n",
      "or repr(object).\n",
      "encoding defaults to sys.getdefaultencoding().\n",
      "errors defaults to 'strict'.\n",
      "\n",
      "\n",
      "15 readable : str(object='') -> str\n",
      "str(bytes_or_buffer[, encoding[, errors]]) -> str\n",
      "\n",
      "Create a new string object from the given object. If encoding or\n",
      "errors is specified, then the object must expose a data buffer\n",
      "that will be decoded using the given encoding and error handler.\n",
      "Otherwise, returns the result of object.__str__() (if defined)\n",
      "or repr(object).\n",
      "encoding defaults to sys.getdefaultencoding().\n",
      "errors defaults to 'strict'.\n",
      "\n",
      "\n",
      "16 readline : str(object='') -> str\n",
      "str(bytes_or_buffer[, encoding[, errors]]) -> str\n",
      "\n",
      "Create a new string object from the given object. If encoding or\n",
      "errors is specified, then the object must expose a data buffer\n",
      "that will be decoded using the given encoding and error handler.\n",
      "Otherwise, returns the result of object.__str__() (if defined)\n",
      "or repr(object).\n",
      "encoding defaults to sys.getdefaultencoding().\n",
      "errors defaults to 'strict'.\n",
      "\n",
      "\n",
      "17 readlines : str(object='') -> str\n",
      "str(bytes_or_buffer[, encoding[, errors]]) -> str\n",
      "\n",
      "Create a new string object from the given object. If encoding or\n",
      "errors is specified, then the object must expose a data buffer\n",
      "that will be decoded using the given encoding and error handler.\n",
      "Otherwise, returns the result of object.__str__() (if defined)\n",
      "or repr(object).\n",
      "encoding defaults to sys.getdefaultencoding().\n",
      "errors defaults to 'strict'.\n",
      "\n",
      "\n",
      "18 reconfigure : str(object='') -> str\n",
      "str(bytes_or_buffer[, encoding[, errors]]) -> str\n",
      "\n",
      "Create a new string object from the given object. If encoding or\n",
      "errors is specified, then the object must expose a data buffer\n",
      "that will be decoded using the given encoding and error handler.\n",
      "Otherwise, returns the result of object.__str__() (if defined)\n",
      "or repr(object).\n",
      "encoding defaults to sys.getdefaultencoding().\n",
      "errors defaults to 'strict'.\n",
      "\n",
      "\n",
      "19 seek : str(object='') -> str\n",
      "str(bytes_or_buffer[, encoding[, errors]]) -> str\n",
      "\n",
      "Create a new string object from the given object. If encoding or\n",
      "errors is specified, then the object must expose a data buffer\n",
      "that will be decoded using the given encoding and error handler.\n",
      "Otherwise, returns the result of object.__str__() (if defined)\n",
      "or repr(object).\n",
      "encoding defaults to sys.getdefaultencoding().\n",
      "errors defaults to 'strict'.\n",
      "\n",
      "\n",
      "20 seekable : str(object='') -> str\n",
      "str(bytes_or_buffer[, encoding[, errors]]) -> str\n",
      "\n",
      "Create a new string object from the given object. If encoding or\n",
      "errors is specified, then the object must expose a data buffer\n",
      "that will be decoded using the given encoding and error handler.\n",
      "Otherwise, returns the result of object.__str__() (if defined)\n",
      "or repr(object).\n",
      "encoding defaults to sys.getdefaultencoding().\n",
      "errors defaults to 'strict'.\n",
      "\n",
      "\n",
      "21 tell : str(object='') -> str\n",
      "str(bytes_or_buffer[, encoding[, errors]]) -> str\n",
      "\n",
      "Create a new string object from the given object. If encoding or\n",
      "errors is specified, then the object must expose a data buffer\n",
      "that will be decoded using the given encoding and error handler.\n",
      "Otherwise, returns the result of object.__str__() (if defined)\n",
      "or repr(object).\n",
      "encoding defaults to sys.getdefaultencoding().\n",
      "errors defaults to 'strict'.\n",
      "\n",
      "\n",
      "22 truncate : str(object='') -> str\n",
      "str(bytes_or_buffer[, encoding[, errors]]) -> str\n",
      "\n",
      "Create a new string object from the given object. If encoding or\n",
      "errors is specified, then the object must expose a data buffer\n",
      "that will be decoded using the given encoding and error handler.\n",
      "Otherwise, returns the result of object.__str__() (if defined)\n",
      "or repr(object).\n",
      "encoding defaults to sys.getdefaultencoding().\n",
      "errors defaults to 'strict'.\n",
      "\n",
      "\n",
      "23 writable : str(object='') -> str\n",
      "str(bytes_or_buffer[, encoding[, errors]]) -> str\n",
      "\n",
      "Create a new string object from the given object. If encoding or\n",
      "errors is specified, then the object must expose a data buffer\n",
      "that will be decoded using the given encoding and error handler.\n",
      "Otherwise, returns the result of object.__str__() (if defined)\n",
      "or repr(object).\n",
      "encoding defaults to sys.getdefaultencoding().\n",
      "errors defaults to 'strict'.\n",
      "\n",
      "\n",
      "24 write : str(object='') -> str\n",
      "str(bytes_or_buffer[, encoding[, errors]]) -> str\n",
      "\n",
      "Create a new string object from the given object. If encoding or\n",
      "errors is specified, then the object must expose a data buffer\n",
      "that will be decoded using the given encoding and error handler.\n",
      "Otherwise, returns the result of object.__str__() (if defined)\n",
      "or repr(object).\n",
      "encoding defaults to sys.getdefaultencoding().\n",
      "errors defaults to 'strict'.\n",
      "\n",
      "\n",
      "25 write_through : str(object='') -> str\n",
      "str(bytes_or_buffer[, encoding[, errors]]) -> str\n",
      "\n",
      "Create a new string object from the given object. If encoding or\n",
      "errors is specified, then the object must expose a data buffer\n",
      "that will be decoded using the given encoding and error handler.\n",
      "Otherwise, returns the result of object.__str__() (if defined)\n",
      "or repr(object).\n",
      "encoding defaults to sys.getdefaultencoding().\n",
      "errors defaults to 'strict'.\n",
      "\n",
      "\n",
      "26 writelines : str(object='') -> str\n",
      "str(bytes_or_buffer[, encoding[, errors]]) -> str\n",
      "\n",
      "Create a new string object from the given object. If encoding or\n",
      "errors is specified, then the object must expose a data buffer\n",
      "that will be decoded using the given encoding and error handler.\n",
      "Otherwise, returns the result of object.__str__() (if defined)\n",
      "or repr(object).\n",
      "encoding defaults to sys.getdefaultencoding().\n",
      "errors defaults to 'strict'.\n",
      "\n",
      "\n"
     ]
    }
   ],
   "source": [
    "for i in func:\n",
    "    print(func.index(i)+1, i, ':', i.__doc__)\n",
    "    print('\\n')"
   ]
  },
  {
   "cell_type": "code",
   "execution_count": 3,
   "id": "182d5bd1",
   "metadata": {},
   "outputs": [],
   "source": [
    "data = open(file='jry.txt', mode='r')"
   ]
  },
  {
   "cell_type": "code",
   "execution_count": 4,
   "id": "e74e0d4e",
   "metadata": {},
   "outputs": [
    {
     "name": "stdout",
     "output_type": "stream",
     "text": [
      "Cursor Location:  0\n",
      "First 5 Characters:  Devan\n",
      "Cursor Position:  5\n",
      "Next 5 Characters :  shu c\n",
      "Read Data :  omes from Balod.\n",
      "Preeti comes from Sector 5.\n",
      "Tanisha comes from Maroda.\n"
     ]
    }
   ],
   "source": [
    "print('Cursor Location: ', data.tell())\n",
    "print('First 5 Characters: ', data.read(5))\n",
    "print('Cursor Position: ', data.tell())\n",
    "print('Next 5 Characters : ', data.read(5))\n",
    "print('Read Data : ', data.read())\n",
    "data.close()"
   ]
  },
  {
   "cell_type": "code",
   "execution_count": 5,
   "id": "457be253",
   "metadata": {},
   "outputs": [],
   "source": [
    "data = open(file='jry.txt', mode='r')"
   ]
  },
  {
   "cell_type": "code",
   "execution_count": 6,
   "id": "fedfa76e",
   "metadata": {},
   "outputs": [
    {
     "data": {
      "text/plain": [
       "'Devanshu com'"
      ]
     },
     "execution_count": 6,
     "metadata": {},
     "output_type": "execute_result"
    }
   ],
   "source": [
    "data.read(12)"
   ]
  },
  {
   "cell_type": "code",
   "execution_count": 7,
   "id": "95c6d659",
   "metadata": {},
   "outputs": [
    {
     "data": {
      "text/plain": [
       "12"
      ]
     },
     "execution_count": 7,
     "metadata": {},
     "output_type": "execute_result"
    }
   ],
   "source": [
    "data.tell()"
   ]
  },
  {
   "cell_type": "code",
   "execution_count": 8,
   "id": "05a398ed",
   "metadata": {},
   "outputs": [
    {
     "data": {
      "text/plain": [
       "'es from Balod.\\nPreeti comes from Sector 5.\\nTanisha comes from Maroda.'"
      ]
     },
     "execution_count": 8,
     "metadata": {},
     "output_type": "execute_result"
    }
   ],
   "source": [
    "data.read()"
   ]
  },
  {
   "cell_type": "code",
   "execution_count": 17,
   "id": "ccd0858c",
   "metadata": {},
   "outputs": [
    {
     "data": {
      "text/plain": [
       "'Preeti comes from Sector 5.\\n'"
      ]
     },
     "execution_count": 17,
     "metadata": {},
     "output_type": "execute_result"
    }
   ],
   "source": [
    "data.seek(0) # cursor will reset \n",
    "[i for i in data.readlines()][1]"
   ]
  },
  {
   "cell_type": "code",
   "execution_count": 18,
   "id": "0e90df62",
   "metadata": {},
   "outputs": [
    {
     "data": {
      "text/plain": [
       "['Devanshu comes from Balod.\\n',\n",
       " 'Preeti comes from Sector 5.\\n',\n",
       " 'Tanisha comes from Maroda.']"
      ]
     },
     "execution_count": 18,
     "metadata": {},
     "output_type": "execute_result"
    }
   ],
   "source": [
    "data = open('jry.txt','r')\n",
    "data.readlines()\n",
    "#data.close()"
   ]
  },
  {
   "cell_type": "code",
   "execution_count": 20,
   "id": "43a4c464",
   "metadata": {},
   "outputs": [
    {
     "ename": "FileNotFoundError",
     "evalue": "[Errno 2] No such file or directory: 'xyz.txt'",
     "output_type": "error",
     "traceback": [
      "\u001b[0;31m---------------------------------------------------------------------------\u001b[0m",
      "\u001b[0;31mFileNotFoundError\u001b[0m                         Traceback (most recent call last)",
      "Cell \u001b[0;32mIn [20], line 1\u001b[0m\n\u001b[0;32m----> 1\u001b[0m \u001b[38;5;28;43mopen\u001b[39;49m\u001b[43m(\u001b[49m\u001b[38;5;124;43m'\u001b[39;49m\u001b[38;5;124;43mxyz.txt\u001b[39;49m\u001b[38;5;124;43m'\u001b[39;49m\u001b[43m,\u001b[49m\u001b[43m \u001b[49m\u001b[38;5;124;43m'\u001b[39;49m\u001b[38;5;124;43mr\u001b[39;49m\u001b[38;5;124;43m'\u001b[39;49m\u001b[43m)\u001b[49m\n",
      "\u001b[0;31mFileNotFoundError\u001b[0m: [Errno 2] No such file or directory: 'xyz.txt'"
     ]
    }
   ],
   "source": [
    "open('xyz.txt', 'r')"
   ]
  },
  {
   "cell_type": "code",
   "execution_count": 23,
   "id": "134f7169",
   "metadata": {},
   "outputs": [],
   "source": [
    "data = open('sample1.txt','w')\n",
    "data.write('''Data is drawn from different sectors, channels, and platforms.\n",
    "This icluldes cell phones, social media, e-commerce sites, healthcare surveys, and internet searches.\\n\n",
    "The increase in the amount of data available opened the door to a new field of study based on big data—the massive data sets that contribute to the creation of better operational tools in all sectors.\\n''')\n",
    "data.close()"
   ]
  },
  {
   "cell_type": "code",
   "execution_count": 24,
   "id": "1755e64b",
   "metadata": {},
   "outputs": [
    {
     "data": {
      "text/plain": [
       "'Data is drawn from different sectors, channels, and platforms.\\nThis icluldes cell phones, social media, e-commerce sites, healthcare surveys, and internet searches.\\n\\nThe increase in the amount of data available opened the door to a new field of study based on big data—the massive data sets that contribute to the creation of better operational tools in all sectors.\\n'"
      ]
     },
     "execution_count": 24,
     "metadata": {},
     "output_type": "execute_result"
    }
   ],
   "source": [
    "data = open('sample1.txt','r')\n",
    "data.read()"
   ]
  },
  {
   "cell_type": "code",
   "execution_count": 26,
   "id": "802474de",
   "metadata": {},
   "outputs": [
    {
     "ename": "FileExistsError",
     "evalue": "[Errno 17] File exists: 'sample1.txt'",
     "output_type": "error",
     "traceback": [
      "\u001b[0;31m---------------------------------------------------------------------------\u001b[0m",
      "\u001b[0;31mFileExistsError\u001b[0m                           Traceback (most recent call last)",
      "Cell \u001b[0;32mIn [26], line 1\u001b[0m\n\u001b[0;32m----> 1\u001b[0m data \u001b[38;5;241m=\u001b[39m \u001b[38;5;28;43mopen\u001b[39;49m\u001b[43m(\u001b[49m\u001b[38;5;124;43m'\u001b[39;49m\u001b[38;5;124;43msample1.txt\u001b[39;49m\u001b[38;5;124;43m'\u001b[39;49m\u001b[43m,\u001b[49m\u001b[38;5;124;43m'\u001b[39;49m\u001b[38;5;124;43mx\u001b[39;49m\u001b[38;5;124;43m'\u001b[39;49m\u001b[43m)\u001b[49m\n\u001b[1;32m      2\u001b[0m data\u001b[38;5;241m.\u001b[39mreadline()\n",
      "\u001b[0;31mFileExistsError\u001b[0m: [Errno 17] File exists: 'sample1.txt'"
     ]
    }
   ],
   "source": [
    "data = open('sample1.txt','x')\n",
    "data.readline()"
   ]
  },
  {
   "cell_type": "code",
   "execution_count": 28,
   "id": "803bbb06",
   "metadata": {},
   "outputs": [],
   "source": [
    "#create  a  new file\n",
    "\n",
    "file_new = open('jryx.txt',mode='x')\n",
    "file_new.write('This file is create using \"x\" mode in File Handling.')\n",
    "file_new.close()"
   ]
  },
  {
   "cell_type": "code",
   "execution_count": 29,
   "id": "24fad9b5",
   "metadata": {},
   "outputs": [],
   "source": [
    "#append data to a  new file\n",
    "\n",
    "file_new = open('jryx.txt',mode='a')\n",
    "file_new.write('This data is appended using \"a\" mode in File Handling.')\n",
    "file_new.close()"
   ]
  },
  {
   "cell_type": "code",
   "execution_count": 31,
   "id": "d6a0b6b4",
   "metadata": {},
   "outputs": [
    {
     "data": {
      "text/plain": [
       "'This file is create using \"x\" mode in File Handling.\\nThis data is appended using \"a\" mode in File Handling.'"
      ]
     },
     "execution_count": 31,
     "metadata": {},
     "output_type": "execute_result"
    }
   ],
   "source": [
    "f= open('jryx.txt','r')\n",
    "f.read()"
   ]
  },
  {
   "cell_type": "markdown",
   "id": "d16aaeeb",
   "metadata": {},
   "source": [
    "### OS Module"
   ]
  },
  {
   "cell_type": "code",
   "execution_count": 32,
   "id": "79b65453",
   "metadata": {},
   "outputs": [
    {
     "name": "stdout",
     "output_type": "stream",
     "text": [
      "['IBM HACK CHALLENGE 2022.ipynb', 'newfile_x', 'Introduction to Numpy - II.ipynb', 'Overfitting & Underfitting - Regularization Methods.ipynb', 'weatherHistory.csv', 'Test_Folder', 'products.csv', 'Feature Engineering.ipynb', 'Conditional Programming, List in Python, Tuples in Python.ipynb', 'aditya.txt', 'JRY PAPER 1.ipynb', 'data.pickle', 'Assignment Operators, Comparison Operators, Logical Operators, Len in Python, Input_ Day 3.ipynb', 'Dictionaries and Functions.ipynb', 'Untitled.ipynb', 'Objects and CLasses in Python.ipynb', 'newfile_x.text', 'newfile_x1.txt', 'cyber-operations-incidents.csv', 'Web Scraping and GUI.ipynb', 'cpp doubts.ipynb', 'Loops and Sets.ipynb', 'Symbolic Computation using Sympy.ipynb', 'untitled.txt', 'Python Modules - Math, Random, Calendar- Day 8.ipynb', '.jovianrc', 'Introduction to NumPy - 1.ipynb', 'File Handling.ipynb', '.ipynb_checkpoints', 'Screenshot 2022-09-23 at 7.57.41 PM.png', 'Python Numbers, Operators in Python, Arithmetic Operators, Variables in Python- Day2.ipynb', 'jryx.txt', 'Error Handling.ipynb', 'sample1.txt', 'Functions in Python.ipynb', 'jry.txt', 'output.txt', 'Boolean Operators, String- Built-in functions - Day 4.ipynb', 'adityass.txt', 'sample.txt']\n"
     ]
    }
   ],
   "source": [
    "import os\n",
    "print(os.listdir())"
   ]
  },
  {
   "cell_type": "code",
   "execution_count": 33,
   "id": "32292b85",
   "metadata": {},
   "outputs": [
    {
     "data": {
      "text/plain": [
       "'/Users/sumitkumarshukla/theax/september/september 2022'"
      ]
     },
     "execution_count": 33,
     "metadata": {},
     "output_type": "execute_result"
    }
   ],
   "source": [
    "# current working director\n",
    "os.getcwd()"
   ]
  },
  {
   "cell_type": "code",
   "execution_count": 3,
   "id": "86a6dd9b",
   "metadata": {},
   "outputs": [
    {
     "ename": "TypeError",
     "evalue": "chdir() missing required argument 'path' (pos 1)",
     "output_type": "error",
     "traceback": [
      "\u001b[0;31m---------------------------------------------------------------------------\u001b[0m",
      "\u001b[0;31mTypeError\u001b[0m                                 Traceback (most recent call last)",
      "Cell \u001b[0;32mIn [3], line 2\u001b[0m\n\u001b[1;32m      1\u001b[0m \u001b[38;5;66;03m# change directory\u001b[39;00m\n\u001b[0;32m----> 2\u001b[0m \u001b[43mos\u001b[49m\u001b[38;5;241;43m.\u001b[39;49m\u001b[43mchdir\u001b[49m\u001b[43m(\u001b[49m\u001b[43m)\u001b[49m\n",
      "\u001b[0;31mTypeError\u001b[0m: chdir() missing required argument 'path' (pos 1)"
     ]
    }
   ],
   "source": [
    "# change directory\n",
    "os.chdir()"
   ]
  },
  {
   "cell_type": "code",
   "execution_count": 2,
   "id": "806c680a",
   "metadata": {},
   "outputs": [],
   "source": [
    "file = open('sample.txt','r')\n",
    "# opening through os\n",
    "path = 'newfile_x1.txt'\n",
    "file = os.open(path, os.O_RDWR)\n",
    "info = os.fstat(file)"
   ]
  },
  {
   "cell_type": "code",
   "execution_count": 24,
   "id": "56b91035",
   "metadata": {},
   "outputs": [
    {
     "data": {
      "text/plain": [
       "1671186230.8927078"
      ]
     },
     "execution_count": 24,
     "metadata": {},
     "output_type": "execute_result"
    }
   ],
   "source": [
    "info.st_atime"
   ]
  },
  {
   "cell_type": "code",
   "execution_count": 25,
   "id": "3ae01ba1",
   "metadata": {},
   "outputs": [
    {
     "data": {
      "text/plain": [
       "1671186228.8565054"
      ]
     },
     "execution_count": 25,
     "metadata": {},
     "output_type": "execute_result"
    }
   ],
   "source": [
    "info.st_mtime"
   ]
  },
  {
   "cell_type": "code",
   "execution_count": 26,
   "id": "47441af9",
   "metadata": {},
   "outputs": [
    {
     "data": {
      "text/plain": [
       "1671186228.8565054"
      ]
     },
     "execution_count": 26,
     "metadata": {},
     "output_type": "execute_result"
    }
   ],
   "source": [
    "info.st_ctime"
   ]
  },
  {
   "cell_type": "code",
   "execution_count": 43,
   "id": "e433c5d7",
   "metadata": {},
   "outputs": [
    {
     "data": {
      "text/plain": [
       "1"
      ]
     },
     "execution_count": 43,
     "metadata": {},
     "output_type": "execute_result"
    }
   ],
   "source": [
    "info.st_nlink"
   ]
  },
  {
   "cell_type": "code",
   "execution_count": 7,
   "id": "9491908e",
   "metadata": {},
   "outputs": [],
   "source": [
    "os.mkdir('/Users/sumitkumarshukla/theax21')"
   ]
  },
  {
   "cell_type": "code",
   "execution_count": 8,
   "id": "ee2b7907",
   "metadata": {},
   "outputs": [],
   "source": [
    "os.chdir('/Users/sumitkumarshukla/theax21')"
   ]
  },
  {
   "cell_type": "code",
   "execution_count": 9,
   "id": "3b8c10f6",
   "metadata": {},
   "outputs": [
    {
     "data": {
      "text/plain": [
       "'/Users/sumitkumarshukla/theax21'"
      ]
     },
     "execution_count": 9,
     "metadata": {},
     "output_type": "execute_result"
    }
   ],
   "source": [
    "os.getcwd()"
   ]
  },
  {
   "cell_type": "code",
   "execution_count": 10,
   "id": "fd539b94",
   "metadata": {},
   "outputs": [],
   "source": [
    "os.chdir('/Users/sumitkumarshukla/theax/september/september 2022')"
   ]
  },
  {
   "cell_type": "code",
   "execution_count": 11,
   "id": "d0d2d8fa",
   "metadata": {},
   "outputs": [
    {
     "data": {
      "text/plain": [
       "'/Users/sumitkumarshukla/theax/september/september 2022'"
      ]
     },
     "execution_count": 11,
     "metadata": {},
     "output_type": "execute_result"
    }
   ],
   "source": [
    "os.getcwd()"
   ]
  },
  {
   "cell_type": "markdown",
   "id": "93eb062b",
   "metadata": {},
   "source": [
    "### Flush \n",
    "\n",
    "In Python, __flush()__ is a method that can be called on an output stream to ensure that any buffered data is immediately written to the underlying destination. It is particularly useful when you want to force the immediate output of data without waiting for the buffer to fill up or without relying on the automatic flushing behavior of the stream.\n",
    "\n",
    "The __flush()__ method is commonly used in conjunction with output streams such as files, __sys.stdout__(standard output), or network connections to ensure that data is written instantly and not held in memory waiting for a larger chunk of data to be collected before being sent.\n",
    "\n",
    "Here's a simple example that demonstrates the use of the __flush()__ method:"
   ]
  },
  {
   "cell_type": "code",
   "execution_count": 17,
   "id": "fa68f517",
   "metadata": {},
   "outputs": [],
   "source": [
    "import time\n",
    "\n",
    "# Open a file for writing\n",
    "with open('output.txt', 'w') as file:\n",
    "    for i in range(5):\n",
    "        # Write data to the file\n",
    "        file.write(f\"Data {i}\\n\")\n",
    "\n",
    "        # Flush the output to ensure immediate writing\n",
    "        file.flush()\n",
    "\n",
    "        # Wait for 1 second to see the immediate output effect\n",
    "        time.sleep(1)\n",
    "\n",
    "# Output:\n",
    "# Data 0\n",
    "# Data 1\n",
    "# Data 2\n",
    "# Data 3\n",
    "# Data 4\n"
   ]
  },
  {
   "cell_type": "code",
   "execution_count": null,
   "id": "ca9e7c60",
   "metadata": {},
   "outputs": [],
   "source": [
    "import sys\n",
    "import time\n",
    "\n",
    "# Redirect sys.stdout to a file\n",
    "with open('output.txt', 'w') as file:\n",
    "    sys.stdout = file\n",
    "\n",
    "    print(\"This message is written to the file.\", end='')\n",
    "    sys.stdout.flush()  # Flush the data immediately to the file\n",
    "\n",
    "    time.sleep(5)  # Simulate a delay of 5 seconds\n",
    "\n",
    "    print(\" More text written after 5 seconds.\")"
   ]
  },
  {
   "cell_type": "markdown",
   "id": "7939e24e",
   "metadata": {},
   "source": [
    "### Pickle\n",
    "\n",
    "In Python, \"pickle\" is a built-in module that provides a way to serialize and deserialize Python objects. It allows you to convert Python objects, such as lists, dictionaries, classes, etc., into a byte stream representation that can be saved to a file or sent over the network. The process of converting Python objects to a byte stream is called \"pickling,\" and the reverse process of restoring Python objects from the byte stream is called \"unpickling.\"\n",
    "\n",
    "Pickle is commonly used when you need to store Python data structures persistently or transfer data between different systems while preserving their original structure.\n",
    "\n",
    "Here's a basic example of how to use pickle in Python:"
   ]
  },
  {
   "cell_type": "code",
   "execution_count": 13,
   "id": "ded8e856",
   "metadata": {},
   "outputs": [
    {
     "name": "stdout",
     "output_type": "stream",
     "text": [
      "Loaded Data: [1, 2, 3, 4, 5]\n"
     ]
    }
   ],
   "source": [
    "import pickle\n",
    "\n",
    "# Data to be pickled\n",
    "data = [1, 2, 3, 4, 5]\n",
    "\n",
    "# Pickle the data and save it to a file\n",
    "with open('data.pickle', 'wb') as f:\n",
    "    pickle.dump(data, f)\n",
    "\n",
    "# Unpickle the data from the file\n",
    "with open('data.pickle', 'rb') as f:\n",
    "    loaded_data = pickle.load(f)\n",
    "\n",
    "# Print the unpickled data\n",
    "print(\"Loaded Data:\", loaded_data)"
   ]
  },
  {
   "cell_type": "markdown",
   "id": "9b045f55",
   "metadata": {},
   "source": [
    "In this example, we use the __pickle.dump()__ function to pickle the data list into a binary file named __\"data.pickle.\"__ We use the __'wb'__ mode when opening the file to indicate that we are writing in binary mode.\n",
    "\n",
    "Next, we use the __pickle.load()__ function to unpickle the data from the \"data.pickle\" file. We open the file in 'rb' mode to read it in binary mode.\n",
    "\n",
    "The pickle.load() function reads the pickled data from the file and restores it to its original Python object representation, which is then assigned to the loaded_data variable.\n",
    "\n",
    "Please note that while pickle is a convenient way to store and retrieve Python objects, it is essential to exercise caution when unpickling data from untrusted sources, as unpickling data from untrusted sources can lead to security vulnerabilities. It is generally recommended to use pickle for trusted data or use other serialization formats, like JSON, for data exchange with untrusted sources."
   ]
  },
  {
   "cell_type": "markdown",
   "id": "2bb67d4c",
   "metadata": {},
   "source": [
    "### stdin and stdout\n",
    "\n",
    "In Python, __sys.stdin__ and __sys.stdout__ are standard streams provided by the sys module. These streams allow you to interact with the standard input and standard output of your program. They are useful for reading user input and printing output to the console.\n",
    "\n",
    "__sys.stdin__:<br>\n",
    "sys.stdin is the standard input stream, which by default reads data from the console (keyboard) when used with functions like __input()__ or __sys.stdin.readline()__. It provides a way to interact with the user and read input from the command line.\n",
    "\n",
    "Example of using sys.stdin:"
   ]
  },
  {
   "cell_type": "code",
   "execution_count": 14,
   "id": "2662a38e",
   "metadata": {},
   "outputs": [
    {
     "name": "stdout",
     "output_type": "stream",
     "text": [
      "Enter your name:\n",
      "Hello, !\n"
     ]
    }
   ],
   "source": [
    "import sys\n",
    "\n",
    "print(\"Enter your name:\")\n",
    "name = sys.stdin.readline().strip()\n",
    "print(f\"Hello, {name}!\")"
   ]
  },
  {
   "cell_type": "markdown",
   "id": "c131f234",
   "metadata": {},
   "source": [
    "In this example, __sys.stdin.readline()__ reads a line of input from the user (terminated by pressing Enter), and __.strip()__ removes any leading/trailing whitespaces or newline characters.\n",
    "\n",
    "__sys.stdout:__<br>\n",
    "sys.stdout is the standard output stream, which by default prints data to the console when using functions like print().\n",
    "\n",
    "Example of using __sys.stdout:__"
   ]
  },
  {
   "cell_type": "code",
   "execution_count": 16,
   "id": "4e29acce",
   "metadata": {},
   "outputs": [
    {
     "name": "stdout",
     "output_type": "stream",
     "text": [
      "This message will be displayed in the console.\n"
     ]
    }
   ],
   "source": [
    "import sys\n",
    "\n",
    "# Save the original stdout\n",
    "original_stdout = sys.stdout\n",
    "\n",
    "# Open a file for writing\n",
    "with open('output.txt', 'w') as file:\n",
    "    # Redirect sys.stdout to write to the file\n",
    "    sys.stdout = file\n",
    "\n",
    "    # Now all the print statements will write to the file\n",
    "    print(\"This message will be written to the output file.\")\n",
    "\n",
    "# Reset sys.stdout to the original value after writing to the file\n",
    "sys.stdout = original_stdout\n",
    "\n",
    "# Output will be back to the console\n",
    "print(\"This message will be displayed in the console.\")\n"
   ]
  }
 ],
 "metadata": {
  "kernelspec": {
   "display_name": "Python 3 (ipykernel)",
   "language": "python",
   "name": "python3"
  },
  "language_info": {
   "codemirror_mode": {
    "name": "ipython",
    "version": 3
   },
   "file_extension": ".py",
   "mimetype": "text/x-python",
   "name": "python",
   "nbconvert_exporter": "python",
   "pygments_lexer": "ipython3",
   "version": "3.9.18"
  }
 },
 "nbformat": 4,
 "nbformat_minor": 5
}
