{
 "cells": [
  {
   "cell_type": "markdown",
   "id": "8e64f4e6",
   "metadata": {},
   "source": [
    "# Lecture :  Functions in Python\n",
    "\n",
    "Estimated time needed: **50** minutes\n",
    "\n",
    "\n",
    "\n",
    "### Objectives\n",
    "We will discuss the functions types:\n",
    "\n",
    "* Built- in\n",
    "* User Defined\n",
    "* Lambda\n",
    "\n",
    "This Notebook is created using Python\n"
   ]
  },
  {
   "cell_type": "markdown",
   "id": "2bbb6320",
   "metadata": {},
   "source": [
    "In Python, functions are blocks of reusable code that perform a specific task. They help in organizing code into modular pieces and make it more readable, maintainable, and efficient. Functions can take in input arguments and return output values. \n",
    "\n",
    "__Structure of Function__\n",
    "\n",
    "```python\n",
    "def function_name(parameter):\n",
    "   \n",
    "    '''Any string within the function is called Docstring'''\n",
    "    \n",
    "    return value\n",
    "\n",
    "\n",
    "```\n",
    "\n",
    "* Builtin Functions\n",
    "\n",
    "```python\n",
    "\n",
    "import builtins\n",
    "print(dir(builtins))\n",
    "\n",
    "['abs', 'all', 'any', 'ascii', 'bin', 'bool', 'breakpoint', 'bytearray', 'bytes', 'callable', 'chr', 'classmethod', 'compile', 'complex', 'copyright', 'credits', 'delattr', 'dict', 'dir', 'display', 'divmod', 'enumerate', 'eval', 'exec', 'execfile', 'filter', 'float', 'format', 'frozenset', 'get_ipython', 'getattr', 'globals', 'hasattr', 'hash', 'help', 'hex', 'id', 'input', 'int', 'isinstance', 'issubclass', 'iter', 'len', 'license', 'list', 'locals', 'map', 'max', 'memoryview', 'min', 'next', 'object', 'oct', 'open', 'ord', 'pow', 'print', 'property', 'range', 'repr', 'reversed', 'round', 'runfile', 'set', 'setattr', 'slice', 'sorted', 'staticmethod', 'str', 'sum', 'super', 'tuple', 'type', 'vars', 'zip']\n",
    "\n",
    "```"
   ]
  },
  {
   "cell_type": "code",
   "execution_count": 10,
   "id": "4538d44d",
   "metadata": {},
   "outputs": [
    {
     "data": {
      "text/plain": [
       "(4.5, 3)"
      ]
     },
     "execution_count": 10,
     "metadata": {},
     "output_type": "execute_result"
    }
   ],
   "source": [
    "# abs -- absolute function\n",
    "abs(-4.5), abs(3)"
   ]
  },
  {
   "cell_type": "code",
   "execution_count": 12,
   "id": "5ec59bb8",
   "metadata": {},
   "outputs": [
    {
     "data": {
      "text/plain": [
       "(3, 1)"
      ]
     },
     "execution_count": 12,
     "metadata": {},
     "output_type": "execute_result"
    }
   ],
   "source": [
    "divmod(10, 3)   # 10//3 , 10%3"
   ]
  },
  {
   "cell_type": "code",
   "execution_count": 14,
   "id": "7c61d59d",
   "metadata": {},
   "outputs": [
    {
     "data": {
      "text/plain": [
       "(3, 1)"
      ]
     },
     "execution_count": 14,
     "metadata": {},
     "output_type": "execute_result"
    }
   ],
   "source": [
    "def ABC(a, b):\n",
    "    return a//b, a%b\n",
    "\n",
    "ABC(10, 3)"
   ]
  },
  {
   "cell_type": "markdown",
   "id": "494610e1",
   "metadata": {},
   "source": [
    "### User Defined Functions\n",
    "\n",
    "Functions that we define ourselves to do certain specific task are referred as user-defined functions. The way in which we define and call functions in Python are already discussed.\n",
    "\n",
    "Functions that readily come with Python are called built-in functions. If we use functions written by others in the form of library, it can be termed as library functions.\n",
    "\n",
    "All the other functions that we write on our own fall under user-defined functions. So, our user-defined function could be a library function to someone else.\n",
    "\n",
    "\n",
    "__Advantages__\n",
    "\n",
    "* User-defined functions help to decompose a large program into small segments which makes program easy to understand, maintain and debug.\n",
    "* If repeated code occurs in a program. Function can be used to include those codes and execute when needed by calling that function.\n",
    "* Programmars working on large project can divide the workload by making different functions."
   ]
  },
  {
   "cell_type": "code",
   "execution_count": 1,
   "id": "6bfbd366",
   "metadata": {},
   "outputs": [],
   "source": [
    "def greet(name):\n",
    "    '''This function will take parameter and will return the same'''\n",
    "    return name"
   ]
  },
  {
   "cell_type": "code",
   "execution_count": 2,
   "id": "e0cddc98",
   "metadata": {},
   "outputs": [
    {
     "data": {
      "text/plain": [
       "'Dollar'"
      ]
     },
     "execution_count": 2,
     "metadata": {},
     "output_type": "execute_result"
    }
   ],
   "source": [
    "greet('Dollar')"
   ]
  },
  {
   "cell_type": "code",
   "execution_count": 5,
   "id": "a43c9ae2",
   "metadata": {},
   "outputs": [
    {
     "data": {
      "text/plain": [
       "'This function will take parameter and will return the same'"
      ]
     },
     "execution_count": 5,
     "metadata": {},
     "output_type": "execute_result"
    }
   ],
   "source": [
    "greet.__doc__"
   ]
  },
  {
   "cell_type": "code",
   "execution_count": 4,
   "id": "bb7f1c3c",
   "metadata": {},
   "outputs": [
    {
     "name": "stdout",
     "output_type": "stream",
     "text": [
      "print(value, ..., sep=' ', end='\\n', file=sys.stdout, flush=False)\n",
      "\n",
      "Prints the values to a stream, or to sys.stdout by default.\n",
      "Optional keyword arguments:\n",
      "file:  a file-like object (stream); defaults to the current sys.stdout.\n",
      "sep:   string inserted between values, default a space.\n",
      "end:   string appended after the last value, default a newline.\n",
      "flush: whether to forcibly flush the stream.\n"
     ]
    }
   ],
   "source": [
    "print(print.__doc__)"
   ]
  },
  {
   "cell_type": "code",
   "execution_count": 2,
   "id": "8547de8f",
   "metadata": {},
   "outputs": [
    {
     "name": "stdout",
     "output_type": "stream",
     "text": [
      "S.format(*args, **kwargs) -> str\n",
      "\n",
      "Return a formatted version of S, using substitutions from args and kwargs.\n",
      "The substitutions are identified by braces ('{' and '}').\n"
     ]
    }
   ],
   "source": [
    "print(str.format.__doc__)"
   ]
  },
  {
   "cell_type": "markdown",
   "id": "61ae6c1b",
   "metadata": {},
   "source": [
    "__Default Parameters__"
   ]
  },
  {
   "cell_type": "code",
   "execution_count": 25,
   "id": "4bffe818",
   "metadata": {},
   "outputs": [
    {
     "name": "stdout",
     "output_type": "stream",
     "text": [
      "I am from India\n",
      "I am from China\n",
      "I am from Balod\n"
     ]
    }
   ],
   "source": [
    "def country(name = \"India\"):\n",
    "    print('I am from', name)\n",
    "    \n",
    "country()\n",
    "country('China')\n",
    "country(name='Balod')"
   ]
  },
  {
   "cell_type": "code",
   "execution_count": 15,
   "id": "62691a54",
   "metadata": {},
   "outputs": [
    {
     "name": "stdout",
     "output_type": "stream",
     "text": [
      "KILAM AYTIDA\n"
     ]
    }
   ],
   "source": [
    "# function to reverse a string #ADITYA\n",
    "\n",
    "def string_reverse(x):\n",
    "    string = \"\" #AYTIDA\n",
    "    index = len(x) \n",
    "    \n",
    "    while index >0:\n",
    "        string += x[index - 1]\n",
    "        index -= 1\n",
    "    print(string)\n",
    "    \n",
    "#output !5\n",
    "string_reverse('ADITYA MALIK')"
   ]
  },
  {
   "cell_type": "code",
   "execution_count": 30,
   "id": "5a0f7622",
   "metadata": {},
   "outputs": [
    {
     "data": {
      "text/plain": [
       "(4, 12.3)"
      ]
     },
     "execution_count": 30,
     "metadata": {},
     "output_type": "execute_result"
    }
   ],
   "source": [
    "# for returning absolute values of a number\n",
    "\n",
    "def Absolute(num):\n",
    "    if num > 0:\n",
    "        return num\n",
    "    elif num == 0:\n",
    "        return 0\n",
    "    else:\n",
    "        return -num\n",
    "    \n",
    "Absolute(-4), Absolute(-12.3)"
   ]
  },
  {
   "cell_type": "code",
   "execution_count": 16,
   "id": "081d0ea5",
   "metadata": {},
   "outputs": [
    {
     "data": {
      "text/plain": [
       "8"
      ]
     },
     "execution_count": 16,
     "metadata": {},
     "output_type": "execute_result"
    }
   ],
   "source": [
    "def f(y):\n",
    "    return 2*y**2\n",
    "\n",
    "f(2)"
   ]
  },
  {
   "cell_type": "markdown",
   "id": "e1dd412a",
   "metadata": {},
   "source": [
    "### Lambda Functions\n",
    "\n",
    "In Python, a lambda function is a small, __anonymous__ function that can be defined on the fly without using the _'def'_ keyword. Lambda functions are also known as anonymous functions because they don't have a specified name. They are typically used for simple, one-line functions.\n",
    "\n",
    "The syntax for creating a lambda function is as follows:\n",
    "\n",
    "```python\n",
    "\n",
    "var = lambda arguments : expression\n",
    "\n",
    "```"
   ]
  },
  {
   "cell_type": "code",
   "execution_count": 33,
   "id": "661fa51e",
   "metadata": {},
   "outputs": [
    {
     "data": {
      "text/plain": [
       "(4, 16, 5.289999999999999)"
      ]
     },
     "execution_count": 33,
     "metadata": {},
     "output_type": "execute_result"
    }
   ],
   "source": [
    "# function to sqaure a given number\n",
    "\n",
    "sq = lambda x: x**2\n",
    "\n",
    "# output\n",
    "\n",
    "sq(2), sq(4), sq(2.3)"
   ]
  },
  {
   "cell_type": "markdown",
   "id": "78b0b602",
   "metadata": {},
   "source": [
    "#### Comparison of User def vs lambda"
   ]
  },
  {
   "cell_type": "code",
   "execution_count": 56,
   "id": "21aefc3d",
   "metadata": {},
   "outputs": [
    {
     "name": "stdout",
     "output_type": "stream",
     "text": [
      "[2, 4, 6, -2, -10, 4, 334, -4532]\n",
      "time taken :  0.0003180503845214844 ms\n"
     ]
    }
   ],
   "source": [
    "# WAP to find even numbers in a given list, output should be in list.\n",
    "mylist = [2, 3, 4, 5, 6, 7, -3, -2, 3, -10, 5, 4, 334, 209, -4532]\n",
    "def even():\n",
    "    import time\n",
    "    start = time.time()\n",
    "    print ([i for i in mylist if i %2 == 0])\n",
    "    stop = time.time()\n",
    "    print('time taken : ', stop-start ,'ms')\n",
    "even()"
   ]
  },
  {
   "cell_type": "code",
   "execution_count": 55,
   "id": "20c8cfa3",
   "metadata": {},
   "outputs": [
    {
     "name": "stdout",
     "output_type": "stream",
     "text": [
      "[2, 4, 6, -2, -10, 4, 334, -4532]\n",
      "time taken :  0.00041985511779785156 ms\n"
     ]
    }
   ],
   "source": [
    "mylist = [2, 3, 4, 5, 6, 7, -3, -2, 3, -10, 5, 4, 334, 209, -4532]\n",
    "import time\n",
    "start = time.time()\n",
    "ev_func = lambda x : x%2==0\n",
    "print(list(filter(ev_func, mylist)))\n",
    "stop = time.time()\n",
    "print('time taken : ', stop-start ,'ms')"
   ]
  },
  {
   "cell_type": "code",
   "execution_count": 57,
   "id": "3c76dde4",
   "metadata": {},
   "outputs": [
    {
     "name": "stdout",
     "output_type": "stream",
     "text": [
      "Help on class filter in module builtins:\n",
      "\n",
      "class filter(object)\n",
      " |  filter(function or None, iterable) --> filter object\n",
      " |  \n",
      " |  Return an iterator yielding those items of iterable for which function(item)\n",
      " |  is true. If function is None, return the items that are true.\n",
      " |  \n",
      " |  Methods defined here:\n",
      " |  \n",
      " |  __getattribute__(self, name, /)\n",
      " |      Return getattr(self, name).\n",
      " |  \n",
      " |  __iter__(self, /)\n",
      " |      Implement iter(self).\n",
      " |  \n",
      " |  __next__(self, /)\n",
      " |      Implement next(self).\n",
      " |  \n",
      " |  __reduce__(...)\n",
      " |      Return state information for pickling.\n",
      " |  \n",
      " |  ----------------------------------------------------------------------\n",
      " |  Static methods defined here:\n",
      " |  \n",
      " |  __new__(*args, **kwargs) from builtins.type\n",
      " |      Create and return a new object.  See help(type) for accurate signature.\n",
      "\n"
     ]
    }
   ],
   "source": [
    "help(filter)"
   ]
  },
  {
   "cell_type": "markdown",
   "id": "29ae49d6",
   "metadata": {},
   "source": [
    "### Void and Unvoid Functions\n",
    "\n",
    "In Python, it is possible to compose a function without a return statement. Functions like this are called void, and they return None. vice versa are called non void functions."
   ]
  },
  {
   "cell_type": "markdown",
   "id": "49a4e6c5",
   "metadata": {},
   "source": [
    "## Nested Function\n",
    "In Python, you can define a nested function, which is a function that is defined inside another function. The nested function has access to the variables and scope of the enclosing function.\n",
    "\n",
    "A common use case of inner functions arises when you need to protect, or hide, a given function from everything happening outside of it so that the function is totally hidden from the global scope. This kind of behavior is commonly known as __encapsulation__."
   ]
  },
  {
   "cell_type": "code",
   "execution_count": 17,
   "id": "552a129b",
   "metadata": {},
   "outputs": [],
   "source": [
    "def global_function():\n",
    "    x = 1\n",
    "    \n",
    "    def local_function():\n",
    "        y = 2\n",
    "        result = x + y\n",
    "        return result\n",
    "\n",
    "    return local_function()"
   ]
  },
  {
   "cell_type": "code",
   "execution_count": 18,
   "id": "d6a86a7e",
   "metadata": {},
   "outputs": [
    {
     "data": {
      "text/plain": [
       "3"
      ]
     },
     "execution_count": 18,
     "metadata": {},
     "output_type": "execute_result"
    }
   ],
   "source": [
    "global_function()"
   ]
  },
  {
   "cell_type": "code",
   "execution_count": 77,
   "id": "a6fdae9a",
   "metadata": {},
   "outputs": [
    {
     "data": {
      "text/plain": [
       "3"
      ]
     },
     "execution_count": 77,
     "metadata": {},
     "output_type": "execute_result"
    }
   ],
   "source": [
    "global_function()"
   ]
  },
  {
   "cell_type": "code",
   "execution_count": 82,
   "id": "9e4beb0a",
   "metadata": {},
   "outputs": [],
   "source": [
    "def increment(number):\n",
    "    def inner_increment():\n",
    "        return number + 1\n",
    "    return inner_increment()"
   ]
  },
  {
   "cell_type": "code",
   "execution_count": 83,
   "id": "80f4c9db",
   "metadata": {},
   "outputs": [
    {
     "data": {
      "text/plain": [
       "6"
      ]
     },
     "execution_count": 83,
     "metadata": {},
     "output_type": "execute_result"
    }
   ],
   "source": [
    "increment(5)"
   ]
  },
  {
   "cell_type": "markdown",
   "id": "35b83301",
   "metadata": {},
   "source": [
    "### Prime Numbers\n",
    "\n",
    "The idea to solve this problem is to iterate through all the numbers starting from 2 to (N/2) using a for loop and for every number check if it divides N. If we find any number that divides, we return false. If we did not find any number between 2 and N/2 which divides N then it means that N is prime and we will return True."
   ]
  },
  {
   "cell_type": "code",
   "execution_count": 33,
   "id": "dd9a290f",
   "metadata": {},
   "outputs": [
    {
     "name": "stdout",
     "output_type": "stream",
     "text": [
      "11 is a prime number\n",
      "5 is a prime number\n",
      "20 is not a prime number\n",
      "-9 is not a prime number\n"
     ]
    }
   ],
   "source": [
    "def checkprime(num):\n",
    "    # If given number is greater than 1\n",
    "    if num > 1:\n",
    "        # Iterate from 2 to n / 2\n",
    "        for i in range(2, int(num/2)+1):\n",
    "            # If num is divisible by any number between\n",
    "            # 2 and n / 2, it is not prime\n",
    "            if (num % i) == 0:\n",
    "                print(num, \"is not a prime number\")\n",
    "                break\n",
    "        else:\n",
    "            print(num, \"is a prime number\")\n",
    "    else:\n",
    "        print(num, \"is not a prime number\")\n",
    "        \n",
    "checkprime(11)\n",
    "checkprime(5)\n",
    "checkprime(20)\n",
    "checkprime(-9)"
   ]
  },
  {
   "cell_type": "code",
   "execution_count": 28,
   "id": "0a6b06b8",
   "metadata": {},
   "outputs": [
    {
     "name": "stdout",
     "output_type": "stream",
     "text": [
      "%\n",
      "*\n",
      "**\n",
      "***\n",
      "%%\n",
      "*\n",
      "**\n",
      "***\n",
      "%%%\n",
      "*\n",
      "**\n",
      "***\n"
     ]
    }
   ],
   "source": [
    "##### x = [1, 2, 3]\n",
    "counter = 0 \n",
    "while counter < len(x): \n",
    "    print(x[counter]* '%')\n",
    "    for y in x: \n",
    "        print(y * '*')\n",
    "    counter +=1"
   ]
  },
  {
   "cell_type": "code",
   "execution_count": 84,
   "id": "600538c9",
   "metadata": {},
   "outputs": [
    {
     "data": {
      "text/plain": [
       "'s'"
      ]
     },
     "execution_count": 84,
     "metadata": {},
     "output_type": "execute_result"
    }
   ],
   "source": [
    "'s'*1"
   ]
  },
  {
   "cell_type": "code",
   "execution_count": 3,
   "id": "a02fd787",
   "metadata": {},
   "outputs": [],
   "source": [
    "def factorial(n):\n",
    "    fact = 1\n",
    "    for i in range(1, n + 1): \n",
    "        fact *= i\n",
    "    print(fact)"
   ]
  },
  {
   "cell_type": "code",
   "execution_count": 4,
   "id": "7859085f",
   "metadata": {},
   "outputs": [
    {
     "name": "stdout",
     "output_type": "stream",
     "text": [
      "120\n"
     ]
    }
   ],
   "source": [
    "factorial(5)"
   ]
  },
  {
   "cell_type": "code",
   "execution_count": 13,
   "id": "cc9e0305",
   "metadata": {},
   "outputs": [
    {
     "name": "stdout",
     "output_type": "stream",
     "text": [
      "$100 is equal to ₹8406.0\n"
     ]
    }
   ],
   "source": [
    "def usdtoinr(x,usd=84.06): \n",
    "    print(f'${x} is equal to ₹{x*usd}')\n",
    "usdtoinr(100)"
   ]
  },
  {
   "cell_type": "code",
   "execution_count": 14,
   "id": "ac96f9d7",
   "metadata": {},
   "outputs": [],
   "source": [
    "def domain(x): \n",
    "    return x.split('@')[-1]"
   ]
  },
  {
   "cell_type": "code",
   "execution_count": 15,
   "id": "d4a2bf55",
   "metadata": {},
   "outputs": [
    {
     "data": {
      "text/plain": [
       "'gmail.com'"
      ]
     },
     "execution_count": 15,
     "metadata": {},
     "output_type": "execute_result"
    }
   ],
   "source": [
    "domain('aditya@gmail.com')"
   ]
  },
  {
   "cell_type": "code",
   "execution_count": null,
   "id": "814c8cd4",
   "metadata": {},
   "outputs": [],
   "source": []
  },
  {
   "cell_type": "code",
   "execution_count": 20,
   "id": "2ff53680",
   "metadata": {},
   "outputs": [],
   "source": [
    "def day(d1, m1, y1, d2, m2, y2):\n",
    "    import datetime\n",
    "    d1= datetime.datetime(y1, m1, d1)\n",
    "    d2= datetime.datetime(y2, m2, d2)\n",
    "    print(d2-d1)"
   ]
  },
  {
   "cell_type": "code",
   "execution_count": 23,
   "id": "d8ea6e27",
   "metadata": {},
   "outputs": [
    {
     "name": "stdout",
     "output_type": "stream",
     "text": [
      "8370 days, 0:00:00\n"
     ]
    }
   ],
   "source": [
    "day(19, 8, 2000, 20, 7, 2023)"
   ]
  },
  {
   "cell_type": "markdown",
   "id": "e2161b92",
   "metadata": {},
   "source": [
    "__WAP to find the roots of quardatic equation__\n",
    "```python \n",
    "ax**2 + b*x + c = 0 , where (a != 0)\n",
    "```\n",
    "\n",
    "_For finding the roots of the quadratic equation_\n",
    "\n",
    "$D = b^2 - 4ac$ <br>\n",
    "<br>\n",
    "$ x = -b ± \\frac{root(D)}{2a}$  <br>\n",
    "<br>\n",
    "\n",
    "$ x = -b ± \\frac{root(b^2 - 4ac)}{2a}$  <br>\n",
    "<br>"
   ]
  },
  {
   "cell_type": "code",
   "execution_count": 35,
   "id": "c3ce50e4",
   "metadata": {},
   "outputs": [],
   "source": [
    "def roots(a, b, c): \n",
    "    import math\n",
    "    determinant = b**2 - 4*a*c\n",
    "    \n",
    "    if determinant >= 0: \n",
    "        # roots real\n",
    "        root1 = (-b + math.sqrt(determinant)) / (2*a)\n",
    "        root2 = (-b - math.sqrt(determinant)) / (2*a)\n",
    "        return root1, root2\n",
    "    else: \n",
    "        # complex roots\n",
    "        real_part = -b/2*a\n",
    "        imag_part = math.sqrt(abs(determinant)/2*a)\n",
    "        \n",
    "        root1 = complex(real_part, imag_part)\n",
    "        root2 = complex(real_part, -imag_part)\n",
    "        return root1, root2"
   ]
  },
  {
   "cell_type": "code",
   "execution_count": 43,
   "id": "48805de6",
   "metadata": {},
   "outputs": [
    {
     "data": {
      "text/plain": [
       "(-2.0, -3.0)"
      ]
     },
     "execution_count": 43,
     "metadata": {},
     "output_type": "execute_result"
    }
   ],
   "source": [
    "roots(1, 5, 6)"
   ]
  },
  {
   "cell_type": "code",
   "execution_count": 44,
   "id": "5c1d8daf",
   "metadata": {},
   "outputs": [
    {
     "name": "stdout",
     "output_type": "stream",
     "text": [
      "Enter the coefficient of x^2 (a): 1\n",
      "Enter the coefficient of x (b): 5\n",
      "Enter the constant term (c): 6\n",
      "Root 1: (-2+0j)\n",
      "Root 2: (-3+0j)\n"
     ]
    }
   ],
   "source": [
    "import cmath  # Importing the complex math module for handling complex roots\n",
    "\n",
    "def find_roots(a, b, c):\n",
    "    # Calculate the discriminant (b**2 - 4*a*c)\n",
    "    discriminant = b**2 - 4*a*c\n",
    "    \n",
    "    # Calculate the two roots\n",
    "    root1 = (-b + cmath.sqrt(discriminant)) / (2*a)\n",
    "    root2 = (-b - cmath.sqrt(discriminant)) / (2*a)\n",
    "    \n",
    "    return root1, root2\n",
    "\n",
    "# Input coefficients from the user\n",
    "a = float(input(\"Enter the coefficient of x^2 (a): \"))\n",
    "b = float(input(\"Enter the coefficient of x (b): \"))\n",
    "c = float(input(\"Enter the constant term (c): \"))\n",
    "\n",
    "# Call the function and get the roots\n",
    "root1, root2 = find_roots(a, b, c)\n",
    "\n",
    "# Display the roots\n",
    "print(\"Root 1:\", root1)\n",
    "print(\"Root 2:\", root2)\n"
   ]
  },
  {
   "cell_type": "markdown",
   "id": "07d0f908",
   "metadata": {},
   "source": [
    "### Global and Local Scope\n",
    "In programming, the terms \"global scope\" and \"local scope\" refer to the visibility and accessibility of variables within different parts of a program. The scope determines where a variable can be accessed and manipulated.\n",
    "\n",
    "__Global Scope__\n",
    "* A variable declared outside any function or block in a program has global scope.\n",
    "* It is accessible from any part of the program, including inside functions and blocks.\n",
    "* Global variables retain their value throughout the entire program's execution.\n",
    "* To create a global variable, you simply declare it outside any function or block.\n",
    "\n",
    "Example of a global variable:\n",
    "\n",
    "```python\n",
    "global_var = 10\n",
    "\n",
    "def my_function():\n",
    "    print(global_var)  # Accessing the global variable inside the function\n",
    "\n",
    "my_function()  # Output: 10\n",
    "print(global_var)  # Output: 10\n",
    "```\n",
    "\n",
    "__Local Scope__\n",
    "* A variable declared inside a function or block has local scope.\n",
    "* It is accessible only within the function or block where it is defined.\n",
    "* Local variables are created when the function or block is executed and are destroyed when the function or block exits.\n",
    "* Local variables take precedence over global variables with the same name.\n",
    "\n",
    "Example of a local variable:\n",
    "\n",
    "```python\n",
    "def my_function():\n",
    "    local_var = 5  # This is a local variable\n",
    "    print(local_var)\n",
    "\n",
    "my_function()  # Output: 5\n",
    "\n",
    "# Trying to access the local variable outside the function will raise an error\n",
    "# print(local_var)  # Raises NameError: name 'local_var' is not defined\n",
    "```"
   ]
  }
 ],
 "metadata": {
  "kernelspec": {
   "display_name": "Python 3 (ipykernel)",
   "language": "python",
   "name": "python3"
  },
  "language_info": {
   "codemirror_mode": {
    "name": "ipython",
    "version": 3
   },
   "file_extension": ".py",
   "mimetype": "text/x-python",
   "name": "python",
   "nbconvert_exporter": "python",
   "pygments_lexer": "ipython3",
   "version": "3.9.18"
  }
 },
 "nbformat": 4,
 "nbformat_minor": 5
}
