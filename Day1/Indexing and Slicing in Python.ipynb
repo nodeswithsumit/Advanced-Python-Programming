{
 "cells": [
  {
   "cell_type": "markdown",
   "id": "b06013a8",
   "metadata": {},
   "source": [
    "\n",
    "# Lecture : Indexing & Slicing in Python\n",
    "\n",
    "\n",
    "Estimated time needed: **15** minutes\n",
    "\n",
    "___\n",
    "\n",
    "## Objectives\n",
    "\n",
    "After completing this lab you will be able to:\n",
    "\n",
    "* index elements \n",
    "* range over elemtns using indexing\n",
    "\n",
    "Data types represent the type of value that a variable can hold. Here are some of the common data types in Python:"
   ]
  },
  {
   "cell_type": "markdown",
   "id": "ce94bd5d",
   "metadata": {},
   "source": [
    "### Indexing\n",
    "Indexing in Python refers to the process of accessing individual elements within a sequence (e.g., strings, lists, tuples) using their position or index. Python uses zero-based indexing, meaning that the index of the first element is 0, the second element is at index 1, and so on."
   ]
  },
  {
   "cell_type": "code",
   "execution_count": 15,
   "id": "4de3f420",
   "metadata": {},
   "outputs": [
    {
     "name": "stdout",
     "output_type": "stream",
     "text": [
      "10\n",
      "ty:)\n"
     ]
    }
   ],
   "source": [
    "my_list = [10, -20, 30, -40, 50]\n",
    "my_string = \"python\"\n",
    "print(my_list[0])  \n",
    "print(my_string[2]+ my_string[1] + ':)')  "
   ]
  },
  {
   "cell_type": "markdown",
   "id": "e3896543",
   "metadata": {},
   "source": [
    "Negative indexing is also possible, counting from the end of the sequence __{reverse order}__:"
   ]
  },
  {
   "cell_type": "code",
   "execution_count": 7,
   "id": "708fadb7",
   "metadata": {},
   "outputs": [
    {
     "name": "stdout",
     "output_type": "stream",
     "text": [
      "50\n",
      "h\n"
     ]
    }
   ],
   "source": [
    "print(my_list[-1])  # last element\n",
    "print(my_string[-3]) # third element from the end "
   ]
  },
  {
   "cell_type": "markdown",
   "id": "40e8fa22",
   "metadata": {},
   "source": [
    "### Nested Indexing\n",
    "In the case of nested sequences like lists within lists, you can use multiple indices to access elements at different levels:"
   ]
  },
  {
   "cell_type": "code",
   "execution_count": 16,
   "id": "3f3d8638",
   "metadata": {},
   "outputs": [
    {
     "name": "stdout",
     "output_type": "stream",
     "text": [
      "6\n",
      "[7, 8, 9]\n",
      "7\n"
     ]
    }
   ],
   "source": [
    "nested_list = [[1, 2, 3], [4, 5, 6], [7, 8, 9]]\n",
    "\n",
    "# Accessing individual elements in a nested list\n",
    "\n",
    "print(nested_list[1][2])  # element in the second list, third position\n",
    "print(nested_list[2])\n",
    "print(nested_list[-1][-3])"
   ]
  },
  {
   "cell_type": "markdown",
   "id": "234be150",
   "metadata": {},
   "source": [
    "<div class=\"alert alert-block alert-info\">\n",
    "<b>Note:</b> Remember that attempting to access an index that is out of bounds will result in an <b>IndexError</b>. Additionally, negative indices can be used to count elements from the end of the sequence.\n",
    "</div>"
   ]
  },
  {
   "cell_type": "markdown",
   "id": "e0619f67",
   "metadata": {},
   "source": [
    "### Slicing\n",
    "Slicing in Python allows you to extract a portion of a sequence (like strings, lists, or tuples) by specifying a range of indices. The basic syntax for slicing is <b>\"start : stop : step\" </b>, where:\n",
    "\n",
    "* __start__: The starting index of the slice (inclusive).\n",
    "* __stop__: The ending index of the slice (exclusive).\n",
    "* __step__ (optional): The step size between elements.\n",
    "\n",
    "\n",
    "range(start, stop, step) - __start.....stop-1__, with the skip counts of __step__\n",
    "\n",
    "Remember that when omitting start, it defaults to the beginning of the sequence, and when omitting stop, it defaults to the end of the sequence.\n",
    "\n",
    "Both indexing and slicing are applicable to strings, lists, and tuples, as they are all sequences in Python.\n",
    "\n",
    "Here are examples of slicing in Python:"
   ]
  },
  {
   "cell_type": "code",
   "execution_count": 12,
   "id": "aca2af8d",
   "metadata": {},
   "outputs": [
    {
     "name": "stdout",
     "output_type": "stream",
     "text": [
      "Hello\n",
      "Hlo yhn!\n"
     ]
    }
   ],
   "source": [
    "my_string = \"Hello, Python !\"\n",
    "\n",
    "# Slicing from index 0 to 5 (exclusive)\n",
    "substring = my_string[0:5] # 0......to 5-1\n",
    "print(substring)  \n",
    "\n",
    "# Slicing with a step of 2\n",
    "every_second_char = my_string[0::2]\n",
    "print(every_second_char)  \n"
   ]
  },
  {
   "cell_type": "markdown",
   "id": "cc1f5b67",
   "metadata": {},
   "source": [
    "<div class=\"alert alert-block alert-info\">\n",
    "<b>Note:</b> Slicing creates a new sequence, and the original sequence remains unchanged..\n",
    "</div>"
   ]
  },
  {
   "cell_type": "markdown",
   "id": "5e2719fd",
   "metadata": {},
   "source": [
    "### Negative Index and Slicing\n",
    "a tuple is a data type that represents an ordered, immutable collection of elements. Tuples are similar to lists, but once a tuple is created, you cannot modify its contents (add, remove, or modify elements). Tuples are defined using parentheses () and may contain elements of different data types. Here's an example:"
   ]
  },
  {
   "cell_type": "code",
   "execution_count": 14,
   "id": "bf5d1fa3",
   "metadata": {},
   "outputs": [
    {
     "name": "stdout",
     "output_type": "stream",
     "text": [
      "[30, 40, 50]\n"
     ]
    }
   ],
   "source": [
    "my_list = [10, 20, 30, 40, 50]\n",
    "\n",
    "# Slicing from the third-to-last element to the end\n",
    "neg_slice = my_list[-3:]\n",
    "print(neg_slice)  # Output: [30, 40, 50]"
   ]
  }
 ],
 "metadata": {
  "kernelspec": {
   "display_name": "Python 3 (ipykernel)",
   "language": "python",
   "name": "python3"
  },
  "language_info": {
   "codemirror_mode": {
    "name": "ipython",
    "version": 3
   },
   "file_extension": ".py",
   "mimetype": "text/x-python",
   "name": "python",
   "nbconvert_exporter": "python",
   "pygments_lexer": "ipython3",
   "version": "3.9.18"
  }
 },
 "nbformat": 4,
 "nbformat_minor": 5
}
