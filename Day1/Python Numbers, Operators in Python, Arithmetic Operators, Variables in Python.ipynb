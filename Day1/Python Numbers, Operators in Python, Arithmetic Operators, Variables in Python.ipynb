{
 "cells": [
  {
   "cell_type": "markdown",
   "id": "3cb052be",
   "metadata": {},
   "source": [
    "## Tokens in PL"
   ]
  },
  {
   "cell_type": "code",
   "execution_count": 4,
   "id": "bea6c550",
   "metadata": {},
   "outputs": [
    {
     "name": "stdout",
     "output_type": "stream",
     "text": [
      "Tokens:  Keywords, Identifiers, Operators, Literals, Punctuators\n"
     ]
    }
   ],
   "source": [
    "'''Tokens are the smallest or lexical unit in a PL.'''\n",
    "print('Tokens:  Keywords, Identifiers, Operators, Literals, Punctuators')"
   ]
  },
  {
   "cell_type": "code",
   "execution_count": 7,
   "id": "2a2202c9",
   "metadata": {},
   "outputs": [],
   "source": [
    "x = 'sudixa'"
   ]
  },
  {
   "cell_type": "markdown",
   "id": "eb04f245",
   "metadata": {},
   "source": [
    "### Keywords in Python"
   ]
  },
  {
   "cell_type": "code",
   "execution_count": 2,
   "id": "df2ccec0",
   "metadata": {},
   "outputs": [
    {
     "name": "stdout",
     "output_type": "stream",
     "text": [
      "\n",
      "Here is a list of the Python keywords.  Enter any keyword to get more help.\n",
      "\n",
      "False               class               from                or\n",
      "None                continue            global              pass\n",
      "True                def                 if                  raise\n",
      "and                 del                 import              return\n",
      "as                  elif                in                  try\n",
      "assert              else                is                  while\n",
      "async               except              lambda              with\n",
      "await               finally             nonlocal            yield\n",
      "break               for                 not                 \n",
      "\n"
     ]
    }
   ],
   "source": [
    "'''Reserved words or predefined words in a PL'''\n",
    "help('keywords') #3.11 > 36..."
   ]
  },
  {
   "cell_type": "code",
   "execution_count": 15,
   "id": "207ca929",
   "metadata": {},
   "outputs": [
    {
     "name": "stdout",
     "output_type": "stream",
     "text": [
      "['False', 'None', 'True', '__peg_parser__', 'and', 'as', 'assert', 'async', 'await', 'break', 'class', 'continue', 'def', 'del', 'elif', 'else', 'except', 'finally', 'for', 'from', 'global', 'if', 'import', 'in', 'is', 'lambda', 'nonlocal', 'not', 'or', 'pass', 'raise', 'return', 'try', 'while', 'with', 'yield']\n"
     ]
    }
   ],
   "source": [
    "import keyword\n",
    "print(keyword.kwlist)"
   ]
  },
  {
   "cell_type": "code",
   "execution_count": 5,
   "id": "687f960d",
   "metadata": {},
   "outputs": [
    {
     "data": {
      "text/plain": [
       "35"
      ]
     },
     "execution_count": 5,
     "metadata": {},
     "output_type": "execute_result"
    }
   ],
   "source": [
    "'''for calculating the length of any sequence  we use LEN()'''\n",
    "len(keyword.kwlist)"
   ]
  },
  {
   "cell_type": "code",
   "execution_count": 18,
   "id": "f4ca565c",
   "metadata": {},
   "outputs": [
    {
     "data": {
      "text/plain": [
       "False"
      ]
     },
     "execution_count": 18,
     "metadata": {},
     "output_type": "execute_result"
    }
   ],
   "source": [
    "# FInd whether 'Hello World' is a keyword or not ?\n",
    "word = 'Hello World'\n",
    "keyword.iskeyword(word)"
   ]
  },
  {
   "cell_type": "markdown",
   "id": "c9d7a449",
   "metadata": {},
   "source": [
    "### Literals"
   ]
  },
  {
   "cell_type": "code",
   "execution_count": 12,
   "id": "9e7cdc82",
   "metadata": {},
   "outputs": [
    {
     "data": {
      "text/plain": [
       "('23', 23, 45.6)"
      ]
     },
     "execution_count": 12,
     "metadata": {},
     "output_type": "execute_result"
    }
   ],
   "source": [
    "'''Constants or Fixed Values {Numbers}.There are String LIterals too'''\n",
    "'23', 23, 45.6"
   ]
  },
  {
   "cell_type": "markdown",
   "id": "9604804d",
   "metadata": {},
   "source": [
    "### Identifiers"
   ]
  },
  {
   "cell_type": "code",
   "execution_count": 13,
   "id": "4b7da2e1",
   "metadata": {},
   "outputs": [],
   "source": [
    "'''Variables or Names given to the word{literals} for identification in PL'''\n",
    "x = 56\n",
    "i = -56/3"
   ]
  },
  {
   "cell_type": "code",
   "execution_count": 9,
   "id": "4aa1132a",
   "metadata": {},
   "outputs": [
    {
     "data": {
      "text/plain": [
       "5"
      ]
     },
     "execution_count": 9,
     "metadata": {},
     "output_type": "execute_result"
    }
   ],
   "source": [
    "y = {'a':5, 'b':3}"
   ]
  },
  {
   "cell_type": "markdown",
   "id": "010dbdd0",
   "metadata": {},
   "source": [
    "### Operators"
   ]
  },
  {
   "cell_type": "code",
   "execution_count": 15,
   "id": "ca02bded",
   "metadata": {},
   "outputs": [
    {
     "data": {
      "text/plain": [
       "'For having some operations or computations'"
      ]
     },
     "execution_count": 15,
     "metadata": {},
     "output_type": "execute_result"
    }
   ],
   "source": [
    "'''For having some operations or computations'''"
   ]
  },
  {
   "cell_type": "code",
   "execution_count": 5,
   "id": "ec56d6e2",
   "metadata": {},
   "outputs": [],
   "source": [
    "# Arithmetic Operators\n",
    "# Assignment\n",
    "# Logical \n",
    "# Relational\n",
    "# Bitwise \n",
    "# Membership \n",
    "# Identity\n",
    "# Boolean"
   ]
  },
  {
   "cell_type": "markdown",
   "id": "0f47f41d",
   "metadata": {},
   "source": [
    "### Variables in Python"
   ]
  },
  {
   "cell_type": "code",
   "execution_count": 10,
   "id": "3accb46c",
   "metadata": {},
   "outputs": [
    {
     "data": {
      "text/plain": [
       "(200, 15, -5)"
      ]
     },
     "execution_count": 10,
     "metadata": {},
     "output_type": "execute_result"
    }
   ],
   "source": [
    "# Naming Variables - Name Conventions\n",
    "python_is_awesome  = 100\n",
    "just_another_variable = python_is_awesome\n",
    "\n",
    "'''multi assignment of variables'''\n",
    "a, b = 5, 10\n",
    "c = 15 ; d = 20\n",
    "\n",
    "python_is_awesome + just_another_variable, a + b, c - d"
   ]
  },
  {
   "cell_type": "markdown",
   "id": "e43276ba",
   "metadata": {},
   "source": [
    "### Python Numbers"
   ]
  },
  {
   "cell_type": "code",
   "execution_count": 11,
   "id": "2420e07c",
   "metadata": {},
   "outputs": [
    {
     "name": "stdout",
     "output_type": "stream",
     "text": [
      "Integers : Whole Numbers\n",
      "FLoat : Real Numbers \n",
      "Complex : Real + Imaginary Numbers\n",
      "\n",
      "Integers:  56 -313\n",
      "Float:  56.5 -313.3 0.75\n",
      "Complex:  56.5 (87-400.3j) (0.75+5j)\n",
      "\n",
      "\n",
      "56 <class 'int'>\n",
      "-313 <class 'int'>\n",
      "56.5 <class 'float'>\n",
      "-313.3 <class 'float'>\n",
      "0.75 <class 'float'>\n",
      "56.5 <class 'float'>\n",
      "(87-400.3j) <class 'complex'>\n",
      "(0.75+5j) <class 'complex'>\n"
     ]
    }
   ],
   "source": [
    "print('''Integers : Whole Numbers\n",
    "FLoat : Real Numbers \n",
    "Complex : Real + Imaginary Numbers\n",
    "''')\n",
    "\n",
    "# int \n",
    "d = 56\n",
    "g = 87-400\n",
    "print('Integers: ',d, g)\n",
    "\n",
    "# float \n",
    "e = 56.5\n",
    "h = 87-400.3\n",
    "y = 3/4\n",
    "print('Float: ',e, h, y)\n",
    "\n",
    "# Complex\n",
    "ei = 56.5\n",
    "hi = 87-400.3j\n",
    "yi = 3/4 + 5j\n",
    "print('Complex: ',ei , hi, yi)\n",
    "print('\\n')\n",
    "numbers = [d, g, e, h, y, ei, hi, yi]\n",
    "\n",
    "for i in numbers:\n",
    "    print(i, type(i))"
   ]
  },
  {
   "cell_type": "code",
   "execution_count": 15,
   "id": "0b09b777",
   "metadata": {},
   "outputs": [
    {
     "data": {
      "text/plain": [
       "7.0"
      ]
     },
     "execution_count": 15,
     "metadata": {},
     "output_type": "execute_result"
    }
   ],
   "source": [
    "7j.imag # a + bj"
   ]
  },
  {
   "cell_type": "markdown",
   "id": "4bdd9d41",
   "metadata": {},
   "source": [
    "### Arithmetic Operators"
   ]
  },
  {
   "cell_type": "code",
   "execution_count": 35,
   "id": "e8c88c1b",
   "metadata": {},
   "outputs": [
    {
     "data": {
      "text/plain": [
       "(7, 1, 72, 1.3333333333333333)"
      ]
     },
     "execution_count": 35,
     "metadata": {},
     "output_type": "execute_result"
    }
   ],
   "source": [
    "'''Arithmetic Calculations'''\n",
    "4 + 3, 6- 5, 9 *8 , 4 / 3 # division"
   ]
  },
  {
   "cell_type": "code",
   "execution_count": 41,
   "id": "8e3d24d3",
   "metadata": {},
   "outputs": [
    {
     "data": {
      "text/plain": [
       "33"
      ]
     },
     "execution_count": 41,
     "metadata": {},
     "output_type": "execute_result"
    }
   ],
   "source": [
    "# integer div\n",
    "100 // 3"
   ]
  },
  {
   "cell_type": "code",
   "execution_count": 45,
   "id": "6031a674",
   "metadata": {},
   "outputs": [
    {
     "data": {
      "text/plain": [
       "(81, 25)"
      ]
     },
     "execution_count": 45,
     "metadata": {},
     "output_type": "execute_result"
    }
   ],
   "source": [
    "# exponentiation\n",
    "3 ** 4, 5 **2"
   ]
  },
  {
   "cell_type": "code",
   "execution_count": 47,
   "id": "1219751a",
   "metadata": {},
   "outputs": [
    {
     "data": {
      "text/plain": [
       "(1, 0)"
      ]
     },
     "execution_count": 47,
     "metadata": {},
     "output_type": "execute_result"
    }
   ],
   "source": [
    "# Modulus -- remainder\n",
    "100%3, 4%2"
   ]
  },
  {
   "cell_type": "code",
   "execution_count": 51,
   "id": "82b119a5",
   "metadata": {},
   "outputs": [
    {
     "name": "stdout",
     "output_type": "stream",
     "text": [
      "100 % 3 : Remainder = 1 ,Value:  33.333333333333336\n"
     ]
    }
   ],
   "source": [
    "print('100 % 3 : Remainder =',100%3, ',Value: ' ,100/3)"
   ]
  },
  {
   "cell_type": "code",
   "execution_count": 22,
   "id": "148562c1",
   "metadata": {},
   "outputs": [],
   "source": [
    "tmarks = 500\n",
    "omarks = 384.9\n",
    "per  = round(omarks/tmarks*100)"
   ]
  },
  {
   "cell_type": "code",
   "execution_count": 21,
   "id": "7d238d39",
   "metadata": {},
   "outputs": [
    {
     "data": {
      "text/plain": [
       "77"
      ]
     },
     "execution_count": 21,
     "metadata": {},
     "output_type": "execute_result"
    }
   ],
   "source": [
    "per"
   ]
  },
  {
   "cell_type": "code",
   "execution_count": 13,
   "id": "d078f857",
   "metadata": {},
   "outputs": [
    {
     "data": {
      "text/plain": [
       "'Punctuators are symbols used in Programming Languages!@#$%^&*()_'"
      ]
     },
     "execution_count": 13,
     "metadata": {},
     "output_type": "execute_result"
    }
   ],
   "source": [
    "'Punctuators are symbols used in Programming Languages!@#$%^&*()_'"
   ]
  },
  {
   "cell_type": "code",
   "execution_count": 14,
   "id": "e115fa1c",
   "metadata": {},
   "outputs": [
    {
     "data": {
      "text/plain": [
       "'!\"#$%&\\'()*+,-./:;<=>?@[\\\\]^_`{|}~'"
      ]
     },
     "execution_count": 14,
     "metadata": {},
     "output_type": "execute_result"
    }
   ],
   "source": [
    "import string\n",
    "string.punctuation"
   ]
  },
  {
   "cell_type": "code",
   "execution_count": 18,
   "id": "300a7fbc",
   "metadata": {},
   "outputs": [],
   "source": [
    "e, m , s, h, c = 100, 90, 30.5, 60.6, 89"
   ]
  },
  {
   "cell_type": "code",
   "execution_count": 19,
   "id": "c35f0e8c",
   "metadata": {},
   "outputs": [
    {
     "data": {
      "text/plain": [
       "(100, 90, 30.5, 60.6, 89)"
      ]
     },
     "execution_count": 19,
     "metadata": {},
     "output_type": "execute_result"
    }
   ],
   "source": [
    "e,m,s,h,c"
   ]
  },
  {
   "cell_type": "code",
   "execution_count": 20,
   "id": "ff3c8ecb",
   "metadata": {},
   "outputs": [
    {
     "data": {
      "text/plain": [
       "74.02000000000001"
      ]
     },
     "execution_count": 20,
     "metadata": {},
     "output_type": "execute_result"
    }
   ],
   "source": [
    "(e+m+s+h+c)/500 * 100"
   ]
  },
  {
   "cell_type": "code",
   "execution_count": 22,
   "id": "8eb7331c",
   "metadata": {},
   "outputs": [
    {
     "data": {
      "text/plain": [
       "74.02000000000001"
      ]
     },
     "execution_count": 22,
     "metadata": {},
     "output_type": "execute_result"
    }
   ],
   "source": [
    "sum((e,m, s, h, c))/500*100"
   ]
  },
  {
   "cell_type": "code",
   "execution_count": 35,
   "id": "3b725b46",
   "metadata": {},
   "outputs": [
    {
     "data": {
      "text/plain": [
       "(int, float, complex)"
      ]
     },
     "execution_count": 35,
     "metadata": {},
     "output_type": "execute_result"
    }
   ],
   "source": [
    "type(4), type(4.5), type(4j)"
   ]
  },
  {
   "cell_type": "code",
   "execution_count": 38,
   "id": "12bb0ce2",
   "metadata": {},
   "outputs": [
    {
     "data": {
      "text/plain": [
       "(5, 4)"
      ]
     },
     "execution_count": 38,
     "metadata": {},
     "output_type": "execute_result"
    }
   ],
   "source": [
    "# Length In Python \n",
    "len('qwert'), len([2, 3, 4, 5])"
   ]
  },
  {
   "cell_type": "code",
   "execution_count": 39,
   "id": "dbec9942",
   "metadata": {},
   "outputs": [],
   "source": [
    "# INPUT"
   ]
  },
  {
   "cell_type": "code",
   "execution_count": 42,
   "id": "b58f7fba",
   "metadata": {},
   "outputs": [
    {
     "name": "stdout",
     "output_type": "stream",
     "text": [
      "Enter name: 45\n"
     ]
    },
    {
     "data": {
      "text/plain": [
       "'4545'"
      ]
     },
     "execution_count": 42,
     "metadata": {},
     "output_type": "execute_result"
    }
   ],
   "source": [
    "y  = input('Enter name: ')\n",
    "y * 2"
   ]
  },
  {
   "cell_type": "code",
   "execution_count": null,
   "id": "82433728",
   "metadata": {},
   "outputs": [],
   "source": []
  }
 ],
 "metadata": {
  "kernelspec": {
   "display_name": "Python 3 (ipykernel)",
   "language": "python",
   "name": "python3"
  },
  "language_info": {
   "codemirror_mode": {
    "name": "ipython",
    "version": 3
   },
   "file_extension": ".py",
   "mimetype": "text/x-python",
   "name": "python",
   "nbconvert_exporter": "python",
   "pygments_lexer": "ipython3",
   "version": "3.9.18"
  }
 },
 "nbformat": 4,
 "nbformat_minor": 5
}
