{
 "cells": [
  {
   "cell_type": "markdown",
   "id": "9b3b1ce7",
   "metadata": {},
   "source": [
    "##  1. Time Complexity and Big O Notation"
   ]
  },
  {
   "cell_type": "markdown",
   "id": "8b3514ab",
   "metadata": {},
   "source": [
    "\n",
    "\n",
    "__1.1 Analyze the time complexity of the code for finding the maximum element in a list__"
   ]
  },
  {
   "cell_type": "code",
   "execution_count": 1,
   "id": "eff33b8d",
   "metadata": {},
   "outputs": [
    {
     "name": "stdout",
     "output_type": "stream",
     "text": [
      "Maximum element: 9\n"
     ]
    }
   ],
   "source": [
    "# Code to find maximum element in a list\n",
    "def find_max(arr):\n",
    "    max_val = arr[0]\n",
    "    for num in arr:\n",
    "        if num > max_val:\n",
    "            max_val = num\n",
    "    return max_val\n",
    "\n",
    "# Test the function\n",
    "arr = [3, 1, 4, 1, 5, 9, 2]\n",
    "print(f\"Maximum element: {find_max(arr)}\")\n",
    "\n",
    "# Time Complexity Analysis:\n",
    "# - The function iterates through the entire list once.\n",
    "# - Therefore, the time complexity is O(n), where n is the length of the list."
   ]
  },
  {
   "cell_type": "markdown",
   "id": "ea053534",
   "metadata": {},
   "source": [
    "__1.2 Write a function to compute the factorial of a number and identify its complexity__"
   ]
  },
  {
   "cell_type": "code",
   "execution_count": 2,
   "id": "e0c21288",
   "metadata": {},
   "outputs": [
    {
     "name": "stdout",
     "output_type": "stream",
     "text": [
      "Factorial of 5: 120\n"
     ]
    }
   ],
   "source": [
    "# Function to compute factorial\n",
    "def factorial(n):\n",
    "    if n == 0 or n == 1:\n",
    "        return 1\n",
    "    return n * factorial(n - 1)\n",
    "\n",
    "# Test the function\n",
    "print(f\"Factorial of 5: {factorial(5)}\")\n",
    "\n",
    "# Time Complexity Analysis:\n",
    "# - The recursive function calls itself n times.\n",
    "# - Therefore, the time complexity is O(n)."
   ]
  },
  {
   "cell_type": "markdown",
   "id": "da907cc0",
   "metadata": {},
   "source": [
    "## 2. Sorting and Searching Algorithms"
   ]
  },
  {
   "cell_type": "markdown",
   "id": "973fa59b",
   "metadata": {},
   "source": [
    "__2.1 Implement Bubble Sort and Insertion Sort on a list of random numbers__"
   ]
  },
  {
   "cell_type": "code",
   "execution_count": 3,
   "id": "7ac46712",
   "metadata": {},
   "outputs": [
    {
     "name": "stdout",
     "output_type": "stream",
     "text": [
      "Original array: [55, 84, 81, 11, 95, 9, 87, 66, 89, 1]\n",
      "Bubble Sort result: [1, 9, 11, 55, 66, 81, 84, 87, 89, 95]\n",
      "Insertion Sort result: [1, 9, 11, 55, 66, 81, 84, 87, 89, 95]\n"
     ]
    }
   ],
   "source": [
    "import random\n",
    "\n",
    "# Bubble Sort\n",
    "def bubble_sort(arr):\n",
    "    n = len(arr)\n",
    "    for i in range(n):\n",
    "        for j in range(0, n - i - 1):\n",
    "            if arr[j] > arr[j + 1]:\n",
    "                arr[j], arr[j + 1] = arr[j + 1], arr[j]\n",
    "    return arr\n",
    "\n",
    "# Insertion Sort\n",
    "def insertion_sort(arr):\n",
    "    for i in range(1, len(arr)):\n",
    "        key = arr[i]\n",
    "        j = i - 1\n",
    "        while j >= 0 and key < arr[j]:\n",
    "            arr[j + 1] = arr[j]\n",
    "            j -= 1\n",
    "        arr[j + 1] = key\n",
    "    return arr\n",
    "\n",
    "# Test the sorting algorithms\n",
    "arr = random.sample(range(1, 101), 10)\n",
    "print(f\"Original array: {arr}\")\n",
    "print(f\"Bubble Sort result: {bubble_sort(arr.copy())}\")\n",
    "print(f\"Insertion Sort result: {insertion_sort(arr.copy())}\")"
   ]
  },
  {
   "cell_type": "markdown",
   "id": "8c4e5cc4",
   "metadata": {},
   "source": [
    "__2.2 Compare the execution time of Merge Sort and Quick Sort for a large dataset__"
   ]
  },
  {
   "cell_type": "code",
   "execution_count": 4,
   "id": "94cf9a3b",
   "metadata": {},
   "outputs": [
    {
     "name": "stdout",
     "output_type": "stream",
     "text": [
      "Merge Sort Execution Time: 0.004285335540771484 seconds\n",
      "Quick Sort Execution Time: 0.002666950225830078 seconds\n"
     ]
    }
   ],
   "source": [
    "import time\n",
    "\n",
    "# Merge Sort\n",
    "def merge_sort(arr):\n",
    "    if len(arr) > 1:\n",
    "        mid = len(arr) // 2\n",
    "        left = arr[:mid]\n",
    "        right = arr[mid:]\n",
    "\n",
    "        merge_sort(left)\n",
    "        merge_sort(right)\n",
    "\n",
    "        i = j = k = 0\n",
    "        while i < len(left) and j < len(right):\n",
    "            if left[i] < right[j]:\n",
    "                arr[k] = left[i]\n",
    "                i += 1\n",
    "            else:\n",
    "                arr[k] = right[j]\n",
    "                j += 1\n",
    "            k += 1\n",
    "\n",
    "        while i < len(left):\n",
    "            arr[k] = left[i]\n",
    "            i += 1\n",
    "            k += 1\n",
    "\n",
    "        while j < len(right):\n",
    "            arr[k] = right[j]\n",
    "            j += 1\n",
    "            k += 1\n",
    "    return arr\n",
    "\n",
    "# Quick Sort\n",
    "def quick_sort(arr):\n",
    "    if len(arr) <= 1:\n",
    "        return arr\n",
    "    pivot = arr[len(arr) // 2]\n",
    "    left = [x for x in arr if x < pivot]\n",
    "    middle = [x for x in arr if x == pivot]\n",
    "    right = [x for x in arr if x > pivot]\n",
    "    return quick_sort(left) + middle + quick_sort(right)\n",
    "\n",
    "# Compare execution times\n",
    "arr = random.sample(range(1, 10001), 1000)\n",
    "\n",
    "start_time = time.time()\n",
    "merge_sort(arr.copy())\n",
    "print(f\"Merge Sort Execution Time: {time.time() - start_time} seconds\")\n",
    "\n",
    "start_time = time.time()\n",
    "quick_sort(arr.copy())\n",
    "print(f\"Quick Sort Execution Time: {time.time() - start_time} seconds\")"
   ]
  },
  {
   "cell_type": "markdown",
   "id": "0481aed5",
   "metadata": {},
   "source": [
    "## 3. Searching Algorithms"
   ]
  },
  {
   "cell_type": "markdown",
   "id": "37cddcb4",
   "metadata": {},
   "source": [
    "__3.1 Binary Search__"
   ]
  },
  {
   "cell_type": "code",
   "execution_count": 5,
   "id": "c24567d8",
   "metadata": {},
   "outputs": [
    {
     "name": "stdout",
     "output_type": "stream",
     "text": [
      "Index of 9 in the sorted array: -1\n"
     ]
    }
   ],
   "source": [
    "# Binary Search\n",
    "def binary_search(arr, target):\n",
    "    left, right = 0, len(arr) - 1\n",
    "    while left <= right:\n",
    "        mid = (left + right) // 2\n",
    "        if arr[mid] == target:\n",
    "            return mid\n",
    "        elif arr[mid] < target:\n",
    "            left = mid + 1\n",
    "        else:\n",
    "            right = mid - 1\n",
    "    return -1\n",
    "\n",
    "# Test the function\n",
    "arr = sorted(random.sample(range(1, 101), 10))\n",
    "target = 9\n",
    "print(f\"Index of {target} in the sorted array: {binary_search(arr, target)}\")"
   ]
  },
  {
   "cell_type": "markdown",
   "id": "b55366af",
   "metadata": {},
   "source": [
    "__3.2 Find the kth smallest element in a list__"
   ]
  },
  {
   "cell_type": "code",
   "execution_count": 6,
   "id": "8b541208",
   "metadata": {},
   "outputs": [
    {
     "name": "stdout",
     "output_type": "stream",
     "text": [
      "5th smallest element in the array: 28\n"
     ]
    }
   ],
   "source": [
    "import heapq\n",
    "\n",
    "def find_kth_smallest(arr, k):\n",
    "    return heapq.nsmallest(k, arr)[-1]\n",
    "\n",
    "# Test the function\n",
    "arr = random.sample(range(1, 101), 20)\n",
    "k = 5\n",
    "print(f\"{k}th smallest element in the array: {find_kth_smallest(arr, k)}\")"
   ]
  },
  {
   "cell_type": "markdown",
   "id": "e8abf42e",
   "metadata": {},
   "source": [
    "## 4. Recursion and Backtracking\n",
    "\n",
    "__4.1 Fibonacci series problem using recursion__"
   ]
  },
  {
   "cell_type": "code",
   "execution_count": 7,
   "id": "4118e49e",
   "metadata": {},
   "outputs": [
    {
     "name": "stdout",
     "output_type": "stream",
     "text": [
      "Fibonacci of 10: 55\n"
     ]
    }
   ],
   "source": [
    "# Fibonacci using recursion\n",
    "def fibonacci(n):\n",
    "    if n <= 1:\n",
    "        return n\n",
    "    return fibonacci(n - 1) + fibonacci(n - 2)\n",
    "\n",
    "# Test the function\n",
    "print(f\"Fibonacci of 10: {fibonacci(10)}\")"
   ]
  },
  {
   "cell_type": "markdown",
   "id": "381e9501",
   "metadata": {},
   "source": [
    "__4.2 Recursive function for the power of a number__"
   ]
  },
  {
   "cell_type": "code",
   "execution_count": 8,
   "id": "7872280d",
   "metadata": {},
   "outputs": [
    {
     "name": "stdout",
     "output_type": "stream",
     "text": [
      "2^10 = 1024\n"
     ]
    }
   ],
   "source": [
    "# Power function using recursion\n",
    "def power(base, exp):\n",
    "    if exp == 0:\n",
    "        return 1\n",
    "    return base * power(base, exp - 1)\n",
    "\n",
    "# Test the function\n",
    "print(f\"2^10 = {power(2, 10)}\")"
   ]
  },
  {
   "cell_type": "markdown",
   "id": "31a0a36d",
   "metadata": {},
   "source": [
    "__4.3 N-Queens problem (4x4 board)__"
   ]
  },
  {
   "cell_type": "code",
   "execution_count": 9,
   "id": "358eea73",
   "metadata": {},
   "outputs": [
    {
     "name": "stdout",
     "output_type": "stream",
     "text": [
      "0 0 1 0\n",
      "1 0 0 0\n",
      "0 0 0 1\n",
      "0 1 0 0\n"
     ]
    }
   ],
   "source": [
    "# N-Queens solution using backtracking\n",
    "def is_safe(board, row, col):\n",
    "    for i in range(col):\n",
    "        if board[row][i] == 1:\n",
    "            return False\n",
    "    for i, j in zip(range(row, -1, -1), range(col, -1, -1)):\n",
    "        if board[i][j] == 1:\n",
    "            return False\n",
    "    for i, j in zip(range(row, len(board), 1), range(col, len(board), 1)):\n",
    "        if board[i][j] == 1:\n",
    "            return False\n",
    "    return True\n",
    "\n",
    "def solve_n_queens(board, col):\n",
    "    if col >= len(board):\n",
    "        return True\n",
    "    for i in range(len(board)):\n",
    "        if is_safe(board, i, col):\n",
    "            board[i][col] = 1\n",
    "            if solve_n_queens(board, col + 1):\n",
    "                return True\n",
    "            board[i][col] = 0\n",
    "    return False\n",
    "\n",
    "def print_solution(board):\n",
    "    for row in board:\n",
    "        print(\" \".join(str(cell) for cell in row))\n",
    "\n",
    "# Test the function (4x4 board)\n",
    "n = 4\n",
    "board = [[0 for _ in range(n)] for _ in range(n)]\n",
    "if solve_n_queens(board, 0):\n",
    "    print_solution(board)\n",
    "else:\n",
    "    print(\"No solution exists.\")"
   ]
  },
  {
   "cell_type": "markdown",
   "id": "602b22a0",
   "metadata": {},
   "source": [
    "__4.4 Maze-solving algorithm using backtracking__"
   ]
  },
  {
   "cell_type": "code",
   "execution_count": 11,
   "id": "c64ed18e",
   "metadata": {},
   "outputs": [
    {
     "name": "stdout",
     "output_type": "stream",
     "text": [
      "Path to solve the maze:  [(0, 0), (1, 0), (2, 0), (2, 1), (2, 2), (2, 3), (3, 3)]\n"
     ]
    }
   ],
   "source": [
    "# Maze-solving using backtracking\n",
    "def is_safe(maze, x, y):\n",
    "    return 0 <= x < len(maze) and 0 <= y < len(maze[0]) and maze[x][y] == 0\n",
    "\n",
    "def solve_maze(maze, x, y, path):\n",
    "    if x == len(maze) - 1 and y == len(maze[0]) - 1:  # Destination is reached\n",
    "        path.append((x, y))\n",
    "        return True\n",
    "    if is_safe(maze, x, y):\n",
    "        path.append((x, y))  # Mark the current cell in the path\n",
    "        maze[x][y] = 2  # Mark the cell as visited\n",
    "        \n",
    "        # Move down\n",
    "        if solve_maze(maze, x + 1, y, path):\n",
    "            return True\n",
    "        \n",
    "        # Move right\n",
    "        if solve_maze(maze, x, y + 1, path):\n",
    "            return True\n",
    "        \n",
    "        # Move up\n",
    "        if solve_maze(maze, x - 1, y, path):\n",
    "            return True\n",
    "        \n",
    "        # Move left\n",
    "        if solve_maze(maze, x, y - 1, path):\n",
    "            return True\n",
    "        \n",
    "        maze[x][y] = 0  # Backtrack and unmark the cell\n",
    "        path.pop()\n",
    "    return False\n",
    "\n",
    "def print_solution(path):\n",
    "    if path:\n",
    "        print(\"Path to solve the maze: \", path)\n",
    "    else:\n",
    "        print(\"No solution found.\")\n",
    "\n",
    "# Test the function with a sample maze\n",
    "maze = [\n",
    "    [0, 1, 0, 0],\n",
    "    [0, 1, 0, 1],\n",
    "    [0, 0, 0, 0],\n",
    "    [1, 1, 1, 0]\n",
    "]\n",
    "path = []\n",
    "\n",
    "if solve_maze(maze, 0, 0, path):\n",
    "    print_solution(path)\n",
    "else:\n",
    "    print_solution([])"
   ]
  },
  {
   "cell_type": "markdown",
   "id": "111917c9",
   "metadata": {},
   "source": [
    "## 5. Problem Solving Techniques\n",
    "\n",
    "__5.1 Array and String Problems__\n",
    "\n",
    "    5.1.1 Find the duplicate number in an array of integers where each number appears once except one"
   ]
  },
  {
   "cell_type": "code",
   "execution_count": 12,
   "id": "63d363a3",
   "metadata": {},
   "outputs": [
    {
     "name": "stdout",
     "output_type": "stream",
     "text": [
      "Duplicate element: 2\n"
     ]
    }
   ],
   "source": [
    "def find_duplicate(arr):\n",
    "    seen = set()\n",
    "    for num in arr:\n",
    "        if num in seen:\n",
    "            return num\n",
    "        seen.add(num)\n",
    "    return None\n",
    "\n",
    "# Test the function\n",
    "arr = [1, 3, 4, 2, 2]\n",
    "print(f\"Duplicate element: {find_duplicate(arr)}\")"
   ]
  },
  {
   "cell_type": "markdown",
   "id": "42f0f742",
   "metadata": {},
   "source": [
    "__5.1.2 Implement Kadane’s algorithm to find the maximum subarray sum__"
   ]
  },
  {
   "cell_type": "code",
   "execution_count": 13,
   "id": "bb77ede3",
   "metadata": {},
   "outputs": [
    {
     "name": "stdout",
     "output_type": "stream",
     "text": [
      "Maximum subarray sum: 6\n"
     ]
    }
   ],
   "source": [
    "def kadane(arr):\n",
    "    max_so_far = max_ending_here = arr[0]\n",
    "    for num in arr[1:]:\n",
    "        max_ending_here = max(num, max_ending_here + num)\n",
    "        max_so_far = max(max_so_far, max_ending_here)\n",
    "    return max_so_far\n",
    "\n",
    "# Test the function\n",
    "arr = [-2, 1, -3, 4, -1, 2, 1, -5, 4]\n",
    "print(f\"Maximum subarray sum: {kadane(arr)}\")"
   ]
  },
  {
   "cell_type": "markdown",
   "id": "7ecf73ce",
   "metadata": {},
   "source": [
    "__5.1.3 Find the longest palindrome substring in a given string__"
   ]
  },
  {
   "cell_type": "code",
   "execution_count": 14,
   "id": "49818558",
   "metadata": {},
   "outputs": [
    {
     "name": "stdout",
     "output_type": "stream",
     "text": [
      "Longest Palindromic Substring: bab\n"
     ]
    }
   ],
   "source": [
    "def longest_palindrome(s):\n",
    "    def expand_around_center(left, right):\n",
    "        while left >= 0 and right < len(s) and s[left] == s[right]:\n",
    "            left -= 1\n",
    "            right += 1\n",
    "        return s[left + 1:right]\n",
    "\n",
    "    longest = \"\"\n",
    "    for i in range(len(s)):\n",
    "        odd_palindrome = expand_around_center(i, i)\n",
    "        even_palindrome = expand_around_center(i, i + 1)\n",
    "        \n",
    "        if len(odd_palindrome) > len(longest):\n",
    "            longest = odd_palindrome\n",
    "        if len(even_palindrome) > len(longest):\n",
    "            longest = even_palindrome\n",
    "    \n",
    "    return longest\n",
    "\n",
    "# Test the function\n",
    "s = \"babad\"\n",
    "print(f\"Longest Palindromic Substring: {longest_palindrome(s)}\")\n"
   ]
  },
  {
   "cell_type": "markdown",
   "id": "4efe1719",
   "metadata": {},
   "source": [
    "__5.1.4 Check if two strings are anagrams using sorting or hashing__"
   ]
  },
  {
   "cell_type": "code",
   "execution_count": 15,
   "id": "5dca5fb4",
   "metadata": {},
   "outputs": [
    {
     "name": "stdout",
     "output_type": "stream",
     "text": [
      "Are the strings anagrams? True\n"
     ]
    }
   ],
   "source": [
    "# Using sorting\n",
    "def are_anagrams(str1, str2):\n",
    "    return sorted(str1) == sorted(str2)\n",
    "\n",
    "# Test the function\n",
    "str1 = \"listen\"\n",
    "str2 = \"silent\"\n",
    "print(f\"Are the strings anagrams? {are_anagrams(str1, str2)}\")"
   ]
  },
  {
   "cell_type": "markdown",
   "id": "fa5f50e7",
   "metadata": {},
   "source": [
    "**5.2 Linked Lists and Stacks/Queues**\n",
    "\n",
    "    5.2.1 Implement a function to reverse a linked list"
   ]
  },
  {
   "cell_type": "code",
   "execution_count": 16,
   "id": "c39f48a5",
   "metadata": {},
   "outputs": [
    {
     "name": "stdout",
     "output_type": "stream",
     "text": [
      "Original linked list:\n",
      "1 -> 2 -> 3 -> 4 -> 5 -> None\n",
      "Reversed linked list:\n",
      "5 -> 4 -> 3 -> 2 -> 1 -> None\n"
     ]
    }
   ],
   "source": [
    "# Linked List Node class\n",
    "class Node:\n",
    "    def __init__(self, data):\n",
    "        self.data = data\n",
    "        self.next = None\n",
    "\n",
    "# Function to reverse a linked list\n",
    "def reverse_linked_list(head):\n",
    "    prev = None\n",
    "    current = head\n",
    "    while current:\n",
    "        next_node = current.next\n",
    "        current.next = prev\n",
    "        prev = current\n",
    "        current = next_node\n",
    "    return prev\n",
    "\n",
    "# Helper function to create and display linked list\n",
    "def create_linked_list(arr):\n",
    "    head = Node(arr[0])\n",
    "    current = head\n",
    "    for data in arr[1:]:\n",
    "        current.next = Node(data)\n",
    "        current = current.next\n",
    "    return head\n",
    "\n",
    "def print_linked_list(head):\n",
    "    current = head\n",
    "    while current:\n",
    "        print(current.data, end=\" -> \")\n",
    "        current = current.next\n",
    "    print(\"None\")\n",
    "\n",
    "# Test the function\n",
    "arr = [1, 2, 3, 4, 5]\n",
    "head = create_linked_list(arr)\n",
    "print(\"Original linked list:\")\n",
    "print_linked_list(head)\n",
    "\n",
    "reversed_head = reverse_linked_list(head)\n",
    "print(\"Reversed linked list:\")\n",
    "print_linked_list(reversed_head)"
   ]
  },
  {
   "cell_type": "markdown",
   "id": "7c794283",
   "metadata": {},
   "source": [
    "**5.2.2 Detect a cycle in a linked list using Floyd's cycle detection algorithm**"
   ]
  },
  {
   "cell_type": "code",
   "execution_count": 17,
   "id": "94d74f73",
   "metadata": {},
   "outputs": [
    {
     "name": "stdout",
     "output_type": "stream",
     "text": [
      "Does the linked list have a cycle? True\n"
     ]
    }
   ],
   "source": [
    "# Floyd's cycle detection algorithm (Tortoise and Hare)\n",
    "def has_cycle(head):\n",
    "    slow = fast = head\n",
    "    while fast and fast.next:\n",
    "        slow = slow.next\n",
    "        fast = fast.next.next\n",
    "        if slow == fast:\n",
    "            return True\n",
    "    return False\n",
    "\n",
    "# Test the function\n",
    "arr = [1, 2, 3, 4, 5]\n",
    "head = create_linked_list(arr)\n",
    "head.next.next.next.next.next = head.next.next  # Creating a cycle for testing\n",
    "\n",
    "print(f\"Does the linked list have a cycle? {has_cycle(head)}\")"
   ]
  },
  {
   "cell_type": "markdown",
   "id": "a9182abe",
   "metadata": {},
   "source": [
    "**5.2.3 Implement a stack using a list**"
   ]
  },
  {
   "cell_type": "code",
   "execution_count": 18,
   "id": "303a64d3",
   "metadata": {},
   "outputs": [
    {
     "name": "stdout",
     "output_type": "stream",
     "text": [
      "Top element: 30\n",
      "Popped element: 30\n",
      "Stack after pop: [10, 20]\n"
     ]
    }
   ],
   "source": [
    "class Stack:\n",
    "    def __init__(self):\n",
    "        self.stack = []\n",
    "    \n",
    "    def push(self, item):\n",
    "        self.stack.append(item)\n",
    "    \n",
    "    def pop(self):\n",
    "        if not self.is_empty():\n",
    "            return self.stack.pop()\n",
    "        return None\n",
    "    \n",
    "    def peek(self):\n",
    "        if not self.is_empty():\n",
    "            return self.stack[-1]\n",
    "        return None\n",
    "    \n",
    "    def is_empty(self):\n",
    "        return len(self.stack) == 0\n",
    "\n",
    "# Test the stack implementation\n",
    "stack = Stack()\n",
    "stack.push(10)\n",
    "stack.push(20)\n",
    "stack.push(30)\n",
    "print(f\"Top element: {stack.peek()}\")\n",
    "print(f\"Popped element: {stack.pop()}\")\n",
    "print(f\"Stack after pop: {stack.stack}\")"
   ]
  },
  {
   "cell_type": "markdown",
   "id": "3fa4599d",
   "metadata": {},
   "source": [
    "**5.2.4 Use a queue to solve the Breadth-First Search (BFS) traversal of a binary tree**"
   ]
  },
  {
   "cell_type": "code",
   "execution_count": 19,
   "id": "33aab4bc",
   "metadata": {},
   "outputs": [
    {
     "name": "stdout",
     "output_type": "stream",
     "text": [
      "BFS Traversal: [1, 2, 3, 4, 5]\n"
     ]
    }
   ],
   "source": [
    "from collections import deque\n",
    "\n",
    "# Binary Tree Node class\n",
    "class TreeNode:\n",
    "    def __init__(self, val=0, left=None, right=None):\n",
    "        self.val = val\n",
    "        self.left = left\n",
    "        self.right = right\n",
    "\n",
    "# BFS traversal using queue\n",
    "def bfs(root):\n",
    "    if not root:\n",
    "        return []\n",
    "    \n",
    "    queue = deque([root])\n",
    "    result = []\n",
    "    \n",
    "    while queue:\n",
    "        node = queue.popleft()\n",
    "        result.append(node.val)\n",
    "        \n",
    "        if node.left:\n",
    "            queue.append(node.left)\n",
    "        if node.right:\n",
    "            queue.append(node.right)\n",
    "    \n",
    "    return result\n",
    "\n",
    "# Test the BFS function\n",
    "root = TreeNode(1)\n",
    "root.left = TreeNode(2)\n",
    "root.right = TreeNode(3)\n",
    "root.left.left = TreeNode(4)\n",
    "root.left.right = TreeNode(5)\n",
    "\n",
    "print(f\"BFS Traversal: {bfs(root)}\")"
   ]
  }
 ],
 "metadata": {
  "kernelspec": {
   "display_name": "Python 3 (ipykernel)",
   "language": "python",
   "name": "python3"
  },
  "language_info": {
   "codemirror_mode": {
    "name": "ipython",
    "version": 3
   },
   "file_extension": ".py",
   "mimetype": "text/x-python",
   "name": "python",
   "nbconvert_exporter": "python",
   "pygments_lexer": "ipython3",
   "version": "3.9.18"
  }
 },
 "nbformat": 4,
 "nbformat_minor": 5
}
