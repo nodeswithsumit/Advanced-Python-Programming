{
 "cells": [
  {
   "cell_type": "markdown",
   "id": "05cf7e24",
   "metadata": {},
   "source": [
    "\n",
    "# Introduction to Recursion\n",
    "\n",
    "Recursion is a process in which a function calls itself in order to solve a problem. A recursive function has two main parts:\n",
    "\n",
    "1. **Base case:** The condition under which the function stops calling itself and returns a result.\n",
    "\n",
    "2. **Recursive case**:  The step where the function calls itself with modified arguments, progressively getting closer to the base case.\n",
    "\n",
    "### Example: Factorial of a number\n",
    "The factorial of a number `n` is the product of all positive integers less than or equal to `n`.\n",
    "\n",
    "\n",
    "```math\n",
    "n!=n×(n−1)×(n−2)×...×1\n",
    "```\n",
    "\n",
    "Mathematically, it's defined as:\n",
    "\n",
    "* 0!=1 (Base case)\n",
    "* n!=n×(n−1)! (Recursive case)"
   ]
  },
  {
   "cell_type": "code",
   "execution_count": 1,
   "id": "f18691b0",
   "metadata": {},
   "outputs": [
    {
     "name": "stdout",
     "output_type": "stream",
     "text": [
      "120\n"
     ]
    }
   ],
   "source": [
    "def factorial(n):\n",
    "    # Base case\n",
    "    if n == 0:\n",
    "        return 1\n",
    "    # Recursive case\n",
    "    else:\n",
    "        return n * factorial(n - 1)\n",
    "\n",
    "# Test the function\n",
    "print(factorial(5))  # Output: 120"
   ]
  },
  {
   "cell_type": "markdown",
   "id": "238f508f",
   "metadata": {},
   "source": [
    "**Explanation:**\n",
    "\n",
    "<code>factorial(5)</code> calls factorial(4), then factorial(3), and so on, until it reaches the base case factorial(0).\n",
    "At that point, it starts returning values and multiplying them as it unwinds the recursion stack.\n"
   ]
  },
  {
   "cell_type": "markdown",
   "id": "0050edf4",
   "metadata": {},
   "source": [
    "\n",
    "## Practical Examples of Recursion\n",
    "\n",
    "### 1. Sum of all Elements in a List\n",
    "\n",
    "Given a list of numbers, we want to calculate the sum of its elements using recursion.\n"
   ]
  },
  {
   "cell_type": "code",
   "execution_count": 2,
   "id": "5bb490df",
   "metadata": {},
   "outputs": [
    {
     "name": "stdout",
     "output_type": "stream",
     "text": [
      "15\n"
     ]
    }
   ],
   "source": [
    "def sum_of_elements(lst):\n",
    "    # Base case: empty list\n",
    "    if not lst:\n",
    "        return 0\n",
    "    # Recursive case\n",
    "    else:\n",
    "        return lst[0] + sum_of_elements(lst[1:])\n",
    "\n",
    "# Test the function\n",
    "print(sum_of_elements([1, 2, 3, 4, 5]))  # Output: 15"
   ]
  },
  {
   "cell_type": "markdown",
   "id": "bd56aaf6",
   "metadata": {},
   "source": [
    "\n",
    "### 2. Fibonacci Sequence\n",
    "The Fibonacci sequence is a series of numbers where each number is the sum of the two preceding ones, starting from 0 and 1:\n",
    "- `F(0) = 0`, `F(1) = 1`\n",
    "- `F(n) = F(n-1) + F(n-2)` for `n > 1`\n",
    "\n",
    "F(0)=0,F(1)=1,F(n)=F(n−1)+F(n−2)forn≥2\n"
   ]
  },
  {
   "cell_type": "code",
   "execution_count": 3,
   "id": "e488047a",
   "metadata": {},
   "outputs": [
    {
     "name": "stdout",
     "output_type": "stream",
     "text": [
      "8\n"
     ]
    }
   ],
   "source": [
    "def fibonacci(n):\n",
    "    # Base case\n",
    "    if n == 0:\n",
    "        return 0\n",
    "    elif n == 1:\n",
    "        return 1\n",
    "    # Recursive case\n",
    "    else:\n",
    "        return fibonacci(n - 1) + fibonacci(n - 2)\n",
    "\n",
    "# Test the function\n",
    "print(fibonacci(6))  # Output: 8"
   ]
  },
  {
   "cell_type": "markdown",
   "id": "eca5447a",
   "metadata": {},
   "source": [
    "\n",
    "# Introduction to Backtracking\n",
    "\n",
    "Backtracking is a problem-solving algorithm that incrementally builds candidates for the solution and abandons those candidates as soon as it determines they cannot possibly lead to a valid solution.\n",
    "\n",
    "Backtracking is often used to solve problems where there are multiple possible choices, and you need to explore them in a systematic way (e.g., generating permutations, solving puzzles).\n",
    "\n",
    "The idea is:\n",
    "\n",
    "* Make a choice.\n",
    "* Recurse to solve the subproblem with that choice.\n",
    "* If the solution is valid, continue.\n",
    "* If it’s not, undo the choice (backtrack) and try another option.\n",
    "\n",
    "### Example: Generating all subsets of a set\n"
   ]
  },
  {
   "cell_type": "code",
   "execution_count": null,
   "id": "d7579a84",
   "metadata": {},
   "outputs": [],
   "source": [
    "\n",
    "def generate_subsets(nums, index=0, current=[]):\n",
    "    if index == len(nums):\n",
    "        print(current)\n",
    "        return\n",
    "    generate_subsets(nums, index + 1, current + [nums[index]])\n",
    "    generate_subsets(nums, index + 1, current)\n",
    "\n",
    "generate_subsets([1, 2, 3])\n"
   ]
  },
  {
   "cell_type": "markdown",
   "id": "7c247c4f",
   "metadata": {},
   "source": [
    "\n",
    "## Practical Examples of Backtracking\n",
    "\n",
    "### 1. N-Queens Problem\n",
    "The N-Queens problem involves placing N queens on an N×N chessboard such that no two queens attack each other. The goal is to find all possible valid configurations."
   ]
  },
  {
   "cell_type": "code",
   "execution_count": 4,
   "id": "631af9ac",
   "metadata": {},
   "outputs": [
    {
     "name": "stdout",
     "output_type": "stream",
     "text": [
      "[1, 3, 0, 2]\n",
      "[2, 0, 3, 1]\n"
     ]
    }
   ],
   "source": [
    "def is_safe(board, row, col, N):\n",
    "    # Check column\n",
    "    for i in range(row):\n",
    "        if board[i] == col or \\\n",
    "           board[i] - i == col - row or \\\n",
    "           board[i] + i == col + row:\n",
    "            return False\n",
    "    return True\n",
    "\n",
    "def solve_n_queens(board, row, N):\n",
    "    # Base case: all queens are placed\n",
    "    if row == N:\n",
    "        print(board)\n",
    "        return True\n",
    "    \n",
    "    # Try placing queen in every column of the current row\n",
    "    for col in range(N):\n",
    "        if is_safe(board, row, col, N):\n",
    "            board[row] = col\n",
    "            solve_n_queens(board, row + 1, N)\n",
    "            # Backtrack\n",
    "            board[row] = -1\n",
    "\n",
    "# Test the function with 4-Queens\n",
    "N = 4\n",
    "board = [-1] * N  # -1 indicates that no queen is placed in that row\n",
    "solve_n_queens(board, 0, N)"
   ]
  },
  {
   "cell_type": "markdown",
   "id": "1f0b63e9",
   "metadata": {},
   "source": [
    "**Explanation:**\n",
    "\n",
    "* <code>solve_n_queens</code> tries to place a queen in each column of the current row, checks if it's safe, and recursively proceeds to place queens in subsequent rows.\n",
    "\n",
    "* If placing a queen leads to an invalid solution, it backtracks by removing the queen and trying the next column.\n"
   ]
  },
  {
   "cell_type": "markdown",
   "id": "4bfbd2ed",
   "metadata": {},
   "source": [
    "### 2. Subset Sum Problem\n",
    "\n",
    "Given a set of numbers, determine if there is a subset whose sum equals a given target. This is a classic example of backtracking.\n",
    "\n"
   ]
  },
  {
   "cell_type": "code",
   "execution_count": 5,
   "id": "faa37d38",
   "metadata": {},
   "outputs": [
    {
     "name": "stdout",
     "output_type": "stream",
     "text": [
      "True\n"
     ]
    }
   ],
   "source": [
    "def is_subset_sum(arr, n, target):\n",
    "    # Base case: target is 0\n",
    "    if target == 0:\n",
    "        return True\n",
    "    if n == 0:\n",
    "        return False\n",
    "    \n",
    "    # If the last element is greater than the target, ignore it\n",
    "    if arr[n-1] > target:\n",
    "        return is_subset_sum(arr, n-1, target)\n",
    "    \n",
    "    # Include the last element or exclude it\n",
    "    return is_subset_sum(arr, n-1, target) or \\\n",
    "           is_subset_sum(arr, n-1, target - arr[n-1])\n",
    "\n",
    "# Test the function\n",
    "arr = [3, 34, 4, 12, 5, 2]\n",
    "target = 9\n",
    "n = len(arr)\n",
    "print(is_subset_sum(arr, n, target))  # Output: True"
   ]
  },
  {
   "cell_type": "markdown",
   "id": "88b2a802",
   "metadata": {},
   "source": [
    "**Explanation:**\n",
    "* The function tries two options for each element:\n",
    "    * Include the element in the subset and reduce the target.\n",
    "    * Exclude the element and keep the target unchanged.\n",
    "* It recursively checks all combinations, and if any of them result in the target sum, it returns True.\n"
   ]
  },
  {
   "cell_type": "markdown",
   "id": "03d8a4bd",
   "metadata": {},
   "source": [
    "### 3. Print All Permutations of a String\n",
    "Given a string, print all possible permutations of it using recursion and backtracking."
   ]
  },
  {
   "cell_type": "code",
   "execution_count": 6,
   "id": "71ae344a",
   "metadata": {},
   "outputs": [],
   "source": [
    "def generate_permutations(s, index=0):\n",
    "    if index == len(s):\n",
    "        print(\"\".join(s))\n",
    "        return\n",
    "    \n",
    "    for i in range(index, len(s)):\n",
    "        s = list(s)\n",
    "        s[index], s[i] = s[i], s[index]  # Swap\n",
    "        generate_permutations(\"\".join(s), index + 1)\n",
    "        s = \"\".join(s)  # Backtrack"
   ]
  },
  {
   "cell_type": "markdown",
   "id": "9ed5ce0c",
   "metadata": {},
   "source": [
    "### 4. Solve Sudoku Puzzle Using Backtracking\n",
    "Write a function to solve a Sudoku puzzle using backtracking. The puzzle is a 9x9 grid where each cell contains a number or is empty (denoted by 0).\n",
    "\n"
   ]
  },
  {
   "cell_type": "code",
   "execution_count": 7,
   "id": "84900bb7",
   "metadata": {},
   "outputs": [
    {
     "name": "stdout",
     "output_type": "stream",
     "text": [
      "Sudoku puzzle solved:\n",
      "5 3 4 6 7 8 9 1 2\n",
      "6 7 2 1 9 5 3 4 8\n",
      "1 9 8 3 4 2 5 6 7\n",
      "8 5 9 7 6 1 4 2 3\n",
      "4 2 6 8 5 3 7 9 1\n",
      "7 1 3 9 2 4 8 5 6\n",
      "9 6 1 5 3 7 2 8 4\n",
      "2 8 7 4 1 9 6 3 5\n",
      "3 4 5 2 8 6 1 7 9\n"
     ]
    }
   ],
   "source": [
    "def is_valid(board, row, col, num):\n",
    "    # Check if `num` is in the current row\n",
    "    for i in range(9):\n",
    "        if board[row][i] == num:\n",
    "            return False\n",
    "    \n",
    "    # Check if `num` is in the current column\n",
    "    for i in range(9):\n",
    "        if board[i][col] == num:\n",
    "            return False\n",
    "    \n",
    "    # Check if `num` is in the current 3x3 subgrid\n",
    "    start_row = (row // 3) * 3\n",
    "    start_col = (col // 3) * 3\n",
    "    for i in range(3):\n",
    "        for j in range(3):\n",
    "            if board[start_row + i][start_col + j] == num:\n",
    "                return False\n",
    "    \n",
    "    return True\n",
    "\n",
    "def solve_sudoku(board):\n",
    "    # Find the next empty cell (represented by 0)\n",
    "    for row in range(9):\n",
    "        for col in range(9):\n",
    "            if board[row][col] == 0:\n",
    "                # Try numbers from 1 to 9\n",
    "                for num in range(1, 10):\n",
    "                    if is_valid(board, row, col, num):\n",
    "                        # Place the number in the cell\n",
    "                        board[row][col] = num\n",
    "                        \n",
    "                        # Recursively attempt to solve the rest of the board\n",
    "                        if solve_sudoku(board):\n",
    "                            return True\n",
    "                        \n",
    "                        # Backtrack: reset the cell if no solution is found\n",
    "                        board[row][col] = 0\n",
    "                \n",
    "                # If no valid number can be placed, return False\n",
    "                return False\n",
    "    \n",
    "    # If no empty cell is found, the board is solved\n",
    "    return True\n",
    "\n",
    "def print_board(board):\n",
    "    for row in board:\n",
    "        print(\" \".join(str(num) for num in row))\n",
    "\n",
    "# Example Sudoku puzzle (0 represents an empty cell)\n",
    "sudoku_board = [\n",
    "    [5, 3, 0, 0, 7, 0, 0, 0, 0],\n",
    "    [6, 0, 0, 1, 9, 5, 0, 0, 0],\n",
    "    [0, 9, 8, 0, 0, 0, 0, 6, 0],\n",
    "    [8, 0, 0, 0, 6, 0, 0, 0, 3],\n",
    "    [4, 0, 0, 8, 0, 3, 0, 0, 1],\n",
    "    [7, 0, 0, 0, 2, 0, 0, 0, 6],\n",
    "    [0, 6, 0, 0, 0, 0, 2, 8, 0],\n",
    "    [0, 0, 0, 4, 1, 9, 0, 0, 5],\n",
    "    [0, 0, 0, 0, 8, 0, 0, 7, 9]\n",
    "]\n",
    "\n",
    "# Solve the puzzle\n",
    "if solve_sudoku(sudoku_board):\n",
    "    print(\"Sudoku puzzle solved:\")\n",
    "    print_board(sudoku_board)\n",
    "else:\n",
    "    print(\"No solution exists.\")"
   ]
  },
  {
   "cell_type": "markdown",
   "id": "e59af8dc",
   "metadata": {},
   "source": [
    "#### How It Works:\n",
    "**Backtracking:**\n",
    "    * The function tries numbers in empty cells and checks if the move is valid using is_valid.\n",
    "\n",
    "    * If placing a number leads to a valid solution, it proceeds to fill the next empty cell.\n",
    "\n",
    "    * If no valid solution is found, it backtracks by removing the last number and trying the next possibility.\n",
    "\n",
    "**Efficiency:**\n",
    "\n",
    "    * Backtracking ensures that all possibilities are explored, but by pruning invalid solutions early, it efficiently narrows down the search space.\n",
    "\n",
    "**Time Complexity:**\n",
    "\n",
    "    * Worst Case: In the worst case, the time complexity is O(9^81), which is the maximum number of possibilities for a 9x9 Sudoku puzzle.\n",
    "\n",
    "    * Best Case: The algorithm solves the puzzle much faster in practice by pruning invalid solutions early using the backtracking technique."
   ]
  }
 ],
 "metadata": {
  "kernelspec": {
   "display_name": "Python 3 (ipykernel)",
   "language": "python",
   "name": "python3"
  },
  "language_info": {
   "codemirror_mode": {
    "name": "ipython",
    "version": 3
   },
   "file_extension": ".py",
   "mimetype": "text/x-python",
   "name": "python",
   "nbconvert_exporter": "python",
   "pygments_lexer": "ipython3",
   "version": "3.9.18"
  }
 },
 "nbformat": 4,
 "nbformat_minor": 5
}
