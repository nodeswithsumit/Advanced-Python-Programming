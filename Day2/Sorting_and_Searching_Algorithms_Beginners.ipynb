{
 "cells": [
  {
   "cell_type": "markdown",
   "id": "dd16cd24",
   "metadata": {},
   "source": [
    "\n",
    "# Sorting and Searching Algorithms for Beginners\n",
    "\n",
    "Sorting and searching are fundamental operations in computer science and programming. They are essential for organizing and retrieving data efficiently. \n",
    "This notebook introduces basic and efficient sorting and searching algorithms, their implementations in Python, and the types of data where they are most useful.\n"
   ]
  },
  {
   "cell_type": "markdown",
   "id": "f05626b4",
   "metadata": {},
   "source": [
    "\n",
    "## Why Sorting and Searching Are Important\n",
    "\n",
    "1. **Sorting** helps organize data in a specific order, which simplifies searching, analysis, and visualization.\n",
    "   - **Examples**: Sorting a list of names alphabetically or arranging numerical data in ascending order.\n",
    "\n",
    "2. **Searching** enables finding specific data within a collection.\n",
    "   - **Examples**: Looking up a contact in a phonebook or finding an element in a sorted array.\n",
    "\n",
    "Understanding these algorithms enhances performance in applications like databases, e-commerce websites, and search engines.\n"
   ]
  },
  {
   "cell_type": "code",
   "execution_count": null,
   "id": "332db257",
   "metadata": {},
   "outputs": [],
   "source": [
    "\n",
    "def bubble_sort(arr):\n",
    "    n = len(arr)\n",
    "    for i in range(n):\n",
    "        for j in range(0, n-i-1):\n",
    "            if arr[j] > arr[j+1]:\n",
    "                arr[j], arr[j+1] = arr[j+1], arr[j]\n",
    "    return arr\n",
    "\n",
    "# Example usage\n",
    "example = [64, 34, 25, 12, 22, 11, 90]\n",
    "print(\"Original List:\", example)\n",
    "print(\"Sorted List (Bubble Sort):\", bubble_sort(example))\n"
   ]
  },
  {
   "cell_type": "markdown",
   "id": "fc832b1a",
   "metadata": {},
   "source": [
    "\n",
    "### Bubble Sort\n",
    "\n",
    "Bubble Sort is a simple sorting algorithm that repeatedly steps through the list, compares adjacent elements, and swaps them if they are in the wrong order.\n",
    "\n",
    "**Characteristics**:\n",
    "- Best suited for small datasets or as a learning tool.\n",
    "- Time Complexity: O(n²) in the worst and average cases.\n",
    "- Space Complexity: O(1) (in-place sorting).\n",
    "\n",
    "**Example Use Case**: Sorting a small list of exam scores.\n"
   ]
  },
  {
   "cell_type": "code",
   "execution_count": null,
   "id": "47477bb6",
   "metadata": {},
   "outputs": [],
   "source": [
    "\n",
    "def selection_sort(arr):\n",
    "    for i in range(len(arr)):\n",
    "        min_idx = i\n",
    "        for j in range(i+1, len(arr)):\n",
    "            if arr[j] < arr[min_idx]:\n",
    "                min_idx = j\n",
    "        arr[i], arr[min_idx] = arr[min_idx], arr[i]\n",
    "    return arr\n",
    "\n",
    "# Example usage\n",
    "example = [64, 34, 25, 12, 22, 11, 90]\n",
    "print(\"Original List:\", example)\n",
    "print(\"Sorted List (Selection Sort):\", selection_sort(example))\n"
   ]
  },
  {
   "cell_type": "markdown",
   "id": "1567a080",
   "metadata": {},
   "source": [
    "\n",
    "### Selection Sort\n",
    "\n",
    "Selection Sort is an in-place comparison sorting algorithm. It divides the list into a sorted and unsorted part. \n",
    "At each step, the smallest (or largest) element is selected and swapped into the sorted part.\n",
    "\n",
    "**Characteristics**:\n",
    "- Time Complexity: O(n²) in the worst and average cases.\n",
    "- Space Complexity: O(1) (in-place sorting).\n",
    "- Best for small lists.\n",
    "\n",
    "**Example Use Case**: Sorting a list of students' names by length.\n"
   ]
  },
  {
   "cell_type": "code",
   "execution_count": null,
   "id": "95e4fe4d",
   "metadata": {},
   "outputs": [],
   "source": [
    "\n",
    "def insertion_sort(arr):\n",
    "    for i in range(1, len(arr)):\n",
    "        key = arr[i]\n",
    "        j = i - 1\n",
    "        while j >= 0 and key < arr[j]:\n",
    "            arr[j + 1] = arr[j]\n",
    "            j -= 1\n",
    "        arr[j + 1] = key\n",
    "    return arr\n",
    "\n",
    "# Example usage\n",
    "example = [64, 34, 25, 12, 22, 11, 90]\n",
    "print(\"Original List:\", example)\n",
    "print(\"Sorted List (Insertion Sort):\", insertion_sort(example))\n"
   ]
  },
  {
   "cell_type": "markdown",
   "id": "7aa9743a",
   "metadata": {},
   "source": [
    "\n",
    "### Insertion Sort\n",
    "\n",
    "Insertion Sort builds the final sorted array one item at a time by repeatedly picking the next element and inserting it into its correct position.\n",
    "It's efficient for small datasets or nearly sorted data.\n",
    "\n",
    "**Characteristics**:\n",
    "- Time Complexity: O(n²) in the worst and average cases.\n",
    "- Space Complexity: O(1) (in-place sorting).\n",
    "- Best for small or partially sorted data.\n",
    "\n",
    "**Example Use Case**: Sorting a list of dates.\n"
   ]
  },
  {
   "cell_type": "code",
   "execution_count": null,
   "id": "cdf86e0e",
   "metadata": {},
   "outputs": [],
   "source": [
    "\n",
    "def merge_sort(arr):\n",
    "    if len(arr) > 1:\n",
    "        mid = len(arr) // 2\n",
    "        left_half = arr[:mid]\n",
    "        right_half = arr[mid:]\n",
    "\n",
    "        merge_sort(left_half)\n",
    "        merge_sort(right_half)\n",
    "\n",
    "        i = j = k = 0\n",
    "\n",
    "        while i < len(left_half) and j < len(right_half):\n",
    "            if left_half[i] < right_half[j]:\n",
    "                arr[k] = left_half[i]\n",
    "                i += 1\n",
    "            else:\n",
    "                arr[k] = right_half[j]\n",
    "                j += 1\n",
    "            k += 1\n",
    "\n",
    "        while i < len(left_half):\n",
    "            arr[k] = left_half[i]\n",
    "            i += 1\n",
    "            k += 1\n",
    "\n",
    "        while j < len(right_half):\n",
    "            arr[k] = right_half[j]\n",
    "            j += 1\n",
    "            k += 1\n",
    "    return arr\n",
    "\n",
    "# Example usage\n",
    "example = [64, 34, 25, 12, 22, 11, 90]\n",
    "print(\"Original List:\", example)\n",
    "print(\"Sorted List (Merge Sort):\", merge_sort(example))\n"
   ]
  },
  {
   "cell_type": "markdown",
   "id": "013dd51b",
   "metadata": {},
   "source": [
    "\n",
    "### Merge Sort\n",
    "\n",
    "Merge Sort is a divide-and-conquer algorithm that splits the list into halves, sorts each half, and merges the sorted halves.\n",
    "It's very efficient for large datasets.\n",
    "\n",
    "**Characteristics**:\n",
    "- Time Complexity: O(n log n) in the best, average, and worst cases.\n",
    "- Space Complexity: O(n) due to extra space used for merging.\n",
    "- Best for large datasets.\n",
    "\n",
    "**Example Use Case**: Sorting large datasets like product inventories.\n"
   ]
  },
  {
   "cell_type": "code",
   "execution_count": null,
   "id": "3945486f",
   "metadata": {},
   "outputs": [],
   "source": [
    "\n",
    "def quick_sort(arr):\n",
    "    if len(arr) <= 1:\n",
    "        return arr\n",
    "    pivot = arr[0]\n",
    "    less_than_pivot = [x for x in arr[1:] if x <= pivot]\n",
    "    greater_than_pivot = [x for x in arr[1:] if x > pivot]\n",
    "    return quick_sort(less_than_pivot) + [pivot] + quick_sort(greater_than_pivot)\n",
    "\n",
    "# Example usage\n",
    "example = [64, 34, 25, 12, 22, 11, 90]\n",
    "print(\"Original List:\", example)\n",
    "print(\"Sorted List (Quick Sort):\", quick_sort(example))\n"
   ]
  },
  {
   "cell_type": "markdown",
   "id": "52493e2e",
   "metadata": {},
   "source": [
    "\n",
    "### Quick Sort\n",
    "\n",
    "Quick Sort is another divide-and-conquer algorithm, which selects a 'pivot' element and partitions the array into elements greater than and less than the pivot.\n",
    "It is generally faster than Merge Sort in practice due to smaller constant factors.\n",
    "\n",
    "**Characteristics**:\n",
    "- Time Complexity: O(n log n) on average, O(n²) in the worst case.\n",
    "- Space Complexity: O(log n) due to recursion stack.\n",
    "- Best for large datasets with efficient implementations.\n",
    "\n",
    "**Example Use Case**: Sorting datasets in a database query.\n"
   ]
  },
  {
   "cell_type": "code",
   "execution_count": null,
   "id": "4e7f6529",
   "metadata": {},
   "outputs": [],
   "source": [
    "\n",
    "def linear_search(arr, target):\n",
    "    for i in range(len(arr)):\n",
    "        if arr[i] == target:\n",
    "            return i  # Return the index of the element\n",
    "    return -1  # Return -1 if element is not found\n",
    "\n",
    "# Example usage\n",
    "example = [64, 34, 25, 12, 22, 11, 90]\n",
    "print(\"Element found at index:\", linear_search(example, 22))\n"
   ]
  },
  {
   "cell_type": "markdown",
   "id": "ecc609a9",
   "metadata": {},
   "source": [
    "\n",
    "### Linear Search\n",
    "\n",
    "Linear Search is the simplest searching algorithm. It checks each element in the list sequentially until the target is found or the list ends.\n",
    "\n",
    "**Characteristics**:\n",
    "- Time Complexity: O(n).\n",
    "- Space Complexity: O(1).\n",
    "- Best for unsorted data or small lists.\n",
    "\n",
    "**Example Use Case**: Searching for a product by ID in a list of items.\n"
   ]
  },
  {
   "cell_type": "code",
   "execution_count": null,
   "id": "289ab68e",
   "metadata": {},
   "outputs": [],
   "source": [
    "\n",
    "def binary_search(arr, target):\n",
    "    left, right = 0, len(arr) - 1\n",
    "    while left <= right:\n",
    "        mid = (left + right) // 2\n",
    "        if arr[mid] == target:\n",
    "            return mid  # Return the index of the element\n",
    "        elif arr[mid] < target:\n",
    "            left = mid + 1\n",
    "        else:\n",
    "            right = mid - 1\n",
    "    return -1  # Return -1 if element is not found\n",
    "\n",
    "# Example usage\n",
    "example = [11, 12, 22, 25, 34, 64, 90]  # Must be sorted for binary search\n",
    "print(\"Element found at index:\", binary_search(example, 22))\n"
   ]
  },
  {
   "cell_type": "markdown",
   "id": "d7365fc6",
   "metadata": {},
   "source": [
    "\n",
    "### Binary Search\n",
    "\n",
    "Binary Search is an efficient search algorithm for sorted lists. It repeatedly divides the search interval in half, comparing the target with the middle element.\n",
    "\n",
    "**Characteristics**:\n",
    "- Time Complexity: O(log n).\n",
    "- Space Complexity: O(1).\n",
    "- Best for sorted data.\n",
    "\n",
    "**Example Use Case**: Searching for a student by their ID in a sorted database.\n"
   ]
  },
  {
   "cell_type": "markdown",
   "id": "a29a64ae",
   "metadata": {},
   "source": [
    "\n",
    "## Real-Life Use Cases\n",
    "\n",
    "1. **Sorting**:\n",
    "   - **Merge Sort and Quick Sort**: Sorting large datasets in databases, e-commerce websites, or stock market analysis.\n",
    "   - **Bubble Sort and Insertion Sort**: Sorting small datasets, like phone numbers or a list of items to display.\n",
    "\n",
    "2. **Searching**:\n",
    "   - **Linear Search**: Finding a name in a small list or unsorted data.\n",
    "   - **Binary Search**: Searching for an element in a sorted list, such as looking up a contact in a phonebook or searching for a product in a sorted inventory list.\n"
   ]
  }
 ],
 "metadata": {
  "kernelspec": {
   "display_name": "Python 3 (ipykernel)",
   "language": "python",
   "name": "python3"
  },
  "language_info": {
   "codemirror_mode": {
    "name": "ipython",
    "version": 3
   },
   "file_extension": ".py",
   "mimetype": "text/x-python",
   "name": "python",
   "nbconvert_exporter": "python",
   "pygments_lexer": "ipython3",
   "version": "3.9.18"
  }
 },
 "nbformat": 4,
 "nbformat_minor": 5
}
