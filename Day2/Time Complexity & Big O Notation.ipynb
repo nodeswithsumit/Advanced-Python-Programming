{
 "cells": [
  {
   "cell_type": "markdown",
   "id": "8967129d",
   "metadata": {},
   "source": [
    "Time complexity and Big O notation are key concepts in computer science that help us analyze the efficiency of algorithms."
   ]
  },
  {
   "cell_type": "markdown",
   "id": "5da2d853",
   "metadata": {},
   "source": [
    "# What is Time Complexity?\n",
    "Time complexity is a way to describe how the execution time of an algorithm changes as the size of the input grows. It helps us estimate the performance of an algorithm for large inputs.\n",
    "\n",
    "# Big O Notation\n",
    "\n",
    "Big O notation expresses the **upper bound** of an algorithm's time complexity. It focuses on the **worst-case scenario** and ignores constant factors or less significant terms. Here are some common examples:\n",
    "\n",
    "- **O(1):** Constant time  \n",
    "  The execution time does not depend on the input size.\n",
    "\n",
    "- **O(log n):** Logarithmic time  \n",
    "  The execution time increases logarithmically as the input size grows.\n",
    "\n",
    "- **O(n):** Linear time  \n",
    "  The execution time grows linearly with the input size.\n",
    "\n",
    "- **O(n²):** Quadratic time  \n",
    "  The execution time is proportional to the square of the input size.\n"
   ]
  },
  {
   "cell_type": "markdown",
   "id": "a65765aa",
   "metadata": {},
   "source": [
    "## 1. **Constant Time 𝑂(1):**\n",
    "\n",
    "An algorithm that always executes in the same amount of time, regardless of input size."
   ]
  },
  {
   "cell_type": "code",
   "execution_count": 1,
   "id": "c6d52d6c",
   "metadata": {},
   "outputs": [
    {
     "name": "stdout",
     "output_type": "stream",
     "text": [
      "1\n"
     ]
    }
   ],
   "source": [
    "def get_first_element(lst):\n",
    "    return lst[0]  # Always takes the same time, no matter the size of lst\n",
    "\n",
    "print(get_first_element([1, 2, 3, 4, 5]))  # Output: 1"
   ]
  },
  {
   "cell_type": "markdown",
   "id": "db8ef270",
   "metadata": {},
   "source": [
    "## 2. Linear Time O(n):\n",
    "An algorithm where the execution time grows linearly with the input size."
   ]
  },
  {
   "cell_type": "code",
   "execution_count": 2,
   "id": "68c0e01b",
   "metadata": {},
   "outputs": [
    {
     "name": "stdout",
     "output_type": "stream",
     "text": [
      "1\n",
      "2\n",
      "3\n",
      "4\n",
      "5\n"
     ]
    }
   ],
   "source": [
    "def print_elements(lst):\n",
    "    for item in lst:\n",
    "        print(item)  # Iterates over all elements, so time grows with input size\n",
    "\n",
    "print_elements([1, 2, 3, 4, 5])\n"
   ]
  },
  {
   "cell_type": "markdown",
   "id": "d643d7e1",
   "metadata": {},
   "source": [
    "## 3. Quadratic Time O(n²)\n",
    "An algorithm where the execution time is proportional to the square of the input size."
   ]
  },
  {
   "cell_type": "code",
   "execution_count": 3,
   "id": "fb3aca6c",
   "metadata": {},
   "outputs": [
    {
     "name": "stdout",
     "output_type": "stream",
     "text": [
      "1 1\n",
      "1 2\n",
      "1 3\n",
      "2 1\n",
      "2 2\n",
      "2 3\n",
      "3 1\n",
      "3 2\n",
      "3 3\n"
     ]
    }
   ],
   "source": [
    "def print_pairs(lst):\n",
    "    for i in lst:\n",
    "        for j in lst:\n",
    "            print(i, j)  # Nested loops cause quadratic growth\n",
    "\n",
    "print_pairs([1, 2, 3])"
   ]
  },
  {
   "cell_type": "markdown",
   "id": "95868851",
   "metadata": {},
   "source": [
    "## 4. Logarithmic Time O(logn):\n",
    "Algorithms that reduce the problem size by half each time."
   ]
  },
  {
   "cell_type": "code",
   "execution_count": 4,
   "id": "19133a3a",
   "metadata": {},
   "outputs": [
    {
     "name": "stdout",
     "output_type": "stream",
     "text": [
      "3\n"
     ]
    }
   ],
   "source": [
    "def binary_search(lst, target):\n",
    "    low, high = 0, len(lst) - 1\n",
    "    while low <= high:\n",
    "        mid = (low + high) // 2\n",
    "        if lst[mid] == target:\n",
    "            return mid\n",
    "        elif lst[mid] < target:\n",
    "            low = mid + 1\n",
    "        else:\n",
    "            high = mid - 1\n",
    "    return -1\n",
    "\n",
    "sorted_list = [1, 3, 5, 7, 9]\n",
    "print(binary_search(sorted_list, 7))  # Output: 3"
   ]
  },
  {
   "cell_type": "markdown",
   "id": "138c985c",
   "metadata": {},
   "source": [
    "## Comparing Big O in Practice\n",
    "\n",
    "Here's how the execution time changes for different time complexities:\n",
    "\n",
    "| Input Size (n) | O(1)      | O(log n)   | O(n)       | O(n²)         |\n",
    "|----------------|-----------|------------|------------|---------------|\n",
    "| 10             | 1 step    | ~3 steps   | 10 steps   | 100 steps     |\n",
    "| 100            | 1 step    | ~7 steps   | 100 steps  | 10,000 steps  |\n",
    "| 1,000          | 1 step    | ~10 steps  | 1,000 steps| 1,000,000 steps |\n"
   ]
  },
  {
   "cell_type": "markdown",
   "id": "c02cfe89",
   "metadata": {},
   "source": [
    "### Key Takeaways\n",
    "1. Always aim for lower time complexity for efficiency.\n",
    "2. Big O helps estimate scalability but doesn't reflect actual execution time.\n",
    "3. Practice analyzing algorithms to become proficient."
   ]
  },
  {
   "cell_type": "markdown",
   "id": "00078ac4",
   "metadata": {},
   "source": [
    "The practical usage of time complexity and Big O notation lies in designing and analyzing efficient algorithms. Here are some key applications:\n",
    "\n",
    "## 1. Performance Analysis\n",
    "Big O notation helps estimate how an algorithm performs as input size increases. This is critical for:\n",
    "\n",
    "1. Scaling applications: Ensuring algorithms can handle large datasets efficiently.\n",
    "2. Predicting execution time: Understanding how code will behave in the worst-case scenario.\n",
    "\n",
    "For example:\n",
    "\n",
    "* Choosing binary search (O(log n)) instead of a linear search (O(n)) for searching in sorted data.\n",
    "\n",
    "## 2. Algorithm Comparison\n",
    "Developers use Big O to compare the efficiency of different algorithms for the same problem.\n",
    "\n",
    "Example:\n",
    "\n",
    "* For sorting, Merge Sort (O(n log n)) is generally faster than Bubble Sort (O(n²)) for large datasets.\n",
    "\n",
    "## 3. Optimizing Code\n",
    "Understanding time complexity helps identify bottlenecks in code. Developers focus on:\n",
    "\n",
    "* Reducing nested loops: Transitioning from O(n²) to O(n log n) or O(n).\n",
    "\n",
    "* Using efficient data structures: For example, using hash tables for O(1) lookups instead of arrays for O(n) lookups.\n",
    "\n",
    "## 4. Handling Real-World Constraints\n",
    "In resource-constrained environments (e.g., embedded systems or mobile apps), algorithms with lower time complexity are essential to save:\n",
    "\n",
    "* Processing power\n",
    "* Memory usage\n",
    "* Energy consumption\n",
    "\n",
    "## 5. System Design and Scalability\n",
    "When designing systems, choosing efficient algorithms ensures scalability as user demand grows. Example:\n",
    "\n",
    "* A social media platform with billions of users must use algorithms like hashing (O(1)) for user authentication instead of linear searches.\n",
    "\n",
    "## 6. Ensuring Feasibility\n",
    "Time complexity analysis determines whether a solution is practical.\n",
    "\n",
    "For instance, an algorithm with O(n!) might work for n=20.\n",
    "\n",
    "## 7. Interview Preparation\n",
    "Big O is a fundamental topic in technical interviews. Employers use it to evaluate a candidate’s understanding of algorithm efficiency.\n",
    "\n",
    "**Practical Example** \n",
    "\n",
    "Imagine you're working on a shopping app:\n",
    "\n",
    "To search for a product in a sorted list, you might use Binary Search (O(log n)) instead of Linear Search (O(n)).\n",
    "For frequent product recommendations, a cache (O(1) access) using a hash map is faster than re-computing recommendations every time.\n"
   ]
  },
  {
   "cell_type": "code",
   "execution_count": null,
   "id": "f4865a19",
   "metadata": {},
   "outputs": [],
   "source": []
  }
 ],
 "metadata": {
  "kernelspec": {
   "display_name": "Python 3 (ipykernel)",
   "language": "python",
   "name": "python3"
  },
  "language_info": {
   "codemirror_mode": {
    "name": "ipython",
    "version": 3
   },
   "file_extension": ".py",
   "mimetype": "text/x-python",
   "name": "python",
   "nbconvert_exporter": "python",
   "pygments_lexer": "ipython3",
   "version": "3.9.18"
  }
 },
 "nbformat": 4,
 "nbformat_minor": 5
}
