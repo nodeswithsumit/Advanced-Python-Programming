{
  "nbformat": 4,
  "nbformat_minor": 0,
  "metadata": {
    "colab": {
      "provenance": [],
      "authorship_tag": "ABX9TyMyuyRQ+hfDuhxsg59yq3CS",
      "include_colab_link": true
    },
    "kernelspec": {
      "name": "python3",
      "display_name": "Python 3"
    },
    "language_info": {
      "name": "python"
    }
  },
  "cells": [
    {
      "cell_type": "markdown",
      "metadata": {
        "id": "view-in-github",
        "colab_type": "text"
      },
      "source": [
        "<a href=\"https://colab.research.google.com/github/nodeswithsumit/Advanced-Python-Programming/blob/main/Day_1_Advanced_Data_Structures.ipynb\" target=\"_parent\"><img src=\"https://colab.research.google.com/assets/colab-badge.svg\" alt=\"Open In Colab\"/></a>"
      ]
    },
    {
      "cell_type": "markdown",
      "source": [
        "<img src='https://ice-digital.com/home/images/capture.jpg' width='300' height='100' align='center'><br>\n",
        "\n",
        "\n",
        "_______\n",
        "# Practice Practical Questions\n",
        "\n",
        "  Estimated time needed: **4** Hours\n",
        "\n",
        "  ## Objectives\n",
        "\n",
        "  After completing this lab you will have a good understanding in:\n",
        "\n",
        "  *   Lists, Tuples, Sets, Dictionaries\n",
        "  *   String Methods, Pattern Matching\n",
        "  *   Common String Challenges\n",
        "\n",
        "  *   File Handling Basics\n",
        "  *   Handling Large Files\n",
        "\n"
      ],
      "metadata": {
        "id": "uqTl9bPprCOW"
      }
    },
    {
      "cell_type": "markdown",
      "source": [
        "# Morning Sessions"
      ],
      "metadata": {
        "id": "o4x2kwBgr1po"
      }
    },
    {
      "cell_type": "markdown",
      "source": [
        "### Write a program to create a list of numbers from 1 to 10.\n"
      ],
      "metadata": {
        "id": "_uhMWSytr_5c"
      }
    },
    {
      "cell_type": "code",
      "execution_count": 1,
      "metadata": {
        "id": "XfIZSeV6q9Ej"
      },
      "outputs": [],
      "source": [
        "# Create a list of numbers from 1 to 10\n",
        "numbers = list(range(1, 11))"
      ]
    },
    {
      "cell_type": "code",
      "source": [
        "# Print the list\n",
        "print(\"List of numbers from 1 to 10:\", numbers)"
      ],
      "metadata": {
        "colab": {
          "base_uri": "https://localhost:8080/"
        },
        "id": "B1SLJw5Pypfi",
        "outputId": "01118c97-1f90-4b31-8e82-82e682bfb9e9"
      },
      "execution_count": 2,
      "outputs": [
        {
          "output_type": "stream",
          "name": "stdout",
          "text": [
            "List of numbers from 1 to 10: [1, 2, 3, 4, 5, 6, 7, 8, 9, 10]\n"
          ]
        }
      ]
    },
    {
      "cell_type": "markdown",
      "source": [
        "b. Remove the 5th element, add 15 at the end, and reverse the list."
      ],
      "metadata": {
        "id": "_jrCzjmzse7U"
      }
    },
    {
      "cell_type": "code",
      "source": [
        "# Remove the 5th element (index 4, as indexing starts from 0)\n",
        "numbers.pop(4)"
      ],
      "metadata": {
        "colab": {
          "base_uri": "https://localhost:8080/"
        },
        "id": "aa-xS1C9sYNq",
        "outputId": "fc0aea4e-877d-48ec-c107-a7387b1b1280"
      },
      "execution_count": 3,
      "outputs": [
        {
          "output_type": "execute_result",
          "data": {
            "text/plain": [
              "5"
            ]
          },
          "metadata": {},
          "execution_count": 3
        }
      ]
    },
    {
      "cell_type": "code",
      "source": [
        "# Add 15 at the end\n",
        "numbers.append(15)"
      ],
      "metadata": {
        "id": "D2aZokdjysl_"
      },
      "execution_count": 4,
      "outputs": []
    },
    {
      "cell_type": "code",
      "source": [
        "# Reverse the list\n",
        "numbers.reverse()"
      ],
      "metadata": {
        "id": "EW9m7IcbyuyY"
      },
      "execution_count": 5,
      "outputs": []
    },
    {
      "cell_type": "code",
      "source": [
        "# Print the updated list\n",
        "print(\"Updated list:\", numbers)"
      ],
      "metadata": {
        "colab": {
          "base_uri": "https://localhost:8080/"
        },
        "id": "pQbAkOfJywsj",
        "outputId": "0d268c7f-8e0e-4ae8-8073-dbb1dbda5121"
      },
      "execution_count": 6,
      "outputs": [
        {
          "output_type": "stream",
          "name": "stdout",
          "text": [
            "Updated list: [15, 10, 9, 8, 7, 6, 4, 3, 2, 1]\n"
          ]
        }
      ]
    },
    {
      "cell_type": "markdown",
      "source": [
        "### Create a list of squares of even numbers from 1 to 20 using list comprehension."
      ],
      "metadata": {
        "id": "I2UBCHuWs5_b"
      }
    },
    {
      "cell_type": "code",
      "source": [
        "# Create a list of squares of even numbers from 1 to 20\n",
        "squares_of_even = [x**2 for x in range(1, 21) if x % 2 == 0]\n",
        "\n",
        "# Print the list\n",
        "print(\"Squares of even numbers from 1 to 20:\", squares_of_even)"
      ],
      "metadata": {
        "colab": {
          "base_uri": "https://localhost:8080/"
        },
        "id": "e5gEqhq9v28J",
        "outputId": "07f0e00a-6335-4d1b-e5ef-bf77a8c5d54a"
      },
      "execution_count": 7,
      "outputs": [
        {
          "output_type": "stream",
          "name": "stdout",
          "text": [
            "Squares of even numbers from 1 to 20: [4, 16, 36, 64, 100, 144, 196, 256, 324, 400]\n"
          ]
        }
      ]
    },
    {
      "cell_type": "markdown",
      "source": [
        "### Create two sets of numbers. Perform union, intersection, and difference operations on them."
      ],
      "metadata": {
        "id": "ASjEngcjwAJb"
      }
    },
    {
      "cell_type": "code",
      "source": [
        "# Define two sets of numbers\n",
        "set_a = {3, 2, 3, 1, 5}\n",
        "set_b = {14, -5, 6, 0, 8}"
      ],
      "metadata": {
        "id": "Oh_KbgM3wF6v"
      },
      "execution_count": 12,
      "outputs": []
    },
    {
      "cell_type": "code",
      "source": [
        "print(\"Set A : \", set_a)\n",
        "print(\"Set B : \", set_b)"
      ],
      "metadata": {
        "colab": {
          "base_uri": "https://localhost:8080/"
        },
        "id": "-atbgLCkKs1k",
        "outputId": "15fcdca4-2610-42c7-f715-eb7e8ad11438"
      },
      "execution_count": 13,
      "outputs": [
        {
          "output_type": "stream",
          "name": "stdout",
          "text": [
            "Set A :  {1, 2, 3, 5}\n",
            "Set B :  {0, 6, 8, -5, 14}\n"
          ]
        }
      ]
    },
    {
      "cell_type": "code",
      "source": [
        "# Perform union\n",
        "union_result = set_a.union(set_b)"
      ],
      "metadata": {
        "id": "BRF8Bofgy2VR"
      },
      "execution_count": 14,
      "outputs": []
    },
    {
      "cell_type": "code",
      "source": [
        "# Perform intersection\n",
        "intersection_result = set_a.intersection(set_b)"
      ],
      "metadata": {
        "id": "ZcRD0q4gy4RM"
      },
      "execution_count": 15,
      "outputs": []
    },
    {
      "cell_type": "code",
      "source": [
        "# Perform difference (elements in set_a but not in set_b)\n",
        "difference_result = set_a.difference(set_b)"
      ],
      "metadata": {
        "id": "Ao7S0caNy6jR"
      },
      "execution_count": 16,
      "outputs": []
    },
    {
      "cell_type": "code",
      "source": [
        "# Print the results\n",
        "print(\"Union:\", union_result)\n",
        "print(\"Intersection:\", intersection_result)\n",
        "print(\"Difference (A - B):\", difference_result)"
      ],
      "metadata": {
        "colab": {
          "base_uri": "https://localhost:8080/"
        },
        "id": "poJ9Qp-oy9AV",
        "outputId": "d331cc42-3b5e-462e-9cf3-9f4f17131218"
      },
      "execution_count": 17,
      "outputs": [
        {
          "output_type": "stream",
          "name": "stdout",
          "text": [
            "Union: {0, 1, 2, 3, 5, 6, 8, 14, -5}\n",
            "Intersection: set()\n",
            "Difference (A - B): {1, 2, 3, 5}\n"
          ]
        }
      ]
    },
    {
      "cell_type": "markdown",
      "source": [
        "### Demonstrate the immutability of frozen sets with an example."
      ],
      "metadata": {
        "id": "WgNsTBChwRHU"
      }
    },
    {
      "cell_type": "code",
      "source": [
        "# Create a normal set and a frozenset\n",
        "normal_set = {1, 2, 3}\n",
        "frozen_set = frozenset([4, 5, 6])"
      ],
      "metadata": {
        "id": "xylrL0tEwR0T"
      },
      "execution_count": 18,
      "outputs": []
    },
    {
      "cell_type": "code",
      "source": [
        "# Try modifying the normal set\n",
        "normal_set.add(4)  # This will work\n",
        "print(\"Normal set after adding an element:\", normal_set)"
      ],
      "metadata": {
        "colab": {
          "base_uri": "https://localhost:8080/"
        },
        "id": "dln7MnzBzA52",
        "outputId": "f9aa4eeb-1390-43a1-de5a-a25e0055ec00"
      },
      "execution_count": 19,
      "outputs": [
        {
          "output_type": "stream",
          "name": "stdout",
          "text": [
            "Normal set after adding an element: {1, 2, 3, 4}\n"
          ]
        }
      ]
    },
    {
      "cell_type": "code",
      "source": [
        "# Try modifying the frozenset\n",
        "try:\n",
        "    frozen_set.add(7)  # This will raise an AttributeError\n",
        "except AttributeError as e:\n",
        "    print(\"Error:\", e)"
      ],
      "metadata": {
        "colab": {
          "base_uri": "https://localhost:8080/"
        },
        "id": "kVn3MGstzDlf",
        "outputId": "6c523a63-22b5-4e63-83a1-93c7e67461f8"
      },
      "execution_count": 20,
      "outputs": [
        {
          "output_type": "stream",
          "name": "stdout",
          "text": [
            "Error: 'frozenset' object has no attribute 'add'\n"
          ]
        }
      ]
    },
    {
      "cell_type": "code",
      "source": [
        "# Demonstrating that frozensets are immutable\n",
        "print(\"Frozen set remains unchanged:\", frozen_set)"
      ],
      "metadata": {
        "colab": {
          "base_uri": "https://localhost:8080/"
        },
        "id": "uMRW342RzFjE",
        "outputId": "9a2757f0-c0c5-46a3-dd6f-a5d7643a92e0"
      },
      "execution_count": 21,
      "outputs": [
        {
          "output_type": "stream",
          "name": "stdout",
          "text": [
            "Frozen set remains unchanged: frozenset({4, 5, 6})\n"
          ]
        }
      ]
    },
    {
      "cell_type": "markdown",
      "source": [
        "**Explanation:**\n",
        "\n",
        "* Normal sets (set) are mutable, so methods like add can be used to modify them.\n",
        "\n",
        "* Frozen sets (frozenset) are immutable, meaning no elements can be added, removed, or changed after creation. Attempting to modify a frozenset raises an AttributeError."
      ],
      "metadata": {
        "id": "8-OGb_qTwYB0"
      }
    },
    {
      "cell_type": "markdown",
      "source": [
        "### Write a program to pack three strings into a tuple and unpack them into individual variables."
      ],
      "metadata": {
        "id": "RAuIzzWmwnXu"
      }
    },
    {
      "cell_type": "code",
      "source": [
        "# Pack three strings into a tuple\n",
        "string_tuple = (\"Python\", \"Programming\", \"Lab\")\n",
        "\n",
        "# Unpack the tuple into individual variables\n",
        "str1, str2, str3 = string_tuple\n",
        "\n",
        "# Print the unpacked variables\n",
        "print(\"First string:\", str1)\n",
        "print(\"Second string:\", str2)\n",
        "print(\"Third string:\", str3)"
      ],
      "metadata": {
        "colab": {
          "base_uri": "https://localhost:8080/"
        },
        "id": "tqyJZht-wqqz",
        "outputId": "13703e05-fc9c-43fa-d2d9-ec5259498b06"
      },
      "execution_count": 22,
      "outputs": [
        {
          "output_type": "stream",
          "name": "stdout",
          "text": [
            "First string: Python\n",
            "Second string: Programming\n",
            "Third string: Lab\n"
          ]
        }
      ]
    },
    {
      "cell_type": "markdown",
      "source": [
        "**Explanation:**\n",
        "\n",
        "* Packing: The three strings are combined into a single tuple string_tuple.\n",
        "Unpacking: The tuple is unpacked into three separate variables (str1, str2, str3).\n",
        "\n",
        "* This demonstrates Python's ability to handle tuples for grouping and distributing data."
      ],
      "metadata": {
        "id": "GaKEGo9Tw0XQ"
      }
    },
    {
      "cell_type": "markdown",
      "source": [
        "### Demonstrate tuple slicing with an example."
      ],
      "metadata": {
        "id": "DYlzTPYPxI_k"
      }
    },
    {
      "cell_type": "code",
      "source": [
        "# Create a tuple\n",
        "my_tuple = (10, 20, 30, 40, 50, 60, 70, 80)\n",
        "\n",
        "# Slice the tuple\n",
        "slice1 = my_tuple[1:5]   # Elements from index 1 to 4"
      ],
      "metadata": {
        "id": "kpfKTEgvw3-K"
      },
      "execution_count": 23,
      "outputs": []
    },
    {
      "cell_type": "code",
      "source": [
        "slice2 = my_tuple[:4]    # Elements from the beginning to index 3"
      ],
      "metadata": {
        "id": "L42PNosgygBx"
      },
      "execution_count": 24,
      "outputs": []
    },
    {
      "cell_type": "code",
      "source": [
        "slice3 = my_tuple[3:]    # Elements from index 3 to the end"
      ],
      "metadata": {
        "id": "Bw_k5NcUyf_d"
      },
      "execution_count": 25,
      "outputs": []
    },
    {
      "cell_type": "code",
      "source": [
        "# Print the slices\n",
        "print(\"Original tuple:\", my_tuple)\n",
        "print(\"Slice from index 1 to 4:\", slice1)\n",
        "print(\"Slice from start to index 3:\", slice2)"
      ],
      "metadata": {
        "colab": {
          "base_uri": "https://localhost:8080/"
        },
        "id": "kgW1TdMMLXZh",
        "outputId": "7ab8861d-066c-4414-bd5a-a6075f883973"
      },
      "execution_count": 29,
      "outputs": [
        {
          "output_type": "stream",
          "name": "stdout",
          "text": [
            "Original tuple: (10, 20, 30, 40, 50, 60, 70, 80)\n",
            "Slice from index 1 to 4: (20, 30, 40, 50)\n",
            "Slice from start to index 3: (10, 20, 30, 40)\n"
          ]
        }
      ]
    },
    {
      "cell_type": "code",
      "source": [
        "slice4 = my_tuple[::2]   # Every second element"
      ],
      "metadata": {
        "id": "fLitYU54yf6P"
      },
      "execution_count": 26,
      "outputs": []
    },
    {
      "cell_type": "code",
      "source": [
        "slice5 = my_tuple[::-1]  # Reversed tuple"
      ],
      "metadata": {
        "id": "0untI1Kvyf1U"
      },
      "execution_count": 27,
      "outputs": []
    },
    {
      "cell_type": "code",
      "source": [
        "# Print the slices\n",
        "print(\"Slice from index 3 to end:\", slice3)\n",
        "print(\"Every second element:\", slice4)\n",
        "print(\"Reversed tuple:\", slice5)"
      ],
      "metadata": {
        "colab": {
          "base_uri": "https://localhost:8080/"
        },
        "id": "KLk-ANeTyfwS",
        "outputId": "fb7ae508-0e96-4c8b-f71e-8c9fbd435cfd"
      },
      "execution_count": 30,
      "outputs": [
        {
          "output_type": "stream",
          "name": "stdout",
          "text": [
            "Slice from index 3 to end: (40, 50, 60, 70, 80)\n",
            "Every second element: (10, 30, 50, 70)\n",
            "Reversed tuple: (80, 70, 60, 50, 40, 30, 20, 10)\n"
          ]
        }
      ]
    },
    {
      "cell_type": "markdown",
      "source": [
        "***Explanation:***\n",
        "\n",
        "* Basic slicing: Specify start:stop to get elements from start to stop-1.\n",
        "Omitted indices: Leaving start or stop blank assumes the start or end of the tuple.\n",
        "\n",
        "* Step slicing: Use start:stop:step for stepping through the tuple.\n",
        "Reversing: A step of -1 reverses the tuple."
      ],
      "metadata": {
        "id": "VcOrRYvuxMw-"
      }
    },
    {
      "cell_type": "markdown",
      "source": [
        "### Create a dictionary to store student marks in three subjects. Add, modify, and delete entries."
      ],
      "metadata": {
        "id": "urauY6f1x0Cm"
      }
    },
    {
      "cell_type": "code",
      "source": [
        "# Create a dictionary to store student marks\n",
        "student_marks = {\n",
        "    \"Emma\": {\"Math\": 88, \"Science\": 92, \"English\": 85},\n",
        "    \"Liam\": {\"Math\": 76, \"Science\": 81, \"English\": 79},\n",
        "    \"Olivia\": {\"Math\": 91, \"Science\": 89, \"English\": 94}\n",
        "}"
      ],
      "metadata": {
        "id": "SkuUZEVdxSgX"
      },
      "execution_count": 31,
      "outputs": []
    },
    {
      "cell_type": "code",
      "source": [
        "# Add a new student entry\n",
        "student_marks[\"Noah\"] = {\"Math\": 84, \"Science\": 87, \"English\": 90}"
      ],
      "metadata": {
        "id": "dOZqELVAx6rB"
      },
      "execution_count": 32,
      "outputs": []
    },
    {
      "cell_type": "code",
      "source": [
        "student_marks"
      ],
      "metadata": {
        "colab": {
          "base_uri": "https://localhost:8080/"
        },
        "id": "hJriexVqLi89",
        "outputId": "19fe426b-50e1-46ff-8f4e-26c04e0979b7"
      },
      "execution_count": 34,
      "outputs": [
        {
          "output_type": "execute_result",
          "data": {
            "text/plain": [
              "{'Emma': {'Math': 88, 'Science': 92, 'English': 85},\n",
              " 'Liam': {'Math': 76, 'Science': 81, 'English': 79},\n",
              " 'Olivia': {'Math': 91, 'Science': 89, 'English': 94},\n",
              " 'Noah': {'Math': 84, 'Science': 87, 'English': 90}}"
            ]
          },
          "metadata": {},
          "execution_count": 34
        }
      ]
    },
    {
      "cell_type": "code",
      "source": [
        "# Modify an existing student's marks\n",
        "student_marks[\"Liam\"][\"Math\"] = 82"
      ],
      "metadata": {
        "id": "sSGi_Ch4x8Fj"
      },
      "execution_count": 35,
      "outputs": []
    },
    {
      "cell_type": "code",
      "source": [
        "student_marks"
      ],
      "metadata": {
        "colab": {
          "base_uri": "https://localhost:8080/"
        },
        "id": "c_ZYqAdrLsbI",
        "outputId": "09ddb4db-f1fe-4b6d-e974-134bdc955685"
      },
      "execution_count": 36,
      "outputs": [
        {
          "output_type": "execute_result",
          "data": {
            "text/plain": [
              "{'Emma': {'Math': 88, 'Science': 92, 'English': 85},\n",
              " 'Liam': {'Math': 82, 'Science': 81, 'English': 79},\n",
              " 'Olivia': {'Math': 91, 'Science': 89, 'English': 94},\n",
              " 'Noah': {'Math': 84, 'Science': 87, 'English': 90}}"
            ]
          },
          "metadata": {},
          "execution_count": 36
        }
      ]
    },
    {
      "cell_type": "code",
      "source": [
        "# Delete a student entry\n",
        "del student_marks[\"Olivia\"]"
      ],
      "metadata": {
        "id": "9B6dZn44x-aC"
      },
      "execution_count": 37,
      "outputs": []
    },
    {
      "cell_type": "code",
      "source": [
        "# Print the updated dictionary\n",
        "print(student_marks)"
      ],
      "metadata": {
        "colab": {
          "base_uri": "https://localhost:8080/"
        },
        "id": "QeDR5Xq4yBeG",
        "outputId": "80166718-5180-469c-94ab-b319446d794b"
      },
      "execution_count": 38,
      "outputs": [
        {
          "output_type": "stream",
          "name": "stdout",
          "text": [
            "{'Emma': {'Math': 88, 'Science': 92, 'English': 85}, 'Liam': {'Math': 82, 'Science': 81, 'English': 79}, 'Noah': {'Math': 84, 'Science': 87, 'English': 90}}\n"
          ]
        }
      ]
    },
    {
      "cell_type": "markdown",
      "source": [
        "### Create a dictionary comprehension that maps numbers (1-10) to their squares."
      ],
      "metadata": {
        "id": "XYcjQteoyVIJ"
      }
    },
    {
      "cell_type": "code",
      "source": [
        "# Dictionary comprehension to map numbers to their squares\n",
        "squares = {x: x**2 for x in range(1, 11)}\n",
        "\n",
        "# Print the resulting dictionary\n",
        "print(\"Dictionary of squares:\", squares)"
      ],
      "metadata": {
        "colab": {
          "base_uri": "https://localhost:8080/"
        },
        "id": "tcjh6BXzyVTx",
        "outputId": "354a65e2-42ad-46e3-c448-74bb4daa2ce0"
      },
      "execution_count": 39,
      "outputs": [
        {
          "output_type": "stream",
          "name": "stdout",
          "text": [
            "Dictionary of squares: {1: 1, 2: 4, 3: 9, 4: 16, 5: 25, 6: 36, 7: 49, 8: 64, 9: 81, 10: 100}\n"
          ]
        }
      ]
    },
    {
      "cell_type": "markdown",
      "source": [
        "# Afternoon Session"
      ],
      "metadata": {
        "id": "e1eZQAxr5N-7"
      }
    },
    {
      "cell_type": "markdown",
      "source": [
        "### Write a program to format a string into uppercase, lowercase, and title case."
      ],
      "metadata": {
        "id": "voWOk_mq5YnI"
      }
    },
    {
      "cell_type": "code",
      "source": [
        "# Input string\n",
        "input_string = \"The quick brown fox jumps over the lazy dog.\""
      ],
      "metadata": {
        "id": "ZvjfJbe75PzO"
      },
      "execution_count": 40,
      "outputs": []
    },
    {
      "cell_type": "code",
      "source": [
        "# Convert to uppercase\n",
        "uppercase_string = input_string.upper()"
      ],
      "metadata": {
        "id": "SmzG_mCC57ZZ"
      },
      "execution_count": 41,
      "outputs": []
    },
    {
      "cell_type": "code",
      "source": [
        "print(uppercase_string)"
      ],
      "metadata": {
        "colab": {
          "base_uri": "https://localhost:8080/"
        },
        "id": "Aw5p7_sGM0NJ",
        "outputId": "cf01b6c8-cdc1-447b-883c-bb87622fef5a"
      },
      "execution_count": 42,
      "outputs": [
        {
          "output_type": "stream",
          "name": "stdout",
          "text": [
            "THE QUICK BROWN FOX JUMPS OVER THE LAZY DOG.\n"
          ]
        }
      ]
    },
    {
      "cell_type": "code",
      "source": [
        "# Convert to lowercase\n",
        "lowercase_string = input_string.lower()\n",
        "print(lowercase_string)"
      ],
      "metadata": {
        "colab": {
          "base_uri": "https://localhost:8080/"
        },
        "id": "3wVvWKw7599F",
        "outputId": "a7766964-4808-49fe-f793-9e60a13a6ce0"
      },
      "execution_count": 43,
      "outputs": [
        {
          "output_type": "stream",
          "name": "stdout",
          "text": [
            "the quick brown fox jumps over the lazy dog.\n"
          ]
        }
      ]
    },
    {
      "cell_type": "code",
      "source": [
        "# Convert to title case\n",
        "titlecase_string = input_string.title()\n",
        "print(titlecase_string)"
      ],
      "metadata": {
        "colab": {
          "base_uri": "https://localhost:8080/"
        },
        "id": "rOV_rstn6AP9",
        "outputId": "8f302cbb-c8a9-4abe-bc60-d5156314681e"
      },
      "execution_count": 44,
      "outputs": [
        {
          "output_type": "stream",
          "name": "stdout",
          "text": [
            "The Quick Brown Fox Jumps Over The Lazy Dog.\n"
          ]
        }
      ]
    },
    {
      "cell_type": "code",
      "source": [
        "# Print the results\n",
        "print(\"Original String:\", input_string)\n",
        "print(\"Uppercase:\", uppercase_string)\n",
        "print(\"Lowercase:\", lowercase_string)\n",
        "print(\"Title Case:\", titlecase_string)"
      ],
      "metadata": {
        "colab": {
          "base_uri": "https://localhost:8080/"
        },
        "id": "4A5HN66d6B7L",
        "outputId": "67dd32dd-36a6-46e9-c070-2c3d45ea925a"
      },
      "execution_count": 45,
      "outputs": [
        {
          "output_type": "stream",
          "name": "stdout",
          "text": [
            "Original String: The quick brown fox jumps over the lazy dog.\n",
            "Uppercase: THE QUICK BROWN FOX JUMPS OVER THE LAZY DOG.\n",
            "Lowercase: the quick brown fox jumps over the lazy dog.\n",
            "Title Case: The Quick Brown Fox Jumps Over The Lazy Dog.\n"
          ]
        }
      ]
    },
    {
      "cell_type": "markdown",
      "source": [
        "### Split a string on commas and join it back with semicolons."
      ],
      "metadata": {
        "id": "QPADqsWU5bhx"
      }
    },
    {
      "cell_type": "code",
      "source": [
        "# Input string (list of items separated by commas)\n",
        "shopping_list = \"Alexa,Siri,Co-Pilot,Gemini,ChatGPT\""
      ],
      "metadata": {
        "id": "NOsGjEy_5cNM"
      },
      "execution_count": 46,
      "outputs": []
    },
    {
      "cell_type": "code",
      "source": [
        "# Split the string on commas\n",
        "items = shopping_list.split(',')\n",
        "print(items)"
      ],
      "metadata": {
        "colab": {
          "base_uri": "https://localhost:8080/"
        },
        "id": "dGGZSPIL7IWO",
        "outputId": "25ba7501-a543-4509-8f8f-acedd536efa8"
      },
      "execution_count": 48,
      "outputs": [
        {
          "output_type": "stream",
          "name": "stdout",
          "text": [
            "['Alexa', 'Siri', 'Co-Pilot', 'Gemini', 'ChatGPT']\n"
          ]
        }
      ]
    },
    {
      "cell_type": "code",
      "source": [
        "# Join the list of items with semicolons\n",
        "semicolon_separated = ';'.join(items)"
      ],
      "metadata": {
        "id": "jdlXBz7l7KNO"
      },
      "execution_count": 49,
      "outputs": []
    },
    {
      "cell_type": "code",
      "source": [
        "# Print the results\n",
        "print(\"Original string:\", shopping_list)\n",
        "print(\"Split into a list:\", items)\n",
        "print(\"Joined with semicolons:\", semicolon_separated)"
      ],
      "metadata": {
        "colab": {
          "base_uri": "https://localhost:8080/"
        },
        "id": "Y6J57gQo7L8K",
        "outputId": "24fed273-91b5-44cc-d6a3-fc14dcf1e560"
      },
      "execution_count": 50,
      "outputs": [
        {
          "output_type": "stream",
          "name": "stdout",
          "text": [
            "Original string: Alexa,Siri,Co-Pilot,Gemini,ChatGPT\n",
            "Split into a list: ['Alexa', 'Siri', 'Co-Pilot', 'Gemini', 'ChatGPT']\n",
            "Joined with semicolons: Alexa;Siri;Co-Pilot;Gemini;ChatGPT\n"
          ]
        }
      ]
    },
    {
      "cell_type": "markdown",
      "source": [
        "### Validate if a string is a valid email address using re.match()."
      ],
      "metadata": {
        "id": "KhtWRtPr7dHN"
      }
    },
    {
      "cell_type": "code",
      "source": [
        "import re\n",
        "\n",
        "# Function to validate email address\n",
        "def validate_email(email):\n",
        "    # Regular expression for basic email validation\n",
        "    pattern = r'^[a-zA-Z0-9_.+-]+@[a-zA-Z0-9-]+\\.[a-zA-Z0-9-.]+$'\n",
        "\n",
        "    # Use re.match() to check if the email matches the pattern\n",
        "    if re.match(pattern, email):\n",
        "        return True\n",
        "    else:\n",
        "        return False"
      ],
      "metadata": {
        "id": "xpShCpz37cUX"
      },
      "execution_count": 51,
      "outputs": []
    },
    {
      "cell_type": "markdown",
      "source": [
        "**Explanation:**\n",
        "\n",
        "Regular expression pattern:\n",
        "\n",
        "* `^[a-zA-Z0-9_.+-]+`: Matches one or more characters from letters, digits, underscores, dots, plus, or hyphen before the \"@\" symbol.\n",
        "\n",
        "* `@[a-zA-Z0-9-]+`: Matches the \"@\" symbol followed by one or more letters, digits, or hyphens for the domain name.\n",
        "\n",
        "* `\\.[a-zA-Z0-9-.]+$`: Matches a period followed by domain extensions (like .com, .org), with letters, digits, or hyphens allowed after the dot.\n",
        "\n",
        "* `re.match()`: It checks if the email string matches the provided pattern. If it matches, the function returns True, otherwise False.\n",
        "\n",
        "This pattern provides basic validation. For more strict validation, additional checks (like handling different domain extensions or ensuring the domain part is fully qualified) might be required."
      ],
      "metadata": {
        "id": "U8EXwwg170Zp"
      }
    },
    {
      "cell_type": "code",
      "source": [
        "# Test the function with some examples\n",
        "email1 = \"test@example.com\"\n",
        "email2 = \"invalid-email@com\"\n",
        "email3 = \"valid_email123@domain.co\"\n",
        "\n",
        "print(f\"{email1} is valid: {validate_email(email1)}\")\n",
        "print(f\"{email2} is valid: {validate_email(email2)}\")\n",
        "print(f\"{email3} is valid: {validate_email(email3)}\")"
      ],
      "metadata": {
        "colab": {
          "base_uri": "https://localhost:8080/"
        },
        "id": "rA_aHMrh7uTS",
        "outputId": "c7c36301-0df9-4ef8-93d2-ac41c7d84d80"
      },
      "execution_count": 52,
      "outputs": [
        {
          "output_type": "stream",
          "name": "stdout",
          "text": [
            "test@example.com is valid: True\n",
            "invalid-email@com is valid: False\n",
            "valid_email123@domain.co is valid: True\n"
          ]
        }
      ]
    },
    {
      "cell_type": "markdown",
      "source": [
        "### Write a function to check if a string is a palindrome."
      ],
      "metadata": {
        "id": "Ry7ZNdrL8h6w"
      }
    },
    {
      "cell_type": "code",
      "source": [
        "def is_palindrome(s):\n",
        "    # Remove spaces and convert to lowercase for uniformity\n",
        "    cleaned_string = s.replace(\" \", \"\").lower()\n",
        "\n",
        "    # Check if the string is the same when reversed\n",
        "    return cleaned_string == cleaned_string[::-1]"
      ],
      "metadata": {
        "id": "0wXws9kN8iwE"
      },
      "execution_count": 53,
      "outputs": []
    },
    {
      "cell_type": "code",
      "source": [
        "# Test the function with some examples\n",
        "test_strings = [\n",
        "    \"racecar\",        # Palindrome\n",
        "    \"hello\",          # Not a palindrome\n",
        "    \"A man a plan a canal Panama\",  # Palindrome with spaces\n",
        "    \"Was it a car or a cat I saw?\"  # Palindrome with punctuation\n",
        "]"
      ],
      "metadata": {
        "id": "Coa7HhKP83Ji"
      },
      "execution_count": 54,
      "outputs": []
    },
    {
      "cell_type": "code",
      "source": [
        "for test in test_strings:\n",
        "    print(f\"'{test}' is palindrome: {is_palindrome(test)}\")"
      ],
      "metadata": {
        "colab": {
          "base_uri": "https://localhost:8080/"
        },
        "id": "Mv5SUxPm841j",
        "outputId": "63f30e96-bb33-4964-a146-8a34ee0598fc"
      },
      "execution_count": 55,
      "outputs": [
        {
          "output_type": "stream",
          "name": "stdout",
          "text": [
            "'racecar' is palindrome: True\n",
            "'hello' is palindrome: False\n",
            "'A man a plan a canal Panama' is palindrome: True\n",
            "'Was it a car or a cat I saw?' is palindrome: False\n"
          ]
        }
      ]
    },
    {
      "cell_type": "markdown",
      "source": [
        "### Count occurrences of the word \"Python\" in a multi-line string."
      ],
      "metadata": {
        "id": "bQJoAe849GM0"
      }
    },
    {
      "cell_type": "code",
      "source": [
        "import re\n",
        "\n",
        "def count_python_occurrences(text):\n",
        "    # Use re.findall() to find all occurrences of the word \"Python\" (case-insensitive)\n",
        "    occurrences = re.findall(r'\\bPython\\b', text, flags=re.IGNORECASE)\n",
        "    return len(occurrences)"
      ],
      "metadata": {
        "id": "BbqYVY0D9HU_"
      },
      "execution_count": 56,
      "outputs": []
    },
    {
      "cell_type": "code",
      "source": [
        "# Example multi-line string\n",
        "multi_line_string = \"\"\"\n",
        "Python is a powerful programming language.\n",
        "Many developers love Python because it's versatile.\n",
        "Python supports multiple paradigms, including object-oriented and functional programming.\n",
        "Python is widely used in web development, data science, automation, and more.\n",
        "\"\"\""
      ],
      "metadata": {
        "id": "sDgdMh_J9MQG"
      },
      "execution_count": 57,
      "outputs": []
    },
    {
      "cell_type": "code",
      "source": [
        "# Count the occurrences of \"Python\"\n",
        "count = count_python_occurrences(multi_line_string)\n",
        "\n",
        "print(f\"The word 'Python' appears {count} times in the text.\")"
      ],
      "metadata": {
        "colab": {
          "base_uri": "https://localhost:8080/"
        },
        "id": "K9jraLry9P04",
        "outputId": "54fda812-c7d7-4fe6-f59a-91d5cbd00b14"
      },
      "execution_count": 59,
      "outputs": [
        {
          "output_type": "stream",
          "name": "stdout",
          "text": [
            "The word 'Python' appears 4 times in the text.\n"
          ]
        }
      ]
    },
    {
      "cell_type": "markdown",
      "source": [
        "### Write a function to check if a string is a pangram.\n",
        "\n",
        "A pangram is a sentence that contains every letter of the alphabet at least once. Here's a function to check if a given string is a pangram:"
      ],
      "metadata": {
        "id": "aVO0UD7V9RdQ"
      }
    },
    {
      "cell_type": "code",
      "source": [
        "import string\n",
        "\n",
        "def is_pangram(s):\n",
        "    # Convert the string to lowercase and remove any non-alphabetic characters\n",
        "    s = s.lower()\n",
        "\n",
        "    # Create a set of all alphabet characters\n",
        "    alphabet_set = set(string.ascii_lowercase)\n",
        "\n",
        "    # Create a set of characters in the input string\n",
        "    input_set = set(filter(str.isalpha, s))\n",
        "\n",
        "    # Check if the input set contains all letters of the alphabet\n",
        "    return input_set == alphabet_set"
      ],
      "metadata": {
        "id": "5dFx4Dfd9aeG"
      },
      "execution_count": 60,
      "outputs": []
    },
    {
      "cell_type": "code",
      "source": [
        "# Test the function with some examples\n",
        "test_strings = [\n",
        "    \"The quick brown fox jumps over the lazy dog\",  # Pangram\n",
        "    \"Hello World\",  # Not a pangram\n",
        "    \"Pack my box with five dozen liquor jugs\"  # Pangram\n",
        "]"
      ],
      "metadata": {
        "id": "WDKwOWno9lV-"
      },
      "execution_count": 61,
      "outputs": []
    },
    {
      "cell_type": "code",
      "source": [
        "for test in test_strings:\n",
        "    print(f\"'{test}' is a pangram: {is_pangram(test)}\")"
      ],
      "metadata": {
        "colab": {
          "base_uri": "https://localhost:8080/"
        },
        "id": "IukJseUg9m8f",
        "outputId": "e47e98ed-3506-4852-e8f0-0fba17099312"
      },
      "execution_count": 62,
      "outputs": [
        {
          "output_type": "stream",
          "name": "stdout",
          "text": [
            "'The quick brown fox jumps over the lazy dog' is a pangram: True\n",
            "'Hello World' is a pangram: False\n",
            "'Pack my box with five dozen liquor jugs' is a pangram: True\n"
          ]
        }
      ]
    },
    {
      "cell_type": "markdown",
      "source": [
        "## File Handling"
      ],
      "metadata": {
        "id": "aignTTA7NdN2"
      }
    },
    {
      "cell_type": "markdown",
      "source": [
        "For File handling we can mount the Google Drive for the files to be accessed and stored in Drive else **you can also work without mounting the drive but Files be will deleted after runtime is disconnected**"
      ],
      "metadata": {
        "id": "08lke8viPazV"
      }
    },
    {
      "cell_type": "code",
      "source": [
        "# mount Google Drive\n",
        "from google.colab import drive\n",
        "drive.mount('/content/drive')"
      ],
      "metadata": {
        "colab": {
          "base_uri": "https://localhost:8080/"
        },
        "id": "Q4RbBqyHP2Me",
        "outputId": "e30bb2f4-d0bb-4d7f-d8e5-2c74bb0efe15"
      },
      "execution_count": 68,
      "outputs": [
        {
          "output_type": "stream",
          "name": "stdout",
          "text": [
            "Mounted at /content/drive\n"
          ]
        }
      ]
    },
    {
      "cell_type": "markdown",
      "source": [
        "### Write a program to read a text file and count the number of words and lines in it.\n"
      ],
      "metadata": {
        "id": "GMfIPedQ-ChI"
      }
    },
    {
      "cell_type": "code",
      "source": [
        "def count_words_and_lines(file_path):\n",
        "    # Initialize counters for lines and words\n",
        "    line_count = 0\n",
        "    word_count = 0\n",
        "\n",
        "    # Open the file and read line by line\n",
        "    with open(file_path, 'r') as file:\n",
        "        for line in file:\n",
        "            line_count += 1  # Increment line counter\n",
        "            words = line.split()  # Split the line into words\n",
        "            word_count += len(words)  # Increment word counter by the number of words in the line\n",
        "\n",
        "    return line_count, word_count"
      ],
      "metadata": {
        "id": "fakNyPk3-DiQ"
      },
      "execution_count": 63,
      "outputs": []
    },
    {
      "cell_type": "code",
      "source": [
        "# Example usage\n",
        "file_path = \"/content/drive/MyDrive/IBM ICE /Introduction to Python Programming/sample.txt\"  # Replace with your file path\n",
        "lines, words = count_words_and_lines(file_path)\n",
        "\n",
        "print(f\"The file contains {lines} lines and {words} words.\")"
      ],
      "metadata": {
        "colab": {
          "base_uri": "https://localhost:8080/"
        },
        "id": "VjQX8Kqd-JLm",
        "outputId": "43f7c0bc-27e9-481b-c190-367b1e23445d"
      },
      "execution_count": 69,
      "outputs": [
        {
          "output_type": "stream",
          "name": "stdout",
          "text": [
            "The file contains 3 lines and 17 words.\n"
          ]
        }
      ]
    },
    {
      "cell_type": "markdown",
      "source": [
        "### Create a new file and write the multiplication table of a given number into it."
      ],
      "metadata": {
        "id": "EEQmt2A9HHME"
      }
    },
    {
      "cell_type": "code",
      "source": [
        "def write_multiplication_table(number, file_name):\n",
        "    # Open the file in write mode (this will create the file if it doesn't exist)\n",
        "    with open(file_name, 'w') as file:\n",
        "        # Write the multiplication table into the file\n",
        "        for i in range(1, 11):\n",
        "            result = number * i\n",
        "            file.write(f\"{number} x {i} = {result}\\n\")\n",
        "\n",
        "    print(f\"Multiplication table of {number} has been written to {file_name}\")"
      ],
      "metadata": {
        "id": "nOb-ZFXUHIT8"
      },
      "execution_count": 70,
      "outputs": []
    },
    {
      "cell_type": "code",
      "source": [
        "# Example usage\n",
        "number = 5  # Replace with any number for the multiplication table\n",
        "file_name = \"multiplication_table.txt\"  # Name of the file to save the table"
      ],
      "metadata": {
        "id": "LkPeq5NjI_0g"
      },
      "execution_count": 71,
      "outputs": []
    },
    {
      "cell_type": "code",
      "source": [
        "write_multiplication_table(number, file_name)"
      ],
      "metadata": {
        "colab": {
          "base_uri": "https://localhost:8080/"
        },
        "id": "W8MNDyFDJC6q",
        "outputId": "6a0404cb-8725-4882-925d-420a4499e1bb"
      },
      "execution_count": 72,
      "outputs": [
        {
          "output_type": "stream",
          "name": "stdout",
          "text": [
            "Multiplication table of 5 has been written to multiplication_table.txt\n"
          ]
        }
      ]
    },
    {
      "cell_type": "code",
      "source": [
        "# Let's check the file\n",
        "\n",
        "with open('/content/multiplication_table.txt', 'r') as file:\n",
        "    for line in file:\n",
        "        print(line.strip())"
      ],
      "metadata": {
        "colab": {
          "base_uri": "https://localhost:8080/"
        },
        "id": "CU51_bOkQdW9",
        "outputId": "84e5ac36-fab9-4c3b-bac1-0f40b33e691f"
      },
      "execution_count": 76,
      "outputs": [
        {
          "output_type": "stream",
          "name": "stdout",
          "text": [
            "5 x 1 = 5\n",
            "5 x 2 = 10\n",
            "5 x 3 = 15\n",
            "5 x 4 = 20\n",
            "5 x 5 = 25\n",
            "5 x 6 = 30\n",
            "5 x 7 = 35\n",
            "5 x 8 = 40\n",
            "5 x 9 = 45\n",
            "5 x 10 = 50\n"
          ]
        }
      ]
    },
    {
      "cell_type": "markdown",
      "source": [
        "### Write a program to read a file line by line using a generator for memory efficiency."
      ],
      "metadata": {
        "id": "4ACiwy3AJQ2R"
      }
    },
    {
      "cell_type": "code",
      "source": [
        "def read_file_line_by_line(file_path):\n",
        "    # Generator function to read file line by line\n",
        "    with open(file_path, 'r') as file:\n",
        "        for line in file:\n",
        "            yield line.strip()  # Yield each line, stripping the newline character"
      ],
      "metadata": {
        "id": "lUPaB0kuJRa8"
      },
      "execution_count": 77,
      "outputs": []
    },
    {
      "cell_type": "code",
      "source": [
        "# Example usage\n",
        "file_path = \"/content/drive/MyDrive/IBM ICE /Introduction to Python Programming/sample.txt\"  # Replace with your file path"
      ],
      "metadata": {
        "id": "FWZsDAlQJUWO"
      },
      "execution_count": 80,
      "outputs": []
    },
    {
      "cell_type": "code",
      "source": [
        "# Using the generator to read lines one by one\n",
        "for line in read_file_line_by_line(file_path):\n",
        "    print(line)"
      ],
      "metadata": {
        "colab": {
          "base_uri": "https://localhost:8080/"
        },
        "id": "AX7QCcfKJWFa",
        "outputId": "ecc20bab-27d8-42ba-f02f-ddfd1cfbd189"
      },
      "execution_count": 81,
      "outputs": [
        {
          "output_type": "stream",
          "name": "stdout",
          "text": [
            "Hello, this is a sample file.\n",
            "It contains several lines and words.\n",
            "Each line will be counted.\n"
          ]
        }
      ]
    },
    {
      "cell_type": "code",
      "source": [],
      "metadata": {
        "id": "GIsme67eQ_KV"
      },
      "execution_count": null,
      "outputs": []
    }
  ]
}