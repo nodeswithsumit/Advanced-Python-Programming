{
  "nbformat": 4,
  "nbformat_minor": 0,
  "metadata": {
    "colab": {
      "provenance": [],
      "authorship_tag": "ABX9TyP/jjo1g5XgpF/JJNSdgpNA",
      "include_colab_link": true
    },
    "kernelspec": {
      "name": "python3",
      "display_name": "Python 3"
    },
    "language_info": {
      "name": "python"
    }
  },
  "cells": [
    {
      "cell_type": "markdown",
      "metadata": {
        "id": "view-in-github",
        "colab_type": "text"
      },
      "source": [
        "<a href=\"https://colab.research.google.com/github/nodeswithsumit/Advanced-Python-Programming/blob/main/Fullstack_Python_Basics.ipynb\" target=\"_parent\"><img src=\"https://colab.research.google.com/assets/colab-badge.svg\" alt=\"Open In Colab\"/></a>"
      ]
    },
    {
      "cell_type": "markdown",
      "source": [
        "# *Foundations of Programming*"
      ],
      "metadata": {
        "id": "8hUoDi8_KSxN"
      }
    },
    {
      "cell_type": "markdown",
      "source": [
        "zdfxgchvjbknlm;"
      ],
      "metadata": {
        "id": "-BVtdaRXLMZl"
      }
    },
    {
      "cell_type": "code",
      "execution_count": 1,
      "metadata": {
        "colab": {
          "base_uri": "https://localhost:8080/"
        },
        "id": "2WSUAVW8riro",
        "outputId": "c74b6dcf-1a73-46ec-9117-857cc8859dba"
      },
      "outputs": [
        {
          "output_type": "stream",
          "name": "stdout",
          "text": [
            "['False', 'None', 'True', 'and', 'as', 'assert', 'async', 'await', 'break', 'class', 'continue', 'def', 'del', 'elif', 'else', 'except', 'finally', 'for', 'from', 'global', 'if', 'import', 'in', 'is', 'lambda', 'nonlocal', 'not', 'or', 'pass', 'raise', 'return', 'try', 'while', 'with', 'yield']\n"
          ]
        }
      ],
      "source": [
        "# keywords -- reserved words which has its own meaning in programming language.\n",
        "import keyword\n",
        "print(keyword.kwlist)"
      ]
    },
    {
      "cell_type": "code",
      "source": [
        "help('keywords')"
      ],
      "metadata": {
        "colab": {
          "base_uri": "https://localhost:8080/"
        },
        "id": "oplLQxA9uJi7",
        "outputId": "090a1c89-b9a8-44aa-b559-af3eed3e8b71"
      },
      "execution_count": 2,
      "outputs": [
        {
          "output_type": "stream",
          "name": "stdout",
          "text": [
            "\n",
            "Here is a list of the Python keywords.  Enter any keyword to get more help.\n",
            "\n",
            "False               class               from                or\n",
            "None                continue            global              pass\n",
            "True                def                 if                  raise\n",
            "and                 del                 import              return\n",
            "as                  elif                in                  try\n",
            "assert              else                is                  while\n",
            "async               except              lambda              with\n",
            "await               finally             nonlocal            yield\n",
            "break               for                 not                 \n",
            "\n"
          ]
        }
      ]
    },
    {
      "cell_type": "code",
      "source": [
        "# identifiers - names given to the prts of programming languages.\n",
        "\n",
        "var = 59\n",
        "print( var)"
      ],
      "metadata": {
        "colab": {
          "base_uri": "https://localhost:8080/"
        },
        "id": "BhxcWnz5uuXM",
        "outputId": "90d668de-aa50-4948-f746-4cbb29f61637"
      },
      "execution_count": 3,
      "outputs": [
        {
          "output_type": "stream",
          "name": "stdout",
          "text": [
            "59\n"
          ]
        }
      ]
    },
    {
      "cell_type": "markdown",
      "source": [],
      "metadata": {
        "id": "brmmVzwpNHxO"
      }
    },
    {
      "cell_type": "code",
      "source": [
        "# literals -- the numbers in python programming or any other programming languages.\n",
        "# These can be string literal also, or it can be direct number.\n",
        "\n",
        "str_l = \"12.5\"\n",
        "num_l = 12.5\n",
        "print(str_l, num_l)"
      ],
      "metadata": {
        "colab": {
          "base_uri": "https://localhost:8080/"
        },
        "id": "gUbVV0QPMkmK",
        "outputId": "23c57bfb-f12a-45b2-ae35-6104de1c0bbe"
      },
      "execution_count": 4,
      "outputs": [
        {
          "output_type": "stream",
          "name": "stdout",
          "text": [
            "12.5 12.5\n"
          ]
        }
      ]
    },
    {
      "cell_type": "code",
      "source": [
        "# punctuators - symbols used in the programming languages\n",
        "import string\n",
        "print(string.punctuation)"
      ],
      "metadata": {
        "colab": {
          "base_uri": "https://localhost:8080/"
        },
        "id": "6ykhYTMnN6OS",
        "outputId": "522b7ddb-933a-4510-f49e-95874c5b47cf"
      },
      "execution_count": 5,
      "outputs": [
        {
          "output_type": "stream",
          "name": "stdout",
          "text": [
            "!\"#$%&'()*+,-./:;<=>?@[\\]^_`{|}~\n"
          ]
        }
      ]
    },
    {
      "cell_type": "markdown",
      "source": [
        "# operators\n",
        "These are going to help you to do some certain number of operations in python, and that can be of various types like :\n",
        "\n",
        "\n",
        "1. Arithemtic\n",
        "2. Assignment\n",
        "3. Logical\n",
        "4. Relational (comparison)\n",
        "5. Membership\n",
        "6. Identity\n",
        "7. Bitwise"
      ],
      "metadata": {
        "id": "daMDEupQPMyU"
      }
    },
    {
      "cell_type": "markdown",
      "source": [
        "### Python Numbers\n",
        "\n",
        "* integers = whole numbers -- NO DECIMAL\n",
        "* float = real numbers -- MAND. DECIMAL\n",
        "* complex = real + imaginary (a+bj), a = real, b = imag"
      ],
      "metadata": {
        "id": "wFjZkQA3P7Rc"
      }
    },
    {
      "cell_type": "code",
      "source": [
        "aint = -45\n",
        "flat = 3/4\n",
        "comp = aint + 5j\n",
        "print(aint, flat, comp)"
      ],
      "metadata": {
        "colab": {
          "base_uri": "https://localhost:8080/"
        },
        "id": "a28a-duoOU5o",
        "outputId": "e5318aa5-18a5-4c24-cde6-9df06d1ce4a3"
      },
      "execution_count": 6,
      "outputs": [
        {
          "output_type": "stream",
          "name": "stdout",
          "text": [
            "-45 0.75 (-45+5j)\n"
          ]
        }
      ]
    },
    {
      "cell_type": "code",
      "source": [],
      "metadata": {
        "id": "cwMpKhpHRWzl"
      },
      "execution_count": null,
      "outputs": []
    }
  ]
}